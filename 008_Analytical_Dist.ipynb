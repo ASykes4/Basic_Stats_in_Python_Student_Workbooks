{
 "cells": [
  {
   "cell_type": "code",
   "execution_count": 107,
   "metadata": {},
   "outputs": [],
   "source": [
    "import pandas as pd\n",
    "import numpy as np\n",
    "import thinkplot\n",
    "import thinkstats2\n",
    "import math\n",
    "import matplotlib.pyplot as plt\n",
    "import seaborn as sns"
   ]
  },
  {
   "cell_type": "markdown",
   "metadata": {},
   "source": [
    "# Analytical Distributions\n",
    "\n",
    "We can use analytical distributions to help us learn from our data, and to build towards using our data as a tool. \n",
    "\n",
    "Here we can start by using an analytical distribution to build a model that will help us to predict the daily investment return on the stock price of Microsoft. \n"
   ]
  },
  {
   "cell_type": "code",
   "execution_count": 108,
   "metadata": {},
   "outputs": [
    {
     "data": {
      "text/html": [
       "<div>\n",
       "<style scoped>\n",
       "    .dataframe tbody tr th:only-of-type {\n",
       "        vertical-align: middle;\n",
       "    }\n",
       "\n",
       "    .dataframe tbody tr th {\n",
       "        vertical-align: top;\n",
       "    }\n",
       "\n",
       "    .dataframe thead th {\n",
       "        text-align: right;\n",
       "    }\n",
       "</style>\n",
       "<table border=\"1\" class=\"dataframe\">\n",
       "  <thead>\n",
       "    <tr style=\"text-align: right;\">\n",
       "      <th></th>\n",
       "      <th>Date</th>\n",
       "      <th>Close</th>\n",
       "    </tr>\n",
       "  </thead>\n",
       "  <tbody>\n",
       "    <tr>\n",
       "      <th>0</th>\n",
       "      <td>2018-01-01</td>\n",
       "      <td>88.190002</td>\n",
       "    </tr>\n",
       "    <tr>\n",
       "      <th>1</th>\n",
       "      <td>2018-01-08</td>\n",
       "      <td>89.599998</td>\n",
       "    </tr>\n",
       "    <tr>\n",
       "      <th>2</th>\n",
       "      <td>2018-01-15</td>\n",
       "      <td>90.000000</td>\n",
       "    </tr>\n",
       "    <tr>\n",
       "      <th>3</th>\n",
       "      <td>2018-01-22</td>\n",
       "      <td>94.059998</td>\n",
       "    </tr>\n",
       "    <tr>\n",
       "      <th>4</th>\n",
       "      <td>2018-01-29</td>\n",
       "      <td>91.779999</td>\n",
       "    </tr>\n",
       "  </tbody>\n",
       "</table>\n",
       "</div>"
      ],
      "text/plain": [
       "         Date      Close\n",
       "0  2018-01-01  88.190002\n",
       "1  2018-01-08  89.599998\n",
       "2  2018-01-15  90.000000\n",
       "3  2018-01-22  94.059998\n",
       "4  2018-01-29  91.779999"
      ]
     },
     "execution_count": 108,
     "metadata": {},
     "output_type": "execute_result"
    }
   ],
   "source": [
    "#Load data, loose the excess\n",
    "df = pd.read_csv('data/MSFT.csv')\n",
    "df = df[['Date', 'Close']]\n",
    "df.head()"
   ]
  },
  {
   "cell_type": "markdown",
   "metadata": {},
   "source": [
    "#### Data Preparation\n",
    "\n",
    "We need to change the original data into the daily return. This code uses the diff() function to calculate the difference in price from yesterday to today. This daily gain/loss is then divided by the closing price to produce the daily percentage return, which is what we will look at. "
   ]
  },
  {
   "cell_type": "code",
   "execution_count": 109,
   "metadata": {},
   "outputs": [
    {
     "data": {
      "text/html": [
       "<div>\n",
       "<style scoped>\n",
       "    .dataframe tbody tr th:only-of-type {\n",
       "        vertical-align: middle;\n",
       "    }\n",
       "\n",
       "    .dataframe tbody tr th {\n",
       "        vertical-align: top;\n",
       "    }\n",
       "\n",
       "    .dataframe thead th {\n",
       "        text-align: right;\n",
       "    }\n",
       "</style>\n",
       "<table border=\"1\" class=\"dataframe\">\n",
       "  <thead>\n",
       "    <tr style=\"text-align: right;\">\n",
       "      <th></th>\n",
       "      <th>Date</th>\n",
       "      <th>return</th>\n",
       "    </tr>\n",
       "  </thead>\n",
       "  <tbody>\n",
       "    <tr>\n",
       "      <th>0</th>\n",
       "      <td>2018-01-01</td>\n",
       "      <td>0.015988</td>\n",
       "    </tr>\n",
       "    <tr>\n",
       "      <th>1</th>\n",
       "      <td>2018-01-08</td>\n",
       "      <td>0.004464</td>\n",
       "    </tr>\n",
       "    <tr>\n",
       "      <th>2</th>\n",
       "      <td>2018-01-15</td>\n",
       "      <td>0.045111</td>\n",
       "    </tr>\n",
       "    <tr>\n",
       "      <th>3</th>\n",
       "      <td>2018-01-22</td>\n",
       "      <td>-0.024240</td>\n",
       "    </tr>\n",
       "    <tr>\n",
       "      <th>4</th>\n",
       "      <td>2018-01-29</td>\n",
       "      <td>-0.039224</td>\n",
       "    </tr>\n",
       "  </tbody>\n",
       "</table>\n",
       "</div>"
      ],
      "text/plain": [
       "         Date    return\n",
       "0  2018-01-01  0.015988\n",
       "1  2018-01-08  0.004464\n",
       "2  2018-01-15  0.045111\n",
       "3  2018-01-22 -0.024240\n",
       "4  2018-01-29 -0.039224"
      ]
     },
     "execution_count": 109,
     "metadata": {},
     "output_type": "execute_result"
    }
   ],
   "source": [
    "#Do a little manipulation to get the return\n",
    "df['diff'] = pd.Series(np.diff(df['Close']))\n",
    "df['return'] = df['diff']/df['Close']\n",
    "df = df[['Date', 'return']].dropna()\n",
    "df.head()"
   ]
  },
  {
   "cell_type": "markdown",
   "metadata": {},
   "source": [
    "Our new table is the daily return - i.e. if we invested in MSFT one day, what would the return be from my investment from one day to the next. \n",
    "\n",
    "The first two days can be taken as an example:\n",
    "    - From day 1 to day 2 the price goes up apx $1.4\n",
    "    - $1.4 dollars is approximately 1.6% of the first day price - ~$88\n",
    "    - So if you invested on day one, you'd gain about 1.6%, or .016 <- That's the return value. \n",
    "\n",
    "We can do some of our graphing to take a little look-see and try to determine if this new distribution is normal:"
   ]
  },
  {
   "cell_type": "code",
   "execution_count": 110,
   "metadata": {},
   "outputs": [
    {
     "data": {
      "image/png": "[encoded data removed]",
      "text/plain": [
       "<Figure size 432x288 with 1 Axes>"
      ]
     },
     "metadata": {
      "needs_background": "light"
     },
     "output_type": "display_data"
    }
   ],
   "source": [
    "#Histogram\n",
    "hi = thinkstats2.Hist(round(df[\"return\"], 2), label=\"Price\")\n",
    "thinkplot.Hist(hi)\n",
    "plt.axvline(df['return'].mean(), color='red')\n",
    "thinkplot.Config()"
   ]
  },
  {
   "cell_type": "code",
   "execution_count": 111,
   "metadata": {},
   "outputs": [
    {
     "data": {
      "image/png": "[encoded data removed]",
      "text/plain": [
       "<Figure size 432x288 with 1 Axes>"
      ]
     },
     "metadata": {
      "needs_background": "light"
     },
     "output_type": "display_data"
    }
   ],
   "source": [
    "#CDF look\n",
    "hi_c = thinkstats2.Cdf(hi)\n",
    "thinkplot.Cdf(hi_c)\n",
    "thinkplot.Config()"
   ]
  },
  {
   "cell_type": "code",
   "execution_count": 112,
   "metadata": {},
   "outputs": [
    {
     "data": {
      "text/plain": [
       "48.07692307692308"
      ]
     },
     "execution_count": 112,
     "metadata": {},
     "output_type": "execute_result"
    }
   ],
   "source": [
    "hi_c.PercentileRank(0)"
   ]
  },
  {
   "cell_type": "markdown",
   "metadata": {},
   "source": [
    "### Check for Normality\n",
    "\n",
    "These charts look semi-normal, but not totally. Examine the probability plot to see it a bit closer. \n",
    "\n",
    "The thinkstats2 file provides this easy to use probability plot function. The book (pg 63ish) has the steps to make this broken out a little bit more. \n",
    "\n",
    "The most simple way I can think of to explain it is that it compares if the middle values are near the mean, the low values are near the low, and the high values are near the high. The model line is what we'd expect if the data was perfectly normal, in this one the middle values are close, the low values are a little lower than expected, the high values are a little lower than expected. \n",
    "\n",
    "In English, it is more or less normal for values close to the mean, but the values (the actual % return values) on either end of the distribution are a bit lower than we'd expect if it was normal. "
   ]
  },
  {
   "cell_type": "code",
   "execution_count": 113,
   "metadata": {},
   "outputs": [
    {
     "data": {
      "image/png": "[encoded data removed]",
      "text/plain": [
       "<Figure size 864x432 with 2 Axes>"
      ]
     },
     "metadata": {
      "needs_background": "light"
     },
     "output_type": "display_data"
    }
   ],
   "source": [
    "#Create probability plot\n",
    "thinkplot.clf()\n",
    "thinkplot.PrePlot(2, 1, 2)\n",
    "thinkstats2.NormalProbabilityPlot(df[\"return\"])\n",
    "thinkplot.SubPlot(2)\n",
    "thinkplot.Hist(hi)\n",
    "thinkplot.Config()"
   ]
  },
  {
   "cell_type": "markdown",
   "metadata": {},
   "source": [
    "#### Normality Check\n",
    "\n",
    "The normal probability plot is constructed is a somewhat complex way, that we don't really care about, the interpretation is relatively simple though. \n",
    "<ul>\n",
    "<li> The normal probability plot compares theoretical (i.e. a real normal distribution) values (in Z scores) on the x-axis, vs real quantities on the y-axis. \n",
    "<li> The straight reference line is a real normal distributions. \n",
    "<li> The dots/other line is our data. \n",
    "<li> <b> We read the graph by comparing the blue line to the grey line:</b>\n",
    "    <ul>\n",
    "    <li> If the blue line is overlapping the grey, that shows us that at that point on the x-axis (distance from mean), that the real data \"matches\" what we expect from a normal distribution. \n",
    "    <li> If the blue line is lower than the grey, that shows that at that point on the x-axis, the real data is lower than we'd expect if the distribution was perfectly normal. \n",
    "    <li> If the blue line is higher than the grey, that shows that at that point on the x-axis, the real data is higher than we'd expect if the distribution was perfectly normal. \n",
    "    </ul>\n",
    "</ul>\n",
    "\n",
    "<b>So a perfectly normal distribution will lie right on top of the grey line. The more separation from the grey, the \"less normal\" our data is.</b>\n",
    "\n",
    "Does this one match the line? Is it normal? Ehhhhh.... kind of. The highest and lowest values are both lower than expected. For values near the mean, it is pretty close. \n",
    "\n",
    "We can live on the wild side, assume that it is close enough to normal, and 'use' that normality to do some stuff. "
   ]
  },
  {
   "cell_type": "markdown",
   "metadata": {},
   "source": [
    "### The Power of Being Normal\n",
    "\n",
    "One of the super useful things about these analytical distributions is the simplicity. A normal curve is always the same basic shape, so all we need to do to create one is to know the mean (mu) and standard deviation (sigma). This allows us to easily extrapolate from what we know, and use all the attributes of the normal distribution. Again, this is an approximation, it is not bang on, but that is useful in a lot of cases. \n",
    "\n",
    "The fact that the data in our emperical sample will follow (we hope) that normal distribution pattern, we can apply all of the general knowledge of normal distributions to our situation - the knowledge that X% will fall within certain standard deviation ranges, the ability to infer percentiles, etc... This works even if we don't have a massive sample of data that would allow us to generate those distribution patterns from scratch. \n",
    "\n",
    "While everything in the world isn't normal, many things are, and that knowledge helps us substantially. We can safely assume things such as blood pressure are normally distributed, so if you are able to take a small sample of blood pressure from the population you're looking at, calculate the mean, count, and variance, and create an analytical distribution that you can generalize from confidently. \n",
    "\n",
    "#### The Predictive Power of Analytical Distributions\n",
    "\n",
    "One of the things that our analytical distribution relationship allows us to do is to have a pattern from which to make predictions from. For example, if we find that our daily return data:\n",
    "<ul>\n",
    "<li> Is normally distributed. \n",
    "<li> Has a mean and a standard distribution that we can calculate.\n",
    "</ul>\n",
    "\n",
    "We can then use that information to help us predict - for example if a day trader is trading MSFT stock and he notices that some shares he purchased earlier in the day are up an amount equal to 3 standard deviations in the normal distribution of the daily gain, that would tell the trader that his daily gain is above ~99% of all daily increases in the stock, so it is pretty likely they are in a good position to sell. This isn't definitive of course, the stock could skyrocket, but the more data we have and the better the data fits our model, the more accurate our predictions can be. This is a key concept of machine learning. "
   ]
  },
  {
   "cell_type": "code",
   "execution_count": 114,
   "metadata": {},
   "outputs": [],
   "source": [
    "#Create a normal distribution based on the characteristics of the kinda-normal data\n",
    "import scipy.stats\n",
    "mu = df[\"return\"].mean()\n",
    "sigma = df[\"return\"].std()\n",
    "normz = scipy.stats.norm(mu, sigma)"
   ]
  },
  {
   "cell_type": "markdown",
   "metadata": {},
   "source": [
    "### Samples\n",
    "\n",
    "On thing we see here, and something that is common as we go, is taking a sample from a distribution. In this case we've created a normal distribution based on the emperical data's statistics. This distribution object isn't a dataset, it is a mathmatical representation of the distribution. \n",
    "\n",
    "Below, we want to graph our analytical distribution and compare it to the analytical one. To do so, we take a random sample of values that are generated from the distribution. Here we ask the distribution, \"give me 10,000 values that fit the distribution that is in its settings\". The distribution generates random numbers following the distribution pattern. The exact set of values that we get will be different each time, they are random; as we generate a large number, they will trend towards more closely following the \"expectation\" of the distribution. \n",
    "\n",
    "This idea of sampling will factor into what we do in the near future in important ways, of note:\n",
    "<ul>\n",
    "<li> When we are extracting a sample from a population, we need to evaluate if our sample is representitive of the population. \n",
    "<li> We can generate multiple samples, and count how likely it is to see certain values. This is how the +/- 5%, 19 times out of 20 thing that you see on polling results is derived. \n",
    "</ul>"
   ]
  },
  {
   "cell_type": "code",
   "execution_count": 115,
   "metadata": {},
   "outputs": [
    {
     "data": {
      "text/plain": [
       "<matplotlib.lines.Line2D at 0x1686e65cf10>"
      ]
     },
     "execution_count": 115,
     "metadata": {},
     "output_type": "execute_result"
    },
    {
     "data": {
      "image/png": "[encoded data removed]",
      "text/plain": [
       "<Figure size 432x288 with 1 Axes>"
      ]
     },
     "metadata": {
      "needs_background": "light"
     },
     "output_type": "display_data"
    }
   ],
   "source": [
    "import seaborn as sns\n",
    "sns.histplot(data=normz.rvs(10000), binwidth=.01, color=\"green\", stat=\"density\", kde=True, element=\"poly\", fill=False)\n",
    "sns.histplot(data=df[\"return\"], binwidth=.01, color=\"blue\", stat=\"density\")\n",
    "plt.axvline(mu, color=\"yellow\")"
   ]
  },
  {
   "cell_type": "markdown",
   "metadata": {},
   "source": [
    "#### Distribution Exercises\n",
    "\n",
    "We can use the analytical distribution to do our CDF calculations. "
   ]
  },
  {
   "cell_type": "code",
   "execution_count": 116,
   "metadata": {},
   "outputs": [
    {
     "name": "stdout",
     "output_type": "stream",
     "text": [
      "0.9355110908938288 : 0.9991544890514654\n",
      "0.06364339815763664\n"
     ]
    }
   ],
   "source": [
    "#How many weekly returns are greater than 5%, but less than 10%?\n",
    "lowVal = normz.cdf(.05)\n",
    "hiVal = normz.cdf(.1)\n",
    "print(str(lowVal) + \" : \" + str(hiVal))\n",
    "print(hiVal-lowVal)"
   ]
  },
  {
   "cell_type": "markdown",
   "metadata": {},
   "source": [
    "##### How Likely is it to Loose Money on a Day?"
   ]
  },
  {
   "cell_type": "code",
   "execution_count": 117,
   "metadata": {},
   "outputs": [
    {
     "data": {
      "text/plain": [
       "0.45880600312056974"
      ]
     },
     "execution_count": 117,
     "metadata": {},
     "output_type": "execute_result"
    }
   ],
   "source": [
    "normz.cdf(0)"
   ]
  },
  {
   "cell_type": "markdown",
   "metadata": {},
   "source": [
    "### Test Normality Analytically\n",
    "\n",
    "We have done our normality tests by visually inspecting the distribution. This works quite well, and we can rely on it going forward. There is also a way to do a normality test analytically. \n",
    "\n",
    "We'll do more on hypothesis testing later on, this is one example of it. We are basically doing a test that says, \"do we have evidence that this data comes from a normal distribution?\". The actual calculation is based on two things we'll look at more later - skew (left/right shift of distribution) and kurtosis (steepness of the peak of the distribution)\n",
    "\n",
    "<b>Note:</b> this analytical test is not necessarily better than the visual one. The visual one is good, and if I am doing something, I would generally use that. In particular, it is much more informative if you have data that may be mostly normal, but differs largely due to something like a few outliers. We can see this visually when inspecting the normality, and take action like filter the outlier out. This test can be scripted, so automated processes can be created; as well, if a distribution is closer to a normal distribution pattern, this test will measure those small differences with more precision than the visual method. "
   ]
  },
  {
   "cell_type": "code",
   "execution_count": 118,
   "metadata": {},
   "outputs": [
    {
     "data": {
      "text/plain": [
       "0.23901164802625616"
      ]
     },
     "execution_count": 118,
     "metadata": {},
     "output_type": "execute_result"
    }
   ],
   "source": [
    "#Check Normality with code\n",
    "k2, p = scipy.stats.normaltest(df[\"return\"])\n",
    "p"
   ]
  },
  {
   "cell_type": "markdown",
   "metadata": {},
   "source": [
    "Hypothesis tests are framed in terms of rejecting or accepting a Null Hypothesis. Here our null hypothesis is \"the data is normally distributed\". Our test generates a value that measures (effectively) how confident we can be in rejecting that null hypothesis (the \"p\" value). Below, we check if that result meets our cutoff for confidence; the cutoff is commonly .05, but it varies (we'll look at it more later). \n",
    "\n",
    "In this case, if our p-value is <.05, that meets our confidence cutoff for rejecting the NH, or stating that the data is not normal. If it is higher, we can't be all that confident, so we accept the hypothesis that the data is normal. A lower p value would require that we are more confident that we can reject the NH, a higher p value would require us to be less confident. "
   ]
  },
  {
   "cell_type": "code",
   "execution_count": 119,
   "metadata": {},
   "outputs": [
    {
     "name": "stdout",
     "output_type": "stream",
     "text": [
      "The null hypothesis cannot be rejected\n"
     ]
    }
   ],
   "source": [
    "#If we were to write out our decision....\n",
    "alpha = .05\n",
    "if p < alpha:  # null hypothesis: x comes from a normal distribution\n",
    "    print(\"The null hypothesis can be rejected\")\n",
    "else:\n",
    "    print(\"The null hypothesis cannot be rejected\")"
   ]
  },
  {
   "cell_type": "markdown",
   "metadata": {},
   "source": [
    "### Exercise #1\n",
    "\n",
    "Now try one...\n",
    "\n",
    "<ul>\n",
    "<li>Check and see if NFL weights data fits a normal dist.\n",
    "<li>Create a normal analytical distribution based off of the emperical data.\n",
    "<li>What percentage of people are between 265 and 325? \n",
    "    <ul>\n",
    "    <li>Using the empirical?\n",
    "    <li>Using the analytical?\n",
    "    </ul>\n",
    "<li>What percentage of people are greater than your weight, using both distributions?\n",
    "</ul>\n",
    "\n",
    "If you're fast, try with NBA Weights"
   ]
  },
  {
   "cell_type": "code",
   "execution_count": 120,
   "metadata": {},
   "outputs": [
    {
     "data": {
      "text/plain": [
       "8111     193.0\n",
       "8641     189.0\n",
       "12434    312.0\n",
       "10892    210.0\n",
       "13352    239.0\n",
       "Name: Weight (lbs), dtype: float64"
      ]
     },
     "execution_count": 120,
     "metadata": {},
     "output_type": "execute_result"
    }
   ],
   "source": [
    "#Load data, filter out junk, put in series\n",
    "dfNFL = pd.read_csv(\"data/NFL.csv\")\n",
    "dfNFL = dfNFL[dfNFL[\"Weight (lbs)\"] > 100]\n",
    "nfl = pd.Series(dfNFL[\"Weight (lbs)\"])\n",
    "nfl.sample(5)"
   ]
  },
  {
   "cell_type": "code",
   "execution_count": 121,
   "metadata": {},
   "outputs": [
    {
     "data": {
      "text/plain": [
       "<AxesSubplot:xlabel='Weight (lbs)', ylabel='Count'>"
      ]
     },
     "execution_count": 121,
     "metadata": {},
     "output_type": "execute_result"
    },
    {
     "data": {
      "image/png": "[encoded data removed]",
      "text/plain": [
       "<Figure size 432x288 with 1 Axes>"
      ]
     },
     "metadata": {
      "needs_background": "light"
     },
     "output_type": "display_data"
    }
   ],
   "source": [
    "# Histogram \n",
    "sns.histplot(data=nfl)"
   ]
  },
  {
   "cell_type": "code",
   "execution_count": 122,
   "metadata": {},
   "outputs": [
    {
     "data": {
      "text/plain": [
       "<AxesSubplot:xlabel='Weight (lbs)', ylabel='Density'>"
      ]
     },
     "execution_count": 122,
     "metadata": {},
     "output_type": "execute_result"
    },
    {
     "data": {
      "image/png": "[encoded data removed]",
      "text/plain": [
       "<Figure size 432x288 with 1 Axes>"
      ]
     },
     "metadata": {
      "needs_background": "light"
     },
     "output_type": "display_data"
    }
   ],
   "source": [
    "# pmf\n",
    "sns.kdeplot(data=nfl)"
   ]
  },
  {
   "cell_type": "code",
   "execution_count": 123,
   "metadata": {},
   "outputs": [
    {
     "data": {
      "image/png": "[encoded data removed]",
      "text/plain": [
       "<Figure size 432x288 with 1 Axes>"
      ]
     },
     "metadata": {
      "needs_background": "light"
     },
     "output_type": "display_data"
    }
   ],
   "source": [
    "#Normal Prob Plot\n",
    "thinkstats2.NormalProbabilityPlot(nfl)"
   ]
  },
  {
   "cell_type": "code",
   "execution_count": 124,
   "metadata": {},
   "outputs": [
    {
     "data": {
      "text/plain": [
       "<AxesSubplot:ylabel='Density'>"
      ]
     },
     "execution_count": 124,
     "metadata": {},
     "output_type": "execute_result"
    },
    {
     "data": {
      "image/png": "[encoded data removed]",
      "text/plain": [
       "<Figure size 432x288 with 1 Axes>"
      ]
     },
     "metadata": {
      "needs_background": "light"
     },
     "output_type": "display_data"
    }
   ],
   "source": [
    "#Make analytical normal dist.\n",
    "mu = nfl.mean()\n",
    "sigma = nfl.std()\n",
    "nflNormz = scipy.stats.norm(mu, sigma)\n",
    "sns.kdeplot(data=nflNormz.rvs(10000))"
   ]
  },
  {
   "cell_type": "code",
   "execution_count": 125,
   "metadata": {},
   "outputs": [],
   "source": [
    "#Make an emperical CDF\n",
    "nflEmp = thinkstats2.Cdf(nfl)"
   ]
  },
  {
   "cell_type": "code",
   "execution_count": 126,
   "metadata": {},
   "outputs": [
    {
     "data": {
      "text/plain": [
       "17.10726400748625"
      ]
     },
     "execution_count": 126,
     "metadata": {},
     "output_type": "execute_result"
    }
   ],
   "source": [
    "#Use the emperical CDF\n",
    "#What percentage of people are between 265 and 325\n",
    "nflEmp.PercentileRank(325) - nflEmp.PercentileRank(265)"
   ]
  },
  {
   "cell_type": "code",
   "execution_count": 127,
   "metadata": {},
   "outputs": [
    {
     "data": {
      "text/plain": [
       "18.739682507040946"
      ]
     },
     "execution_count": 127,
     "metadata": {},
     "output_type": "execute_result"
    }
   ],
   "source": [
    "#Use the analytical calculaton\n",
    "#What percentage of people are between 265 and 325\n",
    "# E.g. distribution.cdf(number)\n",
    "(nflNormz.cdf(325) - nflNormz.cdf(265))*100"
   ]
  },
  {
   "cell_type": "code",
   "execution_count": 128,
   "metadata": {},
   "outputs": [],
   "source": [
    "#Who's fatter than me?\n"
   ]
  },
  {
   "cell_type": "markdown",
   "metadata": {},
   "source": [
    "#### Treating Distribution as LogNormal (Skip to next section unless you're comfortable with this)\n",
    "\n",
    "We'll look more at this soon, skip if it makes no sense. If you're comfortable, feel free to attempt. \n",
    "\n",
    "What if our data isn't actually normal, what if it is lognormal, how could we test that? "
   ]
  },
  {
   "cell_type": "code",
   "execution_count": 129,
   "metadata": {},
   "outputs": [
    {
     "data": {
      "image/png": "[encoded data removed]",
      "text/plain": [
       "<Figure size 432x288 with 1 Axes>"
      ]
     },
     "metadata": {
      "needs_background": "light"
     },
     "output_type": "display_data"
    }
   ],
   "source": [
    "#LogNormal Prob Plot\n",
    "thinkstats2.NormalProbabilityPlot(np.log10(nfl))"
   ]
  },
  {
   "cell_type": "code",
   "execution_count": 130,
   "metadata": {},
   "outputs": [
    {
     "data": {
      "text/plain": [
       "(229.52766405427536, 41.93305341008267)"
      ]
     },
     "execution_count": 130,
     "metadata": {},
     "output_type": "execute_result"
    }
   ],
   "source": [
    "#Make Analytical Distribution\n",
    "mu2 = nfl.mean()\n",
    "sigma2 = nfl.std()\n",
    "mu2, sigma2"
   ]
  },
  {
   "cell_type": "code",
   "execution_count": 131,
   "metadata": {},
   "outputs": [],
   "source": [
    "#Make model\n",
    "lnnfl = scipy.stats.lognorm(s=sigma2, scale=math.exp(mu2))\n"
   ]
  },
  {
   "cell_type": "code",
   "execution_count": 132,
   "metadata": {},
   "outputs": [
    {
     "data": {
      "text/plain": [
       "4.004175333519551e+162"
      ]
     },
     "execution_count": 132,
     "metadata": {},
     "output_type": "execute_result"
    }
   ],
   "source": [
    "lnnfl.rvs(10000).mean()"
   ]
  },
  {
   "cell_type": "code",
   "execution_count": 133,
   "metadata": {},
   "outputs": [
    {
     "data": {
      "text/plain": [
       "(0.988600315792898, 0.8012034907224885, 0.18739682507040945)"
      ]
     },
     "execution_count": 133,
     "metadata": {},
     "output_type": "execute_result"
    }
   ],
   "source": [
    "ln325 = lnnfl.cdf(math.exp(325))\n",
    "ln265 = lnnfl.cdf(math.exp(265))\n",
    "ln325,ln265, (ln325-ln265)"
   ]
  },
  {
   "cell_type": "markdown",
   "metadata": {},
   "source": [
    "### LogNormal Distribution\n",
    "\n",
    "We can try another one - lognormal. LogNormal distributions are commonly seen in things like income, the distributions look like a normal distribution where the peak is \"squished\" to the left. \n",
    "\n",
    "Just like with a normal distribution, we can use the properties of a lognormal distribution if our data matches that distribution pattern. So we can run similar tests to evaluate our emperical distribution against lognormal. \n",
    "\n",
    "We will look at the salary distribution of people in Spain.\n",
    "\n",
    "![Log Normal](images/lognorm_norm.png \"Log Normal\")"
   ]
  },
  {
   "cell_type": "code",
   "execution_count": 134,
   "metadata": {},
   "outputs": [
    {
     "data": {
      "text/html": [
       "<div>\n",
       "<style scoped>\n",
       "    .dataframe tbody tr th:only-of-type {\n",
       "        vertical-align: middle;\n",
       "    }\n",
       "\n",
       "    .dataframe tbody tr th {\n",
       "        vertical-align: top;\n",
       "    }\n",
       "\n",
       "    .dataframe thead th {\n",
       "        text-align: right;\n",
       "    }\n",
       "</style>\n",
       "<table border=\"1\" class=\"dataframe\">\n",
       "  <thead>\n",
       "    <tr style=\"text-align: right;\">\n",
       "      <th></th>\n",
       "      <th>year</th>\n",
       "      <th>state</th>\n",
       "      <th>gender</th>\n",
       "      <th>statistic</th>\n",
       "      <th>gross_income_euros</th>\n",
       "    </tr>\n",
       "  </thead>\n",
       "  <tbody>\n",
       "    <tr>\n",
       "      <th>0</th>\n",
       "      <td>2017</td>\n",
       "      <td>nationwide</td>\n",
       "      <td>both</td>\n",
       "      <td>mean</td>\n",
       "      <td>23646.50</td>\n",
       "    </tr>\n",
       "    <tr>\n",
       "      <th>1</th>\n",
       "      <td>2016</td>\n",
       "      <td>nationwide</td>\n",
       "      <td>both</td>\n",
       "      <td>mean</td>\n",
       "      <td>23156.34</td>\n",
       "    </tr>\n",
       "    <tr>\n",
       "      <th>2</th>\n",
       "      <td>2015</td>\n",
       "      <td>nationwide</td>\n",
       "      <td>both</td>\n",
       "      <td>mean</td>\n",
       "      <td>23106.30</td>\n",
       "    </tr>\n",
       "    <tr>\n",
       "      <th>3</th>\n",
       "      <td>2014</td>\n",
       "      <td>nationwide</td>\n",
       "      <td>both</td>\n",
       "      <td>mean</td>\n",
       "      <td>22858.17</td>\n",
       "    </tr>\n",
       "    <tr>\n",
       "      <th>4</th>\n",
       "      <td>2013</td>\n",
       "      <td>nationwide</td>\n",
       "      <td>both</td>\n",
       "      <td>mean</td>\n",
       "      <td>22697.86</td>\n",
       "    </tr>\n",
       "  </tbody>\n",
       "</table>\n",
       "</div>"
      ],
      "text/plain": [
       "   year       state gender statistic  gross_income_euros\n",
       "0  2017  nationwide   both      mean            23646.50\n",
       "1  2016  nationwide   both      mean            23156.34\n",
       "2  2015  nationwide   both      mean            23106.30\n",
       "3  2014  nationwide   both      mean            22858.17\n",
       "4  2013  nationwide   both      mean            22697.86"
      ]
     },
     "execution_count": 134,
     "metadata": {},
     "output_type": "execute_result"
    }
   ],
   "source": [
    "#Load and preview data\n",
    "dfSP = pd.read_csv(\"data/spain_salary.csv\")\n",
    "dfSP.head()"
   ]
  },
  {
   "cell_type": "code",
   "execution_count": 135,
   "metadata": {},
   "outputs": [
    {
     "data": {
      "text/plain": [
       "0       23646.50\n",
       "1       23156.34\n",
       "2       23106.30\n",
       "3       22858.17\n",
       "4       22697.86\n",
       "          ...   \n",
       "3185    23097.08\n",
       "3186    23512.09\n",
       "3187    23641.44\n",
       "3188    23240.00\n",
       "3189    22549.68\n",
       "Name: gross_income_euros, Length: 540, dtype: float64"
      ]
     },
     "execution_count": 135,
     "metadata": {},
     "output_type": "execute_result"
    }
   ],
   "source": [
    "#I'm going to extract the income into a Pandas Series. This is a 1D data structure\n",
    "#Not much differs in using it, but we should see it, it is common\n",
    "dfSP = dfSP[dfSP[\"statistic\"] == \"mean\"]\n",
    "spinc = pd.Series(dfSP[\"gross_income_euros\"])\n",
    "spinc"
   ]
  },
  {
   "cell_type": "markdown",
   "metadata": {},
   "source": [
    "Do some basic preview stuff for a few cells...."
   ]
  },
  {
   "cell_type": "code",
   "execution_count": 136,
   "metadata": {},
   "outputs": [
    {
     "data": {
      "text/plain": [
       "count      540.000000\n",
       "mean     21865.320611\n",
       "std       3217.149924\n",
       "min      16020.200000\n",
       "25%      19344.052500\n",
       "50%      21371.710000\n",
       "75%      23773.370000\n",
       "max      31618.970000\n",
       "Name: gross_income_euros, dtype: float64"
      ]
     },
     "execution_count": 136,
     "metadata": {},
     "output_type": "execute_result"
    }
   ],
   "source": [
    "spinc.describe()"
   ]
  },
  {
   "cell_type": "code",
   "execution_count": 137,
   "metadata": {},
   "outputs": [
    {
     "data": {
      "image/png": "[encoded data removed]",
      "text/plain": [
       "<Figure size 432x288 with 1 Axes>"
      ]
     },
     "metadata": {
      "needs_background": "light"
     },
     "output_type": "display_data"
    }
   ],
   "source": [
    "#Hist\n",
    "histSP = thinkstats2.Hist(round(spinc, -3))\n",
    "thinkplot.Hist(histSP)\n",
    "thinkplot.Config()"
   ]
  },
  {
   "cell_type": "code",
   "execution_count": 138,
   "metadata": {},
   "outputs": [
    {
     "data": {
      "image/png": "[encoded data removed]",
      "text/plain": [
       "<Figure size 432x288 with 1 Axes>"
      ]
     },
     "metadata": {
      "needs_background": "light"
     },
     "output_type": "display_data"
    }
   ],
   "source": [
    "#CDF\n",
    "cdfSP = thinkstats2.Cdf(spinc)\n",
    "thinkplot.Cdf(cdfSP)\n",
    "thinkplot.Config()"
   ]
  },
  {
   "cell_type": "markdown",
   "metadata": {},
   "source": [
    "### LogNormal Tests\n",
    "\n",
    "LogNormal distributions are very common, they are like a normal distribution that is \"bunched up\" a bit towards the left had side. We see patterns like this pretty commonly in the real world, often around things like income. \n",
    "\n",
    "We can do the same things that we do with a lognormal distribution, or pretty much any other distribution, that we do with a normal distribution. \n",
    "\n",
    "First, let's test and see if the data is normal? "
   ]
  },
  {
   "cell_type": "code",
   "execution_count": 139,
   "metadata": {},
   "outputs": [
    {
     "data": {
      "image/png": "[encoded data removed]",
      "text/plain": [
       "<Figure size 432x288 with 1 Axes>"
      ]
     },
     "metadata": {
      "needs_background": "light"
     },
     "output_type": "display_data"
    }
   ],
   "source": [
    "thinkstats2.NormalProbabilityPlot(spinc)"
   ]
  },
  {
   "cell_type": "markdown",
   "metadata": {},
   "source": [
    "To check and see if our distribution is lognormal, we can just take the log and see if it is normal. The log transformation basically removes the thing that separates a lognormal distribution from a normal one, we can then do \"normal\" stuff with the transformed data. \n",
    "\n",
    "The idea of doing some mathmatical transformation to the data to make it easier to analyze is common. "
   ]
  },
  {
   "cell_type": "code",
   "execution_count": 140,
   "metadata": {},
   "outputs": [
    {
     "data": {
      "image/png": "[encoded data removed]",
      "text/plain": [
       "<Figure size 432x288 with 1 Axes>"
      ]
     },
     "metadata": {
      "needs_background": "light"
     },
     "output_type": "display_data"
    }
   ],
   "source": [
    "#Plot normal prob curve\n",
    "thinkstats2.NormalProbabilityPlot(np.log10(spinc))"
   ]
  },
  {
   "cell_type": "code",
   "execution_count": 141,
   "metadata": {},
   "outputs": [
    {
     "data": {
      "text/plain": [
       "<AxesSubplot:xlabel='gross_income_euros', ylabel='Density'>"
      ]
     },
     "execution_count": 141,
     "metadata": {},
     "output_type": "execute_result"
    },
    {
     "data": {
      "image/png": "[encoded data removed]",
      "text/plain": [
       "<Figure size 432x288 with 1 Axes>"
      ]
     },
     "metadata": {
      "needs_background": "light"
     },
     "output_type": "display_data"
    }
   ],
   "source": [
    "sns.kdeplot(data=np.log10(spinc))\n"
   ]
  },
  {
   "cell_type": "markdown",
   "metadata": {},
   "source": [
    "How about normal?"
   ]
  },
  {
   "cell_type": "markdown",
   "metadata": {},
   "source": [
    "What do these mean? \n",
    "\n",
    "The lognormal looks to be slightly more accurate through the curve, it is probably a better representation. We can think of the areas where it departs and try to think of what is happening there:\n",
    "<ul>\n",
    "<li> At the top end, the highest incomes are less than we expect from the distribution. Thinking about the scenario, this seems reasonable - salaries do tend to flatten out at some point, and many highly compensated people aren't getting massive salaries, they get things like stock options. \n",
    "<li> At the bottom end, the incomes are higher than expected. This makes sense because we normally have a minimum wage, so they lowest paid people will only get so low. \n",
    "</ul>\n",
    "\n",
    "<b> If we were really analyzing salaries in Spain, we could consider using a log normal distribution to model the \"heart\" of the distribution, and look at minimum wage and high earners separately. Depending on what we are doing, this may make a lot of sense. </b>"
   ]
  },
  {
   "cell_type": "markdown",
   "metadata": {},
   "source": [
    "### Exercise #2 - Test this Fit\n",
    "\n",
    "We can try another, see if the wages in this data is normal or lognormal, and judge how good of a fit each is for the data. \n",
    "\n",
    "The data is total contract size, in millions, for some soccer players in Europe. "
   ]
  },
  {
   "cell_type": "code",
   "execution_count": 149,
   "metadata": {},
   "outputs": [
    {
     "data": {
      "text/plain": [
       "count    17687.000000\n",
       "mean         7.770340\n",
       "std         11.526224\n",
       "min          1.000000\n",
       "25%          1.000000\n",
       "50%          3.000000\n",
       "75%          8.000000\n",
       "max         79.000000\n",
       "Name: Wage, dtype: float64"
      ]
     },
     "execution_count": 149,
     "metadata": {},
     "output_type": "execute_result"
    }
   ],
   "source": [
    "df_fifa = pd.read_csv(\"data/fifa_eda.csv\")\n",
    "df_fifa = df_fifa[df_fifa[\"Wage\"] > 0]\n",
    "df_fifa = df_fifa[df_fifa[\"Wage\"] < 80]\n",
    "fifa = df_fifa[\"Wage\"]\n",
    "fifa.describe()\n"
   ]
  },
  {
   "cell_type": "code",
   "execution_count": 150,
   "metadata": {},
   "outputs": [
    {
     "data": {
      "text/plain": [
       "<AxesSubplot:xlabel='Wage', ylabel='Density'>"
      ]
     },
     "execution_count": 150,
     "metadata": {},
     "output_type": "execute_result"
    },
    {
     "data": {
      "image/png": "[encoded data removed]",
      "text/plain": [
       "<Figure size 432x288 with 1 Axes>"
      ]
     },
     "metadata": {
      "needs_background": "light"
     },
     "output_type": "display_data"
    }
   ],
   "source": [
    "# Some graphing/preview stuff\n",
    "sns.kdeplot(fifa)"
   ]
  },
  {
   "cell_type": "markdown",
   "metadata": {},
   "source": [
    "##### Is it normal?"
   ]
  },
  {
   "cell_type": "code",
   "execution_count": 151,
   "metadata": {},
   "outputs": [
    {
     "data": {
      "image/png": "[encoded data removed]",
      "text/plain": [
       "<Figure size 432x288 with 1 Axes>"
      ]
     },
     "metadata": {
      "needs_background": "light"
     },
     "output_type": "display_data"
    }
   ],
   "source": [
    "thinkstats2.NormalProbabilityPlot(fifa)"
   ]
  },
  {
   "cell_type": "markdown",
   "metadata": {},
   "source": [
    "##### How About LogNormal?"
   ]
  },
  {
   "cell_type": "code",
   "execution_count": 152,
   "metadata": {},
   "outputs": [
    {
     "data": {
      "image/png": "[encoded data removed]",
      "text/plain": [
       "<Figure size 432x288 with 1 Axes>"
      ]
     },
     "metadata": {
      "needs_background": "light"
     },
     "output_type": "display_data"
    }
   ],
   "source": [
    "thinkstats2.NormalProbabilityPlot(np.log10(fifa))"
   ]
  },
  {
   "cell_type": "markdown",
   "metadata": {},
   "source": [
    "##### What did you Find? \n",
    "It fits better to a LogNormal distribution, but still not great. Only fits in the middle, not on either end."
   ]
  },
  {
   "cell_type": "markdown",
   "metadata": {},
   "source": [
    "### CDF Analytical Model Tests\n",
    "\n",
    "The book heavily leans on performing visual tests of analytical distributions using the CDF plots. The idea here is similar to the normal probability plots, the closer we match the expected values in the model, the closer the emperical data aligns with that distribution. \n",
    "\n",
    "Just like with the normal plot, the grey line represents a standard analytical distribution created with the stats of our emperical data. The blue line is our actual data, and the closer the two are to each other, the better the data fits the model. "
   ]
  },
  {
   "cell_type": "code",
   "execution_count": 153,
   "metadata": {},
   "outputs": [
    {
     "data": {
      "text/plain": [
       "{'xscale': 'linear', 'yscale': 'linear'}"
      ]
     },
     "execution_count": 153,
     "metadata": {},
     "output_type": "execute_result"
    },
    {
     "data": {
      "image/png": "[encoded data removed]",
      "text/plain": [
       "<Figure size 432x288 with 1 Axes>"
      ]
     },
     "metadata": {
      "needs_background": "light"
     },
     "output_type": "display_data"
    }
   ],
   "source": [
    "c = thinkstats2.Cdf(fifa)\n",
    "thinkplot.Cdf(c)"
   ]
  },
  {
   "cell_type": "code",
   "execution_count": 154,
   "metadata": {},
   "outputs": [],
   "source": [
    "# Create Log Transformed Data\n",
    "log_wage = np.log10(fifa)\n",
    "cdf_log = thinkstats2.Cdf(log_wage)"
   ]
  },
  {
   "cell_type": "markdown",
   "metadata": {},
   "source": [
    "The text gives us some shortcuts to creating CDFs for analytical distributions. \n",
    "\n",
    "The comparison is similar to before, the more the lines match, the more our emperical data matches the analytical distribution. "
   ]
  },
  {
   "cell_type": "code",
   "execution_count": 155,
   "metadata": {},
   "outputs": [
    {
     "data": {
      "image/png": "[encoded data removed]",
      "text/plain": [
       "<Figure size 432x288 with 1 Axes>"
      ]
     },
     "metadata": {
      "needs_background": "light"
     },
     "output_type": "display_data"
    }
   ],
   "source": [
    "#Compare distribution to LogNormal\n",
    "mu, sigma = log_wage.mean(), log_wage.std()\n",
    "xs, ps = thinkstats2.RenderNormalCdf(mu, sigma, low=0, high=3)\n",
    "thinkplot.Plot(xs, ps, label='model', color='0.8')\n",
    "thinkplot.Cdf(cdf_log) \n",
    "thinkplot.Config(xlabel='log10 wage', ylabel='CDF', loc='lower right')"
   ]
  },
  {
   "cell_type": "markdown",
   "metadata": {},
   "source": [
    "#### What if we Remove Outliers\n",
    "\n",
    "Take the big money millionaires out and see if we have a matching pattern for the bulk of the data. \n",
    "\n",
    "Try to remove anyone who makes over 100 million, and see if we fit the anal"
   ]
  },
  {
   "cell_type": "code",
   "execution_count": 297,
   "metadata": {},
   "outputs": [],
   "source": [
    "# Filter our Large Values"
   ]
  },
  {
   "cell_type": "markdown",
   "metadata": {},
   "source": [
    "Let's check the look of the distribution with a hist/pmf or similar. "
   ]
  },
  {
   "cell_type": "code",
   "execution_count": null,
   "metadata": {},
   "outputs": [],
   "source": []
  },
  {
   "cell_type": "markdown",
   "metadata": {},
   "source": [
    "Check for normality with a probability plot."
   ]
  },
  {
   "cell_type": "code",
   "execution_count": null,
   "metadata": {},
   "outputs": [],
   "source": []
  },
  {
   "cell_type": "markdown",
   "metadata": {},
   "source": [
    "Looks bad, check for lognormal. "
   ]
  },
  {
   "cell_type": "code",
   "execution_count": null,
   "metadata": {},
   "outputs": [],
   "source": [
    "# Generate log'd dataset\n"
   ]
  },
  {
   "cell_type": "code",
   "execution_count": 156,
   "metadata": {},
   "outputs": [],
   "source": [
    "# Compare distribution to LogNormal via a probability plot\n"
   ]
  },
  {
   "cell_type": "code",
   "execution_count": 157,
   "metadata": {},
   "outputs": [],
   "source": [
    "# Check with CDF\n"
   ]
  },
  {
   "cell_type": "markdown",
   "metadata": {},
   "source": [
    "##### What's the final conclusion?\n",
    "\n",
    "It looks like at the very high end, our data is a little lower than we'd expect with a lognormal distribution (for an assorted number of sports specific reasons, this sounds at least reasonable). The primary departure is at the very low end, where the results are well above the expectation of the analytical distribution. This should make sense, if we had a real distribution, the left side of the peak would taper down. Here, in our data it doesn't, it appears to flatten out. If we look at our data, and think about the scenario, this makes sense, because there is a minimum that people are paid. The lowest paid players are likely all grouped around some \"league min\" (whether by rule or convention) value, rather than tapering down to 0. So these low end salaries don't decline as the \"proper\" distribution would. "
   ]
  }
 ],
 "metadata": {
  "kernelspec": {
   "display_name": "Python 3.9.12 ('base')",
   "language": "python",
   "name": "python3"
  },
  "language_info": {
   "codemirror_mode": {
    "name": "ipython",
    "version": 3
   },
   "file_extension": ".py",
   "mimetype": "text/x-python",
   "name": "python",
   "nbconvert_exporter": "python",
   "pygments_lexer": "ipython3",
   "version": "3.9.12"
  },
  "orig_nbformat": 4,
  "vscode": {
   "interpreter": {
    "hash": "1e1be0c565fc6ceb354f856a5b5bd946923d5e000f9c5ccf57138e681b445cb2"
   }
  }
 },
 "nbformat": 4,
 "nbformat_minor": 2
}
