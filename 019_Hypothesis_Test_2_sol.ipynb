{
 "cells": [
  {
   "cell_type": "code",
   "execution_count": 1,
   "metadata": {},
   "outputs": [],
   "source": [
    "import pandas as pd\n",
    "import numpy as np\n",
    "import scipy.stats as ss\n",
    "import thinkstats2\n",
    "\n",
    "##Seaborn for fancy plots. \n",
    "import matplotlib.pyplot as plt\n",
    "import seaborn as sns\n",
    "plt.rcParams[\"figure.figsize\"] = (8,8)"
   ]
  },
  {
   "cell_type": "code",
   "execution_count": 2,
   "metadata": {},
   "outputs": [],
   "source": [
    "df = pd.read_csv(\"data/diabetes.csv\")\n",
    "df = df[df[\"BMI\"]>10]\n",
    "df = df[df[\"BloodPressure\"]>10]\n",
    "dfD = df[df[\"Outcome\"]==1]\n",
    "dfN = df[df[\"Outcome\"]==0]\n",
    "dPos = dfD.BMI\n",
    "dNeg = dfN.BMI"
   ]
  },
  {
   "cell_type": "markdown",
   "metadata": {},
   "source": [
    "# No One Test Should Have All This Power\n",
    "\n",
    "![Kanye](images/kanye.webp \"Kanye\")\n",
    "\n",
    "## Errors and Power\n",
    "\n",
    "Our hypothesis tests are effectively doing a classification - should we trust this effect as significant, or is it likely to be due to chance. In doing this, we introduce errors, two different types:\n",
    "<ul>\n",
    "<li>False Positive - The effect is really due to chance, and we've considered it as significant. (Type 1, alpha)\n",
    "<li>False Negative - The effect is significant, and we've considered it a due to chance. (Type 2, beta)\n",
    "</ul>\n",
    "The false positive rate is pretty simple - the threshold rate (commonly .05). We are defining a cutoff at the threshold value - a 1 in 20 criteria means that we expect 1 out of 20 tests to be incorrect - false positive. See book pg 130 for details on how we could show this with CDFs. \n",
    "<br><br>\n",
    "Detecting false negatives isn't as easy...  \n",
    "\n",
    "### Error Types\n",
    "\n",
    "To deal with this we need to do a quick detour into the different error types, and how each may happen. \n",
    "\n",
    "![Errors](images/class_error_types.png \"Confusion Matrix\")\n",
    "\n"
   ]
  },
  {
   "cell_type": "markdown",
   "metadata": {},
   "source": [
    "### Power\n",
    "\n",
    "Power is how the likelihood of a false negative is expressed, in terms of the compliment. The power is the rate of correctly identified negatives, or (1 - False Negatives). We can calculate this with a function from statsmodels, we can also try to generate it (pg131).\n",
    "\n",
    "First, we'll use the library function. (We also need the effect size - that's what the function will use to estimate how many )"
   ]
  },
  {
   "cell_type": "markdown",
   "metadata": {},
   "source": [
    "### Load some new data\n",
    "\n",
    "We are going to attempt to look at the difference in means between male and female age in the sample data below. "
   ]
  },
  {
   "cell_type": "code",
   "execution_count": 3,
   "metadata": {},
   "outputs": [
    {
     "data": {
      "text/html": [
       "<div>\n",
       "<style scoped>\n",
       "    .dataframe tbody tr th:only-of-type {\n",
       "        vertical-align: middle;\n",
       "    }\n",
       "\n",
       "    .dataframe tbody tr th {\n",
       "        vertical-align: top;\n",
       "    }\n",
       "\n",
       "    .dataframe thead th {\n",
       "        text-align: right;\n",
       "    }\n",
       "</style>\n",
       "<table border=\"1\" class=\"dataframe\">\n",
       "  <thead>\n",
       "    <tr style=\"text-align: right;\">\n",
       "      <th></th>\n",
       "      <th>M/F</th>\n",
       "      <th>Age</th>\n",
       "      <th>Educ</th>\n",
       "      <th>SES</th>\n",
       "      <th>MMSE</th>\n",
       "      <th>CDR</th>\n",
       "      <th>eTIV</th>\n",
       "      <th>nWBV</th>\n",
       "      <th>ASF</th>\n",
       "    </tr>\n",
       "  </thead>\n",
       "  <tbody>\n",
       "    <tr>\n",
       "      <th>0</th>\n",
       "      <td>F</td>\n",
       "      <td>74</td>\n",
       "      <td>2.0</td>\n",
       "      <td>3.0</td>\n",
       "      <td>29.0</td>\n",
       "      <td>0.0</td>\n",
       "      <td>1344</td>\n",
       "      <td>0.743</td>\n",
       "      <td>1.306</td>\n",
       "    </tr>\n",
       "    <tr>\n",
       "      <th>2</th>\n",
       "      <td>F</td>\n",
       "      <td>73</td>\n",
       "      <td>4.0</td>\n",
       "      <td>3.0</td>\n",
       "      <td>27.0</td>\n",
       "      <td>0.5</td>\n",
       "      <td>1454</td>\n",
       "      <td>0.708</td>\n",
       "      <td>1.207</td>\n",
       "    </tr>\n",
       "    <tr>\n",
       "      <th>8</th>\n",
       "      <td>M</td>\n",
       "      <td>74</td>\n",
       "      <td>5.0</td>\n",
       "      <td>2.0</td>\n",
       "      <td>30.0</td>\n",
       "      <td>0.0</td>\n",
       "      <td>1636</td>\n",
       "      <td>0.689</td>\n",
       "      <td>1.073</td>\n",
       "    </tr>\n",
       "    <tr>\n",
       "      <th>11</th>\n",
       "      <td>F</td>\n",
       "      <td>81</td>\n",
       "      <td>5.0</td>\n",
       "      <td>2.0</td>\n",
       "      <td>30.0</td>\n",
       "      <td>0.0</td>\n",
       "      <td>1664</td>\n",
       "      <td>0.679</td>\n",
       "      <td>1.055</td>\n",
       "    </tr>\n",
       "    <tr>\n",
       "      <th>13</th>\n",
       "      <td>M</td>\n",
       "      <td>76</td>\n",
       "      <td>2.0</td>\n",
       "      <td>NaN</td>\n",
       "      <td>28.0</td>\n",
       "      <td>0.5</td>\n",
       "      <td>1738</td>\n",
       "      <td>0.719</td>\n",
       "      <td>1.010</td>\n",
       "    </tr>\n",
       "  </tbody>\n",
       "</table>\n",
       "</div>"
      ],
      "text/plain": [
       "   M/F  Age  Educ  SES  MMSE  CDR  eTIV   nWBV    ASF\n",
       "0    F   74   2.0  3.0  29.0  0.0  1344  0.743  1.306\n",
       "2    F   73   4.0  3.0  27.0  0.5  1454  0.708  1.207\n",
       "8    M   74   5.0  2.0  30.0  0.0  1636  0.689  1.073\n",
       "11   F   81   5.0  2.0  30.0  0.0  1664  0.679  1.055\n",
       "13   M   76   2.0  NaN  28.0  0.5  1738  0.719  1.010"
      ]
     },
     "execution_count": 3,
     "metadata": {},
     "output_type": "execute_result"
    }
   ],
   "source": [
    "#Load data, do a little filtering\n",
    "df2 = pd.read_csv(\"data/oasis_cross-sectional.csv\")\n",
    "df2.drop(columns={\"ID\", \"Hand\", \"Delay\"}, inplace=True)\n",
    "df2 = df2[df2[\"CDR\"]<2]\n",
    "df2 = df2[df2[\"Age\"]>60]\n",
    "males = df2[df2[\"M/F\"]==\"M\"]\n",
    "females = df2[df2[\"M/F\"]==\"F\"]\n",
    "mAge = males[\"Age\"]\n",
    "fAge = females[\"Age\"]\n",
    "df2.head()"
   ]
  },
  {
   "cell_type": "markdown",
   "metadata": {},
   "source": [
    "### Generate Statistics and Test"
   ]
  },
  {
   "cell_type": "code",
   "execution_count": 4,
   "metadata": {},
   "outputs": [
    {
     "data": {
      "text/plain": [
       "(75.92424242424242, 76.7265625, 66, 128)"
      ]
     },
     "execution_count": 4,
     "metadata": {},
     "output_type": "execute_result"
    }
   ],
   "source": [
    "#Get Statistics\n",
    "mMean, fMean, mCount, fCount = mAge.mean(), fAge.mean(), mAge.count(), fAge.count()\n",
    "mMean, fMean, mCount, fCount"
   ]
  },
  {
   "cell_type": "markdown",
   "metadata": {},
   "source": [
    "There's a difference in means of apx 1 year. Is this significant?"
   ]
  },
  {
   "cell_type": "code",
   "execution_count": 5,
   "metadata": {},
   "outputs": [
    {
     "data": {
      "text/plain": [
       "0.5077810125785922"
      ]
     },
     "execution_count": 5,
     "metadata": {},
     "output_type": "execute_result"
    }
   ],
   "source": [
    "#Scipy ttest:\n",
    "stat, pval = ss.ttest_ind(mAge, fAge)\n",
    "pval"
   ]
  },
  {
   "cell_type": "markdown",
   "metadata": {},
   "source": [
    "### Test Power\n",
    "\n",
    "It appears that this difference is likely due to chance, the p value is high. How powerful is our test?"
   ]
  },
  {
   "cell_type": "code",
   "execution_count": 6,
   "metadata": {},
   "outputs": [
    {
     "data": {
      "text/plain": [
       "(0.28602587493138343, 0.10056623784128305)"
      ]
     },
     "execution_count": 6,
     "metadata": {},
     "output_type": "execute_result"
    }
   ],
   "source": [
    "#Statsmodels calculation of power. \n",
    "from statsmodels.stats.power import TTestPower\n",
    "powerTest = TTestPower()\n",
    "ces = thinkstats2.CohenEffectSize(fAge, mAge)\n",
    "alpha = .05\n",
    "nobs = mCount + fCount\n",
    "\n",
    "pow = powerTest.power(effect_size=ces, nobs=nobs, alpha=alpha)\n",
    "pow, ces\n"
   ]
  },
  {
   "cell_type": "markdown",
   "metadata": {},
   "source": [
    "What did we get? Our power is small, this is an indication that we are making a lot of potential mistakes here.\n",
    "\n",
    "This helps indicate that our asserion of an effect here is likely due to chance. \n",
    "\n",
    "In general, powers of over 80% are considered \"good\", as a rule of thumb. \n",
    "\n",
    "If you're working through the book examples, think about how this relates. The book is building a loop to, by hand, count up the number of false negatives. They then to 1-that to get the power - same, same, but a different approach. \n",
    "\n",
    "One more.... The old BMI one from last time..."
   ]
  },
  {
   "cell_type": "code",
   "execution_count": 7,
   "metadata": {},
   "outputs": [],
   "source": [
    "#Get some basic stats for the diabetes data\n",
    "meanPos, stdPos, varPos, nPos = dPos.mean(), dPos.std(), dPos.var(), dPos.count()\n",
    "meanNeg, stdNeg, varNeg, nNeg = dNeg.mean(), dNeg.std(), dNeg.var(), dNeg.count()"
   ]
  },
  {
   "cell_type": "code",
   "execution_count": 8,
   "metadata": {},
   "outputs": [
    {
     "data": {
      "text/plain": [
       "2.717898126321664e-17"
      ]
     },
     "execution_count": 8,
     "metadata": {},
     "output_type": "execute_result"
    }
   ],
   "source": [
    "#ttest\n",
    "sstat, pval = ss.ttest_ind(dPos, dNeg, alternative=\"greater\")\n",
    "pval"
   ]
  },
  {
   "cell_type": "markdown",
   "metadata": {},
   "source": [
    "P value is really, really small. The effect is likely not due to random chance. What is the power of this one?"
   ]
  },
  {
   "cell_type": "code",
   "execution_count": 9,
   "metadata": {},
   "outputs": [
    {
     "data": {
      "text/plain": [
       "(1.0, 0.6692882815710599)"
      ]
     },
     "execution_count": 9,
     "metadata": {},
     "output_type": "execute_result"
    }
   ],
   "source": [
    "#Statsmodels calculation of power. \n",
    "ces2 = thinkstats2.CohenEffectSize(dPos, dNeg)\n",
    "alpha2 = .05\n",
    "nobs2 = nNeg + nPos\n",
    "\n",
    "pow2 = powerTest.power(effect_size=ces2, nobs=nobs2, alpha=alpha2)\n",
    "pow2, ces2"
   ]
  },
  {
   "cell_type": "code",
   "execution_count": 10,
   "metadata": {},
   "outputs": [
    {
     "data": {
      "text/plain": [
       "777.9952630145431"
      ]
     },
     "execution_count": 10,
     "metadata": {},
     "output_type": "execute_result"
    }
   ],
   "source": [
    "#Calculate n\n",
    "n = powerTest.solve_power(ces, power=.8, nobs=None, alpha=alpha)\n",
    "n"
   ]
  },
  {
   "cell_type": "markdown",
   "metadata": {},
   "source": [
    "Huge power. That makes sense, our effect size is substantial and the p-value is extremely low. 1.0 is a bit of a stretch as an assertion, due to randomness - this result would likely be more accurately reported as 'near 1' or >.99 or something like that. Our trial could have a false negative, it is just unlikely. Our run happened to just not have any. "
   ]
  },
  {
   "cell_type": "markdown",
   "metadata": {},
   "source": [
    "## Tests and Conclusions\n",
    "\n",
    "We've seen a multitude of different ways that we can look at data and attempt to evaluate if a difference between samples is real. Which one is the one we use? None of these tests are definitive, so what we want to see is allignment of multiple of the tests. In general, if we are looking at a real difference, we expect to see a noticable effect size, a low p-value in a t-test, and large power all alligning - we are not so much concerned with a specific cutoff, but if all of the ways of looking at the samples seem to indicate something similar, such as a difference, then we can be quite confident that what we are seeing is real. "
   ]
  },
  {
   "cell_type": "markdown",
   "metadata": {},
   "source": [
    "## What About Categorical Data - Chi-2 Tests\n",
    "\n",
    "We can also mix up the tests a little bit to look at things a little differently. One example is dealing with categorical data and proportions - the chi squared test. Chi2 calculates relationships between categorical varaibles by looking at the difference between an expected number of observations, and the real number of observations. The other stuff in here generally looks at differences in the means of numerical values, chi2 looks at counts of categorical. \n",
    "\n",
    "In the book 9.7 there's an example of using chi2 to perform a huypothesis test on a proportion. \n",
    "\n",
    "Later on in machine learning stuff, this chi2 concept is used to try to determine which categorical features are useful in a model, similarly to how correlation is used with numerical varaibles. \n",
    "\n",
    "The heart of chi2 is calculating how big of a differnce there is between the counts that we'd expect, and the counts that we observe. For this example here we have a die that we've rolled 60 time, if the dice is fair, the expected results would be even - 10 rolls per number. This is represented by the expected list below. If we count up the actual rolls, we observe a difference in counts, this is shown in the observed list. We want to know if this is reasonably likely to be due to random chance, or if this is likely a real effect (i.e. a rigged die). The chi2 gives us a p-value and all the same logic applies with testing that p. "
   ]
  },
  {
   "cell_type": "code",
   "execution_count": 11,
   "metadata": {},
   "outputs": [
    {
     "data": {
      "text/plain": [
       "Power_divergenceResult(statistic=11.6, pvalue=0.040699388504049985)"
      ]
     },
     "execution_count": 11,
     "metadata": {},
     "output_type": "execute_result"
    }
   ],
   "source": [
    "#Scipy chi2\n",
    "expected = [10,10,10,10,10,10]\n",
    "observed = [8,9,19,5,8,11]\n",
    "ss.chisquare(observed, expected)"
   ]
  },
  {
   "cell_type": "markdown",
   "metadata": {},
   "source": [
    "P value is just below the cutoff of .05. We may well be getting scammed..."
   ]
  },
  {
   "cell_type": "code",
   "execution_count": 12,
   "metadata": {},
   "outputs": [
    {
     "data": {
      "text/plain": [
       "Power_divergenceResult(statistic=0.8, pvalue=0.9770333437569263)"
      ]
     },
     "execution_count": 12,
     "metadata": {},
     "output_type": "execute_result"
    }
   ],
   "source": [
    "#Slightly more fair example\n",
    "#if the expectations are even, we can leave out the expectations, they'll be assumed\n",
    "observed2 = [9,11,12,9,9,10]\n",
    "ss.chisquare(observed2)"
   ]
  },
  {
   "cell_type": "markdown",
   "metadata": {},
   "source": [
    "We see that the p-value is high, a difference this small is almost certainly due to chance. \n",
    "<br><br><br>\n",
    "One a little more involved...\n",
    "\n",
    "You're in charge of security at a casino. You are watching a blackjack dealer who you think may be corrupt. You notice that for certain players, they appear to be getting winning cards more often than you'd expect. Specifically, those players look like they are getting Aces, and 10 value cards (K,Q,J,10) pretty frequently, and this is resulting in those players winning quite a bit of money. You observe 780 hands and count the number of high value cards they players receive from the dealer. Your counts are as follows:\n",
    "<ul>\n",
    "<li>Observed 74 Aces, 250 \"10 cards\", 456 cards 9 and below. \n",
    "<li>Expectation - there are 52 cards in each deck, 4 of each value (A, K, Q, J, 10, etc...). The game is played with many decks and they are reshuffled partway though, so you can approximate the odds of any given value being drawn as 1/13. \n",
    "</ul>\n",
    "Is this game biased?"
   ]
  },
  {
   "cell_type": "code",
   "execution_count": 13,
   "metadata": {},
   "outputs": [
    {
     "data": {
      "text/plain": [
       "Power_divergenceResult(statistic=4.883333333333333, pvalue=0.08701570436572376)"
      ]
     },
     "execution_count": 13,
     "metadata": {},
     "output_type": "execute_result"
    }
   ],
   "source": [
    "#350 total draws\n",
    "#Aces, 10 cards, others\n",
    "observed3 = [74,250,456]\n",
    "expected3 = [60,240,480]\n",
    "ss.chisquare(observed3, expected3)"
   ]
  },
  {
   "cell_type": "markdown",
   "metadata": {},
   "source": [
    "## What if There's 3 or More Samples? \n",
    "\n",
    "We can use ANOVA - analysis of varaince. Anova is short for analysis of variance, and can kind of be thought of as a 3+ way ttest. Again, we are going to look if there appears to be a significant difference in the means of any of the groups. We form our hypothesis as follows:\n",
    "<ul>\n",
    "<li>Null Hypothesis - all the groups have the same mean.\n",
    "<li>Alternative Hyp. - at least one of the groups has a different mean\n",
    "</ul>\n",
    "<b>Note:</b> - this will only give us and indication if one group is different from the others, it won't generate a list of all the differences in descending order or anything that fancy. \n",
    "\n",
    "ANOVA has a few assumptions:\n",
    "<ul>\n",
    "<li>The data is independent - observations are only in one group.\n",
    "<li>The data is normal.\n",
    "<li>Variances are close to equal.\n",
    "</ul>\n",
    "\n",
    "We can try to test this with the current data, we'll look for if there's a substantial differences in the Age between groups with different levels of education. \n",
    "\n",
    "ANOVA type of analysis can be well illustrated using a chart called a boxplot. Remember - the goal of these tests is to look for differences in the means of different samples, we can eyball that pretty well with one of these charts."
   ]
  },
  {
   "cell_type": "code",
   "execution_count": 14,
   "metadata": {},
   "outputs": [
    {
     "data": {
      "text/plain": [
       "<AxesSubplot:xlabel='Educ', ylabel='Age'>"
      ]
     },
     "execution_count": 14,
     "metadata": {},
     "output_type": "execute_result"
    },
    {
     "data": {
      "image/png": "[encoded data removed]",
      "text/plain": [
       "<Figure size 576x576 with 1 Axes>"
      ]
     },
     "metadata": {
      "needs_background": "light"
     },
     "output_type": "display_data"
    }
   ],
   "source": [
    "#Make a boxplot to demonstrate. \n",
    "sns.boxplot(data=df2, x=\"Educ\", y=\"Age\")"
   ]
  },
  {
   "cell_type": "markdown",
   "metadata": {},
   "source": [
    "### Variance Test\n",
    "\n",
    "We need to check the varaiances to be sure that this is going to work OK. We can run another test from scipy, called the Levene test. This test will evaluate if the varaiances of all the groups provided are equal, or if one (or more) of them differs. The null hypothesis that we are testing is \"there is no difference between the varaiances of the groups\". "
   ]
  },
  {
   "cell_type": "code",
   "execution_count": 15,
   "metadata": {},
   "outputs": [
    {
     "data": {
      "text/plain": [
       "0.7071382063804008"
      ]
     },
     "execution_count": 15,
     "metadata": {},
     "output_type": "execute_result"
    }
   ],
   "source": [
    "#First, test for vars being equal-ish\n",
    "varStat, varP = ss.levene(df2['Age'][df2['Educ'] == 1],\n",
    "               df2['Age'][df2['Educ'] == 2],\n",
    "               df2['Age'][df2['Educ'] == 3],\n",
    "               df2['Age'][df2['Educ'] == 4],\n",
    "               df2['Age'][df2['Educ'] == 5])\n",
    "varP"
   ]
  },
  {
   "cell_type": "markdown",
   "metadata": {},
   "source": [
    "The \"are the variances equal\" question that we calculate with the levene test above is another hypothesis test. It returns a p-value that we can use to reject/accept the NH. In this case, p is high, so we can't reject the NH, and the varaiances are likely pretty similar. Yay! \n",
    "\n",
    "The formula name is because ANOVA uses what's called an f-statistic to do its analysis. F is a ratio of two varainaces, so that's where the ANOVA name comes from. It is analyzing the variation within each sample to the variation between samples. We get back that f statistic and the p value. \n",
    "\n",
    "<b> F = var between samples / var within samples </b>"
   ]
  },
  {
   "cell_type": "code",
   "execution_count": 16,
   "metadata": {},
   "outputs": [
    {
     "data": {
      "text/plain": [
       "F_onewayResult(statistic=0.9489002702553063, pvalue=0.43691320162590475)"
      ]
     },
     "execution_count": 16,
     "metadata": {},
     "output_type": "execute_result"
    }
   ],
   "source": [
    "#\n",
    "ss.f_oneway(df2['Age'][df2['Educ'] == 1],\n",
    "               df2['Age'][df2['Educ'] == 2],\n",
    "               df2['Age'][df2['Educ'] == 3],\n",
    "               df2['Age'][df2['Educ'] == 4],\n",
    "               df2['Age'][df2['Educ'] == 5])"
   ]
  },
  {
   "cell_type": "markdown",
   "metadata": {},
   "source": [
    "P value is high, we can't reject the NH, so the means between the groups appears to be equal. Looking at F, that makes sense, if we found that the samples varried from each other, that ratio would be way higher. This relationship generally holds true. \n",
    "\n",
    "<h3>Challenge - try to use any other data we have used that has 3+ categories. Slice the data and do an ANOVA on it to see if the means vary.</h3>"
   ]
  },
  {
   "cell_type": "code",
   "execution_count": 18,
   "metadata": {},
   "outputs": [
    {
     "data": {
      "text/plain": [
       "<AxesSubplot:xlabel='SES', ylabel='Age'>"
      ]
     },
     "execution_count": 18,
     "metadata": {},
     "output_type": "execute_result"
    },
    {
     "data": {
      "image/png": "[encoded data removed]",
      "text/plain": [
       "<Figure size 576x576 with 1 Axes>"
      ]
     },
     "metadata": {
      "needs_background": "light"
     },
     "output_type": "display_data"
    }
   ],
   "source": [
    "#ANOVA\n",
    "sns.boxplot(data=df2, x=\"SES\", y=\"Age\")"
   ]
  },
  {
   "cell_type": "markdown",
   "metadata": {},
   "source": [
    "Check the varaiances... "
   ]
  },
  {
   "cell_type": "code",
   "execution_count": 21,
   "metadata": {},
   "outputs": [
    {
     "name": "stdout",
     "output_type": "stream",
     "text": [
      "59.090612244897954\n",
      "62.17000000000001\n",
      "67.95918367346938\n",
      "61.9305293005671\n",
      "4.222222222222222\n"
     ]
    }
   ],
   "source": [
    "print(np.var(df2['Age'][df2['SES'] == 1.0]))\n",
    "print(np.var(df2['Age'][df2['SES'] == 2.0]))\n",
    "print(np.var(df2['Age'][df2['SES'] == 3.0]))\n",
    "print(np.var(df2['Age'][df2['SES'] == 4.0]))\n",
    "print(np.var(df2['Age'][df2['SES'] == 5.0]))"
   ]
  },
  {
   "cell_type": "code",
   "execution_count": 19,
   "metadata": {},
   "outputs": [
    {
     "data": {
      "text/plain": [
       "0.44572087232472135"
      ]
     },
     "execution_count": 19,
     "metadata": {},
     "output_type": "execute_result"
    }
   ],
   "source": [
    "#First, test for vars being equal-ish\n",
    "varStat, varP = ss.levene(df2['Age'][df2['SES'] == 1.0],\n",
    "               df2['Age'][df2['SES'] == 2.0],\n",
    "               df2['Age'][df2['SES'] == 3.0],\n",
    "               df2['Age'][df2['SES'] == 4.0],\n",
    "               df2['Age'][df2['SES'] == 5.0])\n",
    "varP"
   ]
  },
  {
   "cell_type": "markdown",
   "metadata": {},
   "source": [
    "It appears that group #5 is drastically different in its variance. Maybe we can remove that one, and look at the other 4."
   ]
  },
  {
   "cell_type": "code",
   "execution_count": 22,
   "metadata": {},
   "outputs": [
    {
     "data": {
      "text/plain": [
       "0.9626874202437752"
      ]
     },
     "execution_count": 22,
     "metadata": {},
     "output_type": "execute_result"
    }
   ],
   "source": [
    "#First, test for vars being equal-ish\n",
    "varStat, varP = ss.levene(df2['Age'][df2['SES'] == 1.0],\n",
    "               df2['Age'][df2['SES'] == 2.0],\n",
    "               df2['Age'][df2['SES'] == 3.0],\n",
    "               df2['Age'][df2['SES'] == 4.0])\n",
    "varP"
   ]
  },
  {
   "cell_type": "markdown",
   "metadata": {},
   "source": [
    "The datasets have reasonable similar variances, we can go ANOVA on it. "
   ]
  },
  {
   "cell_type": "code",
   "execution_count": 24,
   "metadata": {},
   "outputs": [
    {
     "data": {
      "text/plain": [
       "(1.4031343834576209, 0.24367454498017793)"
      ]
     },
     "execution_count": 24,
     "metadata": {},
     "output_type": "execute_result"
    }
   ],
   "source": [
    "stat, pval = ss.f_oneway(df2['Age'][df2['SES'] == 1.0],\n",
    "               df2['Age'][df2['SES'] == 2.0],\n",
    "               df2['Age'][df2['SES'] == 3.0],\n",
    "               df2['Age'][df2['SES'] == 4.0])\n",
    "stat, pval"
   ]
  },
  {
   "cell_type": "markdown",
   "metadata": {},
   "source": [
    "### For next time..."
   ]
  },
  {
   "cell_type": "markdown",
   "metadata": {},
   "source": [
    "#### What if the data isn't normal?\n",
    "The above tests have an assumption that the data is normal. What if it isn't?\n",
    "\n",
    "For non-normal data we need a different type of test, such as Mann-Whitney. "
   ]
  }
 ],
 "metadata": {
  "interpreter": {
   "hash": "ea39297c2a3b8433e0e3c4b620aff79df88eb4bda961dfb2311fbafd7efdbd77"
  },
  "kernelspec": {
   "display_name": "Python 3.8.11 64-bit ('base': conda)",
   "name": "python3"
  },
  "language_info": {
   "codemirror_mode": {
    "name": "ipython",
    "version": 3
   },
   "file_extension": ".py",
   "mimetype": "text/x-python",
   "name": "python",
   "nbconvert_exporter": "python",
   "pygments_lexer": "ipython3",
   "version": "3.9.7"
  },
  "orig_nbformat": 4
 },
 "nbformat": 4,
 "nbformat_minor": 2
}
