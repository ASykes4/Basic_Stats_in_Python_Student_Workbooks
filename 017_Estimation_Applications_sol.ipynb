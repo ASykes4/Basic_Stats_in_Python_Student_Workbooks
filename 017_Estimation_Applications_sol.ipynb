{
 "cells": [
  {
   "cell_type": "code",
   "execution_count": 301,
   "metadata": {},
   "outputs": [],
   "source": [
    "import thinkplot\n",
    "import thinkstats2\n",
    "import pandas as pd\n",
    "import numpy as np\n",
    "from sklearn.metrics import mean_squared_error\n",
    "import scipy.stats as ss\n",
    "import math\n",
    "import random\n",
    "\n",
    "##Seaborn for fancy plots. \n",
    "import matplotlib.pyplot as plt\n",
    "import seaborn as sns\n",
    "plt.rcParams[\"figure.figsize\"] = (12,8)"
   ]
  },
  {
   "cell_type": "markdown",
   "metadata": {},
   "source": [
    "# Estimation Applications\n",
    "\n",
    "<h3>Estimate a population</h3>\n",
    "\n",
    "We can keep estimating populations with our analytical distribution. First - we'll do another normal one, but we'll grab some extra data to investigate it a bit more. "
   ]
  },
  {
   "cell_type": "code",
   "execution_count": 302,
   "metadata": {},
   "outputs": [],
   "source": [
    "#Simulate Normal - from last time\n",
    "#\n",
    "#Add a return to send back the means and the predictions. \n",
    "#\n",
    "def simulateNormal(mu=0, sigma=1, n=100, m=10000, ciLow=5, ciHi=95):\n",
    "    means = [] #List of all the means that are created. \n",
    "    preds = []\n",
    "    for j in range(m): #Run m number of simulations. \n",
    "        xs = np.random.normal(mu, sigma, n) #Generate a normal dist based on emperical data. \n",
    "        xbar = np.mean(xs) #Take the mean of the dist above's values\n",
    "        means.append(xbar) #Add to list. \n",
    "        preds.append(xs)\n",
    "    cdf = thinkstats2.Cdf(means) #Make a CDF of the means of the analytical dist's\n",
    "    ci = cdf.Percentile(ciLow), cdf.Percentile(ciHi) #5th, 95th percentiles. \n",
    "    muList = [mu] * m\n",
    "    stderr = mean_squared_error(means, muList, squared=False) #RMSE of how different the random analytical means are from the emp. mean. \n",
    "    return cdf, ci, stderr, means, preds"
   ]
  },
  {
   "cell_type": "markdown",
   "metadata": {},
   "source": [
    "We'll add these error calculators, we'll use them later. "
   ]
  },
  {
   "cell_type": "code",
   "execution_count": 303,
   "metadata": {},
   "outputs": [],
   "source": [
    "def MeanError(estimates, actual):\n",
    "    errors = [estimate-actual for estimate in estimates]\n",
    "    return np.mean(errors)"
   ]
  },
  {
   "cell_type": "code",
   "execution_count": 304,
   "metadata": {},
   "outputs": [],
   "source": [
    "def RMSE(estimates, actual):\n",
    "    e2 = [(estimate-actual)**2 for estimate in estimates]\n",
    "    mse = np.mean(e2)\n",
    "    return np.sqrt(mse)"
   ]
  },
  {
   "cell_type": "markdown",
   "metadata": {},
   "source": [
    "<h3>Load Some Income Data</h3>"
   ]
  },
  {
   "cell_type": "code",
   "execution_count": 305,
   "metadata": {},
   "outputs": [
    {
     "data": {
      "text/html": [
       "<div>\n",
       "<style scoped>\n",
       "    .dataframe tbody tr th:only-of-type {\n",
       "        vertical-align: middle;\n",
       "    }\n",
       "\n",
       "    .dataframe tbody tr th {\n",
       "        vertical-align: top;\n",
       "    }\n",
       "\n",
       "    .dataframe thead th {\n",
       "        text-align: right;\n",
       "    }\n",
       "</style>\n",
       "<table border=\"1\" class=\"dataframe\">\n",
       "  <thead>\n",
       "    <tr style=\"text-align: right;\">\n",
       "      <th></th>\n",
       "      <th>credit.policy</th>\n",
       "      <th>purpose</th>\n",
       "      <th>int.rate</th>\n",
       "      <th>installment</th>\n",
       "      <th>log.annual.inc</th>\n",
       "      <th>dti</th>\n",
       "      <th>fico</th>\n",
       "      <th>days.with.cr.line</th>\n",
       "      <th>revol.bal</th>\n",
       "      <th>revol.util</th>\n",
       "      <th>inq.last.6mths</th>\n",
       "      <th>delinq.2yrs</th>\n",
       "      <th>pub.rec</th>\n",
       "      <th>not.fully.paid</th>\n",
       "    </tr>\n",
       "  </thead>\n",
       "  <tbody>\n",
       "    <tr>\n",
       "      <th>0</th>\n",
       "      <td>1</td>\n",
       "      <td>debt_consolidation</td>\n",
       "      <td>0.1189</td>\n",
       "      <td>829.10</td>\n",
       "      <td>11.350407</td>\n",
       "      <td>19.48</td>\n",
       "      <td>737</td>\n",
       "      <td>5639.958333</td>\n",
       "      <td>28854</td>\n",
       "      <td>52.1</td>\n",
       "      <td>0</td>\n",
       "      <td>0</td>\n",
       "      <td>0</td>\n",
       "      <td>0</td>\n",
       "    </tr>\n",
       "    <tr>\n",
       "      <th>1</th>\n",
       "      <td>1</td>\n",
       "      <td>credit_card</td>\n",
       "      <td>0.1071</td>\n",
       "      <td>228.22</td>\n",
       "      <td>11.082143</td>\n",
       "      <td>14.29</td>\n",
       "      <td>707</td>\n",
       "      <td>2760.000000</td>\n",
       "      <td>33623</td>\n",
       "      <td>76.7</td>\n",
       "      <td>0</td>\n",
       "      <td>0</td>\n",
       "      <td>0</td>\n",
       "      <td>0</td>\n",
       "    </tr>\n",
       "    <tr>\n",
       "      <th>2</th>\n",
       "      <td>1</td>\n",
       "      <td>debt_consolidation</td>\n",
       "      <td>0.1357</td>\n",
       "      <td>366.86</td>\n",
       "      <td>10.373491</td>\n",
       "      <td>11.63</td>\n",
       "      <td>682</td>\n",
       "      <td>4710.000000</td>\n",
       "      <td>3511</td>\n",
       "      <td>25.6</td>\n",
       "      <td>1</td>\n",
       "      <td>0</td>\n",
       "      <td>0</td>\n",
       "      <td>0</td>\n",
       "    </tr>\n",
       "    <tr>\n",
       "      <th>3</th>\n",
       "      <td>1</td>\n",
       "      <td>debt_consolidation</td>\n",
       "      <td>0.1008</td>\n",
       "      <td>162.34</td>\n",
       "      <td>11.350407</td>\n",
       "      <td>8.10</td>\n",
       "      <td>712</td>\n",
       "      <td>2699.958333</td>\n",
       "      <td>33667</td>\n",
       "      <td>73.2</td>\n",
       "      <td>1</td>\n",
       "      <td>0</td>\n",
       "      <td>0</td>\n",
       "      <td>0</td>\n",
       "    </tr>\n",
       "    <tr>\n",
       "      <th>4</th>\n",
       "      <td>1</td>\n",
       "      <td>credit_card</td>\n",
       "      <td>0.1426</td>\n",
       "      <td>102.92</td>\n",
       "      <td>11.299732</td>\n",
       "      <td>14.97</td>\n",
       "      <td>667</td>\n",
       "      <td>4066.000000</td>\n",
       "      <td>4740</td>\n",
       "      <td>39.5</td>\n",
       "      <td>0</td>\n",
       "      <td>1</td>\n",
       "      <td>0</td>\n",
       "      <td>0</td>\n",
       "    </tr>\n",
       "  </tbody>\n",
       "</table>\n",
       "</div>"
      ],
      "text/plain": [
       "   credit.policy             purpose  int.rate  installment  log.annual.inc  \\\n",
       "0              1  debt_consolidation    0.1189       829.10       11.350407   \n",
       "1              1         credit_card    0.1071       228.22       11.082143   \n",
       "2              1  debt_consolidation    0.1357       366.86       10.373491   \n",
       "3              1  debt_consolidation    0.1008       162.34       11.350407   \n",
       "4              1         credit_card    0.1426       102.92       11.299732   \n",
       "\n",
       "     dti  fico  days.with.cr.line  revol.bal  revol.util  inq.last.6mths  \\\n",
       "0  19.48   737        5639.958333      28854        52.1               0   \n",
       "1  14.29   707        2760.000000      33623        76.7               0   \n",
       "2  11.63   682        4710.000000       3511        25.6               1   \n",
       "3   8.10   712        2699.958333      33667        73.2               1   \n",
       "4  14.97   667        4066.000000       4740        39.5               0   \n",
       "\n",
       "   delinq.2yrs  pub.rec  not.fully.paid  \n",
       "0            0        0               0  \n",
       "1            0        0               0  \n",
       "2            0        0               0  \n",
       "3            0        0               0  \n",
       "4            1        0               0  "
      ]
     },
     "execution_count": 305,
     "metadata": {},
     "output_type": "execute_result"
    }
   ],
   "source": [
    "#Load some data\n",
    "df = pd.read_csv(\"data/loan_data.csv\")\n",
    "df.head()"
   ]
  },
  {
   "cell_type": "code",
   "execution_count": 306,
   "metadata": {},
   "outputs": [
    {
     "data": {
      "text/html": [
       "<div>\n",
       "<style scoped>\n",
       "    .dataframe tbody tr th:only-of-type {\n",
       "        vertical-align: middle;\n",
       "    }\n",
       "\n",
       "    .dataframe tbody tr th {\n",
       "        vertical-align: top;\n",
       "    }\n",
       "\n",
       "    .dataframe thead th {\n",
       "        text-align: right;\n",
       "    }\n",
       "</style>\n",
       "<table border=\"1\" class=\"dataframe\">\n",
       "  <thead>\n",
       "    <tr style=\"text-align: right;\">\n",
       "      <th></th>\n",
       "      <th>credit.policy</th>\n",
       "      <th>int.rate</th>\n",
       "      <th>installment</th>\n",
       "      <th>log.annual.inc</th>\n",
       "      <th>dti</th>\n",
       "      <th>fico</th>\n",
       "      <th>days.with.cr.line</th>\n",
       "      <th>revol.bal</th>\n",
       "      <th>revol.util</th>\n",
       "      <th>inq.last.6mths</th>\n",
       "      <th>delinq.2yrs</th>\n",
       "      <th>pub.rec</th>\n",
       "      <th>not.fully.paid</th>\n",
       "    </tr>\n",
       "  </thead>\n",
       "  <tbody>\n",
       "    <tr>\n",
       "      <th>count</th>\n",
       "      <td>9578.000000</td>\n",
       "      <td>9578.000000</td>\n",
       "      <td>9578.000000</td>\n",
       "      <td>9578.000000</td>\n",
       "      <td>9578.000000</td>\n",
       "      <td>9578.000000</td>\n",
       "      <td>9578.000000</td>\n",
       "      <td>9.578000e+03</td>\n",
       "      <td>9578.000000</td>\n",
       "      <td>9578.000000</td>\n",
       "      <td>9578.000000</td>\n",
       "      <td>9578.000000</td>\n",
       "      <td>9578.000000</td>\n",
       "    </tr>\n",
       "    <tr>\n",
       "      <th>mean</th>\n",
       "      <td>0.804970</td>\n",
       "      <td>0.122640</td>\n",
       "      <td>319.089413</td>\n",
       "      <td>10.932117</td>\n",
       "      <td>12.606679</td>\n",
       "      <td>710.846314</td>\n",
       "      <td>4560.767197</td>\n",
       "      <td>1.691396e+04</td>\n",
       "      <td>46.799236</td>\n",
       "      <td>1.577469</td>\n",
       "      <td>0.163708</td>\n",
       "      <td>0.062122</td>\n",
       "      <td>0.160054</td>\n",
       "    </tr>\n",
       "    <tr>\n",
       "      <th>std</th>\n",
       "      <td>0.396245</td>\n",
       "      <td>0.026847</td>\n",
       "      <td>207.071301</td>\n",
       "      <td>0.614813</td>\n",
       "      <td>6.883970</td>\n",
       "      <td>37.970537</td>\n",
       "      <td>2496.930377</td>\n",
       "      <td>3.375619e+04</td>\n",
       "      <td>29.014417</td>\n",
       "      <td>2.200245</td>\n",
       "      <td>0.546215</td>\n",
       "      <td>0.262126</td>\n",
       "      <td>0.366676</td>\n",
       "    </tr>\n",
       "    <tr>\n",
       "      <th>min</th>\n",
       "      <td>0.000000</td>\n",
       "      <td>0.060000</td>\n",
       "      <td>15.670000</td>\n",
       "      <td>7.547502</td>\n",
       "      <td>0.000000</td>\n",
       "      <td>612.000000</td>\n",
       "      <td>178.958333</td>\n",
       "      <td>0.000000e+00</td>\n",
       "      <td>0.000000</td>\n",
       "      <td>0.000000</td>\n",
       "      <td>0.000000</td>\n",
       "      <td>0.000000</td>\n",
       "      <td>0.000000</td>\n",
       "    </tr>\n",
       "    <tr>\n",
       "      <th>25%</th>\n",
       "      <td>1.000000</td>\n",
       "      <td>0.103900</td>\n",
       "      <td>163.770000</td>\n",
       "      <td>10.558414</td>\n",
       "      <td>7.212500</td>\n",
       "      <td>682.000000</td>\n",
       "      <td>2820.000000</td>\n",
       "      <td>3.187000e+03</td>\n",
       "      <td>22.600000</td>\n",
       "      <td>0.000000</td>\n",
       "      <td>0.000000</td>\n",
       "      <td>0.000000</td>\n",
       "      <td>0.000000</td>\n",
       "    </tr>\n",
       "    <tr>\n",
       "      <th>50%</th>\n",
       "      <td>1.000000</td>\n",
       "      <td>0.122100</td>\n",
       "      <td>268.950000</td>\n",
       "      <td>10.928884</td>\n",
       "      <td>12.665000</td>\n",
       "      <td>707.000000</td>\n",
       "      <td>4139.958333</td>\n",
       "      <td>8.596000e+03</td>\n",
       "      <td>46.300000</td>\n",
       "      <td>1.000000</td>\n",
       "      <td>0.000000</td>\n",
       "      <td>0.000000</td>\n",
       "      <td>0.000000</td>\n",
       "    </tr>\n",
       "    <tr>\n",
       "      <th>75%</th>\n",
       "      <td>1.000000</td>\n",
       "      <td>0.140700</td>\n",
       "      <td>432.762500</td>\n",
       "      <td>11.291293</td>\n",
       "      <td>17.950000</td>\n",
       "      <td>737.000000</td>\n",
       "      <td>5730.000000</td>\n",
       "      <td>1.824950e+04</td>\n",
       "      <td>70.900000</td>\n",
       "      <td>2.000000</td>\n",
       "      <td>0.000000</td>\n",
       "      <td>0.000000</td>\n",
       "      <td>0.000000</td>\n",
       "    </tr>\n",
       "    <tr>\n",
       "      <th>max</th>\n",
       "      <td>1.000000</td>\n",
       "      <td>0.216400</td>\n",
       "      <td>940.140000</td>\n",
       "      <td>14.528354</td>\n",
       "      <td>29.960000</td>\n",
       "      <td>827.000000</td>\n",
       "      <td>17639.958330</td>\n",
       "      <td>1.207359e+06</td>\n",
       "      <td>119.000000</td>\n",
       "      <td>33.000000</td>\n",
       "      <td>13.000000</td>\n",
       "      <td>5.000000</td>\n",
       "      <td>1.000000</td>\n",
       "    </tr>\n",
       "  </tbody>\n",
       "</table>\n",
       "</div>"
      ],
      "text/plain": [
       "       credit.policy     int.rate  installment  log.annual.inc          dti  \\\n",
       "count    9578.000000  9578.000000  9578.000000     9578.000000  9578.000000   \n",
       "mean        0.804970     0.122640   319.089413       10.932117    12.606679   \n",
       "std         0.396245     0.026847   207.071301        0.614813     6.883970   \n",
       "min         0.000000     0.060000    15.670000        7.547502     0.000000   \n",
       "25%         1.000000     0.103900   163.770000       10.558414     7.212500   \n",
       "50%         1.000000     0.122100   268.950000       10.928884    12.665000   \n",
       "75%         1.000000     0.140700   432.762500       11.291293    17.950000   \n",
       "max         1.000000     0.216400   940.140000       14.528354    29.960000   \n",
       "\n",
       "              fico  days.with.cr.line     revol.bal   revol.util  \\\n",
       "count  9578.000000        9578.000000  9.578000e+03  9578.000000   \n",
       "mean    710.846314        4560.767197  1.691396e+04    46.799236   \n",
       "std      37.970537        2496.930377  3.375619e+04    29.014417   \n",
       "min     612.000000         178.958333  0.000000e+00     0.000000   \n",
       "25%     682.000000        2820.000000  3.187000e+03    22.600000   \n",
       "50%     707.000000        4139.958333  8.596000e+03    46.300000   \n",
       "75%     737.000000        5730.000000  1.824950e+04    70.900000   \n",
       "max     827.000000       17639.958330  1.207359e+06   119.000000   \n",
       "\n",
       "       inq.last.6mths  delinq.2yrs      pub.rec  not.fully.paid  \n",
       "count     9578.000000  9578.000000  9578.000000     9578.000000  \n",
       "mean         1.577469     0.163708     0.062122        0.160054  \n",
       "std          2.200245     0.546215     0.262126        0.366676  \n",
       "min          0.000000     0.000000     0.000000        0.000000  \n",
       "25%          0.000000     0.000000     0.000000        0.000000  \n",
       "50%          1.000000     0.000000     0.000000        0.000000  \n",
       "75%          2.000000     0.000000     0.000000        0.000000  \n",
       "max         33.000000    13.000000     5.000000        1.000000  "
      ]
     },
     "execution_count": 306,
     "metadata": {},
     "output_type": "execute_result"
    }
   ],
   "source": [
    "df.describe()"
   ]
  },
  {
   "cell_type": "markdown",
   "metadata": {},
   "source": [
    "<h3>Warmup - Estimate Normal Distribution for Income</h3>\n",
    "\n",
    "We are given the log.annual.inc, which is the income of the applicants, run through a log transformation. Take a look via a graph...\n",
    "\n",
    "We can also plot the de-logged, or exponential transformed, income, which should be our orignal incomes. We should double check to see if it makes sense, and to see what it looks like. "
   ]
  },
  {
   "cell_type": "code",
   "execution_count": 307,
   "metadata": {},
   "outputs": [
    {
     "data": {
      "image/png": "[encoded data removed]",
      "text/plain": [
       "<Figure size 864x576 with 2 Axes>"
      ]
     },
     "metadata": {
      "needs_background": "light"
     },
     "output_type": "display_data"
    }
   ],
   "source": [
    "#Graph distribution of log income\n",
    "thinkplot.PrePlot(2, 2, 1)\n",
    "sns.histplot(df[\"log.annual.inc\"], kde=True)\n",
    "thinkplot.SubPlot(2)\n",
    "sns.histplot(np.exp(df[\"log.annual.inc\"]), kde=True)\n",
    "plt.axvline(np.mean(np.exp(df[\"log.annual.inc\"])), color=\"red\")\n",
    "plt.axvline(np.median(np.exp(df[\"log.annual.inc\"])), color=\"green\")\n",
    "plt.ticklabel_format(style='plain', axis='x')\n",
    "thinkplot.Config()"
   ]
  },
  {
   "cell_type": "markdown",
   "metadata": {},
   "source": [
    "<h3>When lognormal is normal!</h3>\n",
    "\n",
    "The log.annual.inc value looks really normal - estimate the income of the population as a whole. \n",
    "\n",
    "<b>Note:</b> this data is the income data, that has been transformed, with a log transformation. This is one example of some ways that we can use a transformation to make analysis easier. Transform the data into somehting that is easy to analyze, like a normal dist, do what you need to do, then transform in reverse to get raw data. "
   ]
  },
  {
   "cell_type": "markdown",
   "metadata": {},
   "source": [
    "The original distribution above could be analyzed directly via modelling it with a lognorm distribution, like we'll try below, but normal things are generally more simple, that's why this data was pretransformed. \n",
    "\n",
    "Work with the data (already logged):"
   ]
  },
  {
   "cell_type": "code",
   "execution_count": 308,
   "metadata": {},
   "outputs": [
    {
     "data": {
      "image/png": "[encoded data removed]",
      "text/plain": [
       "<Figure size 864x576 with 1 Axes>"
      ]
     },
     "metadata": {
      "needs_background": "light"
     },
     "output_type": "display_data"
    }
   ],
   "source": [
    "#Generate estimators for normal data. \n",
    "mu = df[\"log.annual.inc\"].mean()\n",
    "sig = df[\"log.annual.inc\"].std()\n",
    "n = df[\"log.annual.inc\"].count()\n",
    "\n",
    "#Run Estimations. \n",
    "cdf, ci, stderr, means, preds = simulateNormal(mu=mu, sigma=sig, n=n, m=50, ciLow=5, ciHi=95)\n",
    "\n",
    "#Graph each of those predictions from above - 1000 originally. \n",
    "for i in range(len(preds)):\n",
    "    sns.kdeplot(preds[i])"
   ]
  },
  {
   "cell_type": "markdown",
   "metadata": {},
   "source": [
    "#### What's This?\n",
    "\n",
    "Each of those trial runs of the analytical distribution is slightly different, as we can see here. \n",
    "\n",
    "#### CDF of the Means\n",
    "\n",
    "We are 90% confident that we are between the two CI limits. "
   ]
  },
  {
   "cell_type": "code",
   "execution_count": 309,
   "metadata": {},
   "outputs": [
    {
     "data": {
      "text/plain": [
       "(10.921451166738755, 10.941964252803524)"
      ]
     },
     "execution_count": 309,
     "metadata": {},
     "output_type": "execute_result"
    },
    {
     "data": {
      "image/png": "[encoded data removed]",
      "text/plain": [
       "<Figure size 864x576 with 1 Axes>"
      ]
     },
     "metadata": {
      "needs_background": "light"
     },
     "output_type": "display_data"
    }
   ],
   "source": [
    "thinkplot.Cdf(cdf)\n",
    "thinkplot.axvline(ci[0], color=\"red\")\n",
    "thinkplot.axvline(ci[1], color=\"red\")\n",
    "ci[0], ci[1]"
   ]
  },
  {
   "cell_type": "markdown",
   "metadata": {},
   "source": [
    "#### Overall\n",
    "\n",
    "Each random band up there is one prediction of the distribution of the population of income. I.E. each one is one execution of the \"random\" command that generates N variables according to the distribution. \n",
    "\n",
    "The means is taking the average of all of those above predicted distributions, then averaging them together. So that is estimating the mean of the population of income M times, graphed below.  "
   ]
  },
  {
   "cell_type": "code",
   "execution_count": 310,
   "metadata": {},
   "outputs": [
    {
     "data": {
      "image/png": "[encoded data removed]",
      "text/plain": [
       "<Figure size 864x432 with 2 Axes>"
      ]
     },
     "metadata": {
      "needs_background": "light"
     },
     "output_type": "display_data"
    }
   ],
   "source": [
    "#Plot the means of the above distributions\n",
    "#sns.kdeplot(means, linestyle=\"dotted\")\n",
    "thinkplot.PrePlot(2,1,2)\n",
    "sns.histplot(means)\n",
    "thinkplot.SubPlot(2)\n",
    "sns.histplot(np.exp(means))\n",
    "thinkplot.Config()"
   ]
  },
  {
   "cell_type": "code",
   "execution_count": 311,
   "metadata": {},
   "outputs": [
    {
     "name": "stdout",
     "output_type": "stream",
     "text": [
      "Experiment:\n",
      "rmse 0.6148711762698448\n",
      "mean error -1.1517460202982726e-05\n"
     ]
    }
   ],
   "source": [
    "#Is the estimator biased? - Check to see that the mean of the predictions is close to the emperical mean. \n",
    "m=10000\n",
    "estimates = []\n",
    "for i in range(m):\n",
    "    L = np.random.normal(mu, sig, n)\n",
    "    estimates.append(L)\n",
    "print('Experiment:')\n",
    "print('rmse', RMSE(estimates, mu))\n",
    "print('mean error', MeanError(estimates, mu))"
   ]
  },
  {
   "cell_type": "markdown",
   "metadata": {},
   "source": [
    "<b>Estimator does not look biased, the mean error appears to trend near 0</b><br><br><br>\n",
    "Above is the distribution of the means of the predictions above. So each of those lines up there is a value that's being counted up to make this histogram.\n",
    "\n",
    "\n",
    "We currently have a log transformed set of data. What if we want to see the real values along with our estimate. "
   ]
  },
  {
   "cell_type": "code",
   "execution_count": 312,
   "metadata": {},
   "outputs": [
    {
     "name": "stdout",
     "output_type": "stream",
     "text": [
      "Estimated Population Mean: 55941.832666156864\n"
     ]
    },
    {
     "data": {
      "image/png": "[encoded data removed]",
      "text/plain": [
       "<Figure size 864x576 with 1 Axes>"
      ]
     },
     "metadata": {
      "needs_background": "light"
     },
     "output_type": "display_data"
    }
   ],
   "source": [
    "#Visualize as original data. Limit graph to $250k to make it look OK\n",
    "df[\"income\"] = np.exp(df[\"log.annual.inc\"])\n",
    "#sns.kdeplot(df[\"income\"], clip=(0,250000))\n",
    "sns.histplot(df[\"income\"], kde=True)\n",
    "plt.xlim(0,250000)\n",
    "\n",
    "convMed = np.exp(np.mean(means))\n",
    "thinkplot.axvline(convMed, color=\"red\")\n",
    "print(\"Estimated Population Mean:\", convMed)"
   ]
  },
  {
   "cell_type": "markdown",
   "metadata": {},
   "source": [
    "## Discreet Distributions\n",
    "\n",
    "Until now, we've mainly dealt with distributions like the normal, lognormal, and exponential - distributions that are continuous, or they may take on any value. We also have distributions that measure discreet things - things which may only take on specific values. Two examples below are goals in sports (hockey, soccer, etc...) or votes in an election - each of these things are counted via whole numbers. \n",
    "\n",
    "As we mentioned before, no matter the disribution we create, the process is pretty much the same. (I found this image online, and I think it is a good illustration. This is over-the-top detailed for us, it shows two standard deviations for normal on each side of the curve, but it does a reasonable job of illustrating what we need.)\n",
    "\n",
    "![Distributions](images/distributions.png \"Distributions\")\n",
    "\n",
    "The mechanics of using these discreet distributions doesn't differ all that much from the continous ones. "
   ]
  },
  {
   "cell_type": "markdown",
   "metadata": {},
   "source": [
    "### Goals in a Game\n",
    "\n",
    "We can approximate the expected number of goals in a game by using a Poisson distribution. It is use to model things that happen periodically, but semi-randomly - like customrers walking into a store, phone calls to a call center, or goals in some game. \n",
    "<br><br>\n",
    "Below are a couple of examples - the input is the rate - in this case goals per game. It could be \"calls per hour\" or similar...."
   ]
  },
  {
   "cell_type": "code",
   "execution_count": 313,
   "metadata": {},
   "outputs": [
    {
     "data": {
      "text/plain": [
       "array([ 7,  5, 10,  9,  8])"
      ]
     },
     "execution_count": 313,
     "metadata": {},
     "output_type": "execute_result"
    }
   ],
   "source": [
    "#Print a few\n",
    "ss.poisson(5).rvs(5)"
   ]
  },
  {
   "cell_type": "code",
   "execution_count": 314,
   "metadata": {},
   "outputs": [
    {
     "data": {
      "text/plain": [
       "<AxesSubplot:ylabel='Density'>"
      ]
     },
     "execution_count": 314,
     "metadata": {},
     "output_type": "execute_result"
    },
    {
     "data": {
      "image/png": "[encoded data removed]",
      "text/plain": [
       "<Figure size 864x576 with 1 Axes>"
      ]
     },
     "metadata": {
      "needs_background": "light"
     },
     "output_type": "display_data"
    }
   ],
   "source": [
    "#Example poisson distributions\n",
    "dist = ss.poisson(3)\n",
    "dist2 = ss.poisson(7)\n",
    "\n",
    "sns.histplot(dist.rvs(1000), binwidth=1, stat=\"density\", color=\"red\")\n",
    "sns.histplot(dist2.rvs(1000), binwidth=1, stat=\"density\")"
   ]
  },
  {
   "cell_type": "markdown",
   "metadata": {},
   "source": [
    "<h2>Application - Forecast Games</h2>\n",
    "\n",
    "We can apply this to do a simple estimation of the Battle of Alberta. \n",
    "\n",
    "<h3>Load some data</h3>\n",
    "\n",
    "We can load some data on hockey! This came from hockey reference - it includes the goals per game for each time. Most goals wins, so we'll use that to create a model. "
   ]
  },
  {
   "cell_type": "code",
   "execution_count": 315,
   "metadata": {},
   "outputs": [
    {
     "data": {
      "text/html": [
       "<div>\n",
       "<style scoped>\n",
       "    .dataframe tbody tr th:only-of-type {\n",
       "        vertical-align: middle;\n",
       "    }\n",
       "\n",
       "    .dataframe tbody tr th {\n",
       "        vertical-align: top;\n",
       "    }\n",
       "\n",
       "    .dataframe thead th {\n",
       "        text-align: right;\n",
       "    }\n",
       "</style>\n",
       "<table border=\"1\" class=\"dataframe\">\n",
       "  <thead>\n",
       "    <tr style=\"text-align: right;\">\n",
       "      <th></th>\n",
       "      <th>Rk</th>\n",
       "      <th>Unnamed: 1</th>\n",
       "      <th>AvAge</th>\n",
       "      <th>GP</th>\n",
       "      <th>W</th>\n",
       "      <th>L</th>\n",
       "      <th>OL</th>\n",
       "      <th>PTS</th>\n",
       "      <th>PTS%</th>\n",
       "      <th>GF</th>\n",
       "      <th>...</th>\n",
       "      <th>PK%</th>\n",
       "      <th>SH</th>\n",
       "      <th>SHA</th>\n",
       "      <th>PIM/G</th>\n",
       "      <th>oPIM/G</th>\n",
       "      <th>S</th>\n",
       "      <th>S%</th>\n",
       "      <th>SA</th>\n",
       "      <th>SV%</th>\n",
       "      <th>SO</th>\n",
       "    </tr>\n",
       "  </thead>\n",
       "  <tbody>\n",
       "    <tr>\n",
       "      <th>5</th>\n",
       "      <td>6.0</td>\n",
       "      <td>Washington Capitals</td>\n",
       "      <td>29.1</td>\n",
       "      <td>6</td>\n",
       "      <td>4</td>\n",
       "      <td>0</td>\n",
       "      <td>2</td>\n",
       "      <td>10</td>\n",
       "      <td>0.833</td>\n",
       "      <td>26</td>\n",
       "      <td>...</td>\n",
       "      <td>70.59</td>\n",
       "      <td>2</td>\n",
       "      <td>2</td>\n",
       "      <td>9.0</td>\n",
       "      <td>10.7</td>\n",
       "      <td>183</td>\n",
       "      <td>14.2</td>\n",
       "      <td>165</td>\n",
       "      <td>0.903</td>\n",
       "      <td>0</td>\n",
       "    </tr>\n",
       "    <tr>\n",
       "      <th>15</th>\n",
       "      <td>16.0</td>\n",
       "      <td>Winnipeg Jets</td>\n",
       "      <td>27.7</td>\n",
       "      <td>6</td>\n",
       "      <td>3</td>\n",
       "      <td>2</td>\n",
       "      <td>1</td>\n",
       "      <td>7</td>\n",
       "      <td>0.583</td>\n",
       "      <td>24</td>\n",
       "      <td>...</td>\n",
       "      <td>60.00</td>\n",
       "      <td>1</td>\n",
       "      <td>1</td>\n",
       "      <td>12.2</td>\n",
       "      <td>12.2</td>\n",
       "      <td>168</td>\n",
       "      <td>14.3</td>\n",
       "      <td>201</td>\n",
       "      <td>0.891</td>\n",
       "      <td>0</td>\n",
       "    </tr>\n",
       "    <tr>\n",
       "      <th>3</th>\n",
       "      <td>4.0</td>\n",
       "      <td>St. Louis Blues</td>\n",
       "      <td>28.8</td>\n",
       "      <td>5</td>\n",
       "      <td>5</td>\n",
       "      <td>0</td>\n",
       "      <td>0</td>\n",
       "      <td>10</td>\n",
       "      <td>1.000</td>\n",
       "      <td>25</td>\n",
       "      <td>...</td>\n",
       "      <td>93.75</td>\n",
       "      <td>1</td>\n",
       "      <td>0</td>\n",
       "      <td>9.0</td>\n",
       "      <td>10.2</td>\n",
       "      <td>174</td>\n",
       "      <td>14.4</td>\n",
       "      <td>170</td>\n",
       "      <td>0.935</td>\n",
       "      <td>1</td>\n",
       "    </tr>\n",
       "    <tr>\n",
       "      <th>10</th>\n",
       "      <td>11.0</td>\n",
       "      <td>Columbus Blue Jackets</td>\n",
       "      <td>26.0</td>\n",
       "      <td>6</td>\n",
       "      <td>4</td>\n",
       "      <td>2</td>\n",
       "      <td>0</td>\n",
       "      <td>8</td>\n",
       "      <td>0.667</td>\n",
       "      <td>19</td>\n",
       "      <td>...</td>\n",
       "      <td>80.95</td>\n",
       "      <td>0</td>\n",
       "      <td>0</td>\n",
       "      <td>9.7</td>\n",
       "      <td>9.0</td>\n",
       "      <td>160</td>\n",
       "      <td>11.9</td>\n",
       "      <td>204</td>\n",
       "      <td>0.926</td>\n",
       "      <td>0</td>\n",
       "    </tr>\n",
       "    <tr>\n",
       "      <th>12</th>\n",
       "      <td>13.0</td>\n",
       "      <td>New York Islanders</td>\n",
       "      <td>29.5</td>\n",
       "      <td>6</td>\n",
       "      <td>3</td>\n",
       "      <td>2</td>\n",
       "      <td>1</td>\n",
       "      <td>7</td>\n",
       "      <td>0.583</td>\n",
       "      <td>15</td>\n",
       "      <td>...</td>\n",
       "      <td>81.25</td>\n",
       "      <td>0</td>\n",
       "      <td>0</td>\n",
       "      <td>7.7</td>\n",
       "      <td>7.7</td>\n",
       "      <td>173</td>\n",
       "      <td>8.7</td>\n",
       "      <td>210</td>\n",
       "      <td>0.929</td>\n",
       "      <td>2</td>\n",
       "    </tr>\n",
       "    <tr>\n",
       "      <th>17</th>\n",
       "      <td>18.0</td>\n",
       "      <td>Nashville Predators</td>\n",
       "      <td>27.2</td>\n",
       "      <td>7</td>\n",
       "      <td>3</td>\n",
       "      <td>4</td>\n",
       "      <td>0</td>\n",
       "      <td>6</td>\n",
       "      <td>0.429</td>\n",
       "      <td>20</td>\n",
       "      <td>...</td>\n",
       "      <td>82.61</td>\n",
       "      <td>0</td>\n",
       "      <td>0</td>\n",
       "      <td>8.6</td>\n",
       "      <td>8.3</td>\n",
       "      <td>215</td>\n",
       "      <td>9.3</td>\n",
       "      <td>207</td>\n",
       "      <td>0.903</td>\n",
       "      <td>0</td>\n",
       "    </tr>\n",
       "    <tr>\n",
       "      <th>16</th>\n",
       "      <td>17.0</td>\n",
       "      <td>Tampa Bay Lightning</td>\n",
       "      <td>28.9</td>\n",
       "      <td>7</td>\n",
       "      <td>3</td>\n",
       "      <td>3</td>\n",
       "      <td>1</td>\n",
       "      <td>7</td>\n",
       "      <td>0.500</td>\n",
       "      <td>21</td>\n",
       "      <td>...</td>\n",
       "      <td>83.33</td>\n",
       "      <td>0</td>\n",
       "      <td>0</td>\n",
       "      <td>9.9</td>\n",
       "      <td>9.6</td>\n",
       "      <td>230</td>\n",
       "      <td>9.1</td>\n",
       "      <td>207</td>\n",
       "      <td>0.874</td>\n",
       "      <td>0</td>\n",
       "    </tr>\n",
       "    <tr>\n",
       "      <th>8</th>\n",
       "      <td>9.0</td>\n",
       "      <td>New York Rangers</td>\n",
       "      <td>26.2</td>\n",
       "      <td>7</td>\n",
       "      <td>4</td>\n",
       "      <td>2</td>\n",
       "      <td>1</td>\n",
       "      <td>9</td>\n",
       "      <td>0.643</td>\n",
       "      <td>15</td>\n",
       "      <td>...</td>\n",
       "      <td>78.26</td>\n",
       "      <td>0</td>\n",
       "      <td>1</td>\n",
       "      <td>10.0</td>\n",
       "      <td>10.9</td>\n",
       "      <td>189</td>\n",
       "      <td>7.9</td>\n",
       "      <td>220</td>\n",
       "      <td>0.918</td>\n",
       "      <td>0</td>\n",
       "    </tr>\n",
       "    <tr>\n",
       "      <th>30</th>\n",
       "      <td>31.0</td>\n",
       "      <td>Chicago Blackhawks</td>\n",
       "      <td>27.8</td>\n",
       "      <td>6</td>\n",
       "      <td>0</td>\n",
       "      <td>5</td>\n",
       "      <td>1</td>\n",
       "      <td>1</td>\n",
       "      <td>0.083</td>\n",
       "      <td>12</td>\n",
       "      <td>...</td>\n",
       "      <td>90.91</td>\n",
       "      <td>0</td>\n",
       "      <td>0</td>\n",
       "      <td>10.0</td>\n",
       "      <td>11.0</td>\n",
       "      <td>186</td>\n",
       "      <td>6.5</td>\n",
       "      <td>182</td>\n",
       "      <td>0.852</td>\n",
       "      <td>0</td>\n",
       "    </tr>\n",
       "    <tr>\n",
       "      <th>4</th>\n",
       "      <td>5.0</td>\n",
       "      <td>Minnesota Wild</td>\n",
       "      <td>29.4</td>\n",
       "      <td>6</td>\n",
       "      <td>5</td>\n",
       "      <td>1</td>\n",
       "      <td>0</td>\n",
       "      <td>10</td>\n",
       "      <td>0.833</td>\n",
       "      <td>20</td>\n",
       "      <td>...</td>\n",
       "      <td>69.23</td>\n",
       "      <td>0</td>\n",
       "      <td>0</td>\n",
       "      <td>13.3</td>\n",
       "      <td>12.0</td>\n",
       "      <td>218</td>\n",
       "      <td>9.2</td>\n",
       "      <td>167</td>\n",
       "      <td>0.892</td>\n",
       "      <td>0</td>\n",
       "    </tr>\n",
       "  </tbody>\n",
       "</table>\n",
       "<p>10 rows × 32 columns</p>\n",
       "</div>"
      ],
      "text/plain": [
       "      Rk             Unnamed: 1  AvAge  GP  W  L  OL  PTS   PTS%  GF  ...  \\\n",
       "5    6.0    Washington Capitals   29.1   6  4  0   2   10  0.833  26  ...   \n",
       "15  16.0          Winnipeg Jets   27.7   6  3  2   1    7  0.583  24  ...   \n",
       "3    4.0        St. Louis Blues   28.8   5  5  0   0   10  1.000  25  ...   \n",
       "10  11.0  Columbus Blue Jackets   26.0   6  4  2   0    8  0.667  19  ...   \n",
       "12  13.0     New York Islanders   29.5   6  3  2   1    7  0.583  15  ...   \n",
       "17  18.0    Nashville Predators   27.2   7  3  4   0    6  0.429  20  ...   \n",
       "16  17.0    Tampa Bay Lightning   28.9   7  3  3   1    7  0.500  21  ...   \n",
       "8    9.0       New York Rangers   26.2   7  4  2   1    9  0.643  15  ...   \n",
       "30  31.0     Chicago Blackhawks   27.8   6  0  5   1    1  0.083  12  ...   \n",
       "4    5.0         Minnesota Wild   29.4   6  5  1   0   10  0.833  20  ...   \n",
       "\n",
       "      PK%  SH  SHA  PIM/G  oPIM/G    S    S%   SA    SV%  SO  \n",
       "5   70.59   2    2    9.0    10.7  183  14.2  165  0.903   0  \n",
       "15  60.00   1    1   12.2    12.2  168  14.3  201  0.891   0  \n",
       "3   93.75   1    0    9.0    10.2  174  14.4  170  0.935   1  \n",
       "10  80.95   0    0    9.7     9.0  160  11.9  204  0.926   0  \n",
       "12  81.25   0    0    7.7     7.7  173   8.7  210  0.929   2  \n",
       "17  82.61   0    0    8.6     8.3  215   9.3  207  0.903   0  \n",
       "16  83.33   0    0    9.9     9.6  230   9.1  207  0.874   0  \n",
       "8   78.26   0    1   10.0    10.9  189   7.9  220  0.918   0  \n",
       "30  90.91   0    0   10.0    11.0  186   6.5  182  0.852   0  \n",
       "4   69.23   0    0   13.3    12.0  218   9.2  167  0.892   0  \n",
       "\n",
       "[10 rows x 32 columns]"
      ]
     },
     "execution_count": 315,
     "metadata": {},
     "output_type": "execute_result"
    }
   ],
   "source": [
    "#Load and preview data\n",
    "hock = pd.read_excel(\"data/sportsref_download.xlsx\", sheet_name=\"Worksheet\", engine=\"openpyxl\", header=1)\n",
    "hock.sample(10)"
   ]
  },
  {
   "cell_type": "code",
   "execution_count": 316,
   "metadata": {},
   "outputs": [],
   "source": [
    "#Rename column for teams\n",
    "hock = hock.rename(columns={'Unnamed: 1':\"Team\"})"
   ]
  },
  {
   "cell_type": "code",
   "execution_count": 317,
   "metadata": {},
   "outputs": [
    {
     "data": {
      "text/plain": [
       "Index(['Rk', 'Team', 'AvAge', 'GP', 'W', 'L', 'OL', 'PTS', 'PTS%', 'GF', 'GA',\n",
       "       'SOW', 'SOL', 'SRS', 'SOS', 'GF/G', 'GA/G', 'PP', 'PPO', 'PP%', 'PPA',\n",
       "       'PPOA', 'PK%', 'SH', 'SHA', 'PIM/G', 'oPIM/G', 'S', 'S%', 'SA', 'SV%',\n",
       "       'SO'],\n",
       "      dtype='object')"
      ]
     },
     "execution_count": 317,
     "metadata": {},
     "output_type": "execute_result"
    }
   ],
   "source": [
    "#Find the GOALS PER GAME column - It will be very close to GF/G, but we need to be sure!!\n",
    "hock.columns"
   ]
  },
  {
   "cell_type": "code",
   "execution_count": 318,
   "metadata": {},
   "outputs": [
    {
     "name": "stdout",
     "output_type": "stream",
     "text": [
      "Oilers Goals per Game: 2    4.6\n",
      "Name: GF/G, dtype: float64\n",
      "Falmes Goals per Game: 7    3.5\n",
      "Name: GF/G, dtype: float64\n"
     ]
    }
   ],
   "source": [
    "#Get Goals per game for the teams playing.\n",
    "Oil = hock[hock[\"Team\"]==\"Edmonton Oilers\"]\n",
    "gfOil = Oil[\"GF/G\"]\n",
    "print(\"Oilers Goals per Game:\", gfOil)\n",
    "Fla = hock[hock[\"Team\"]==\"Calgary Flames\"]\n",
    "gfFla = Fla[\"GF/G\"]\n",
    "print(\"Falmes Goals per Game:\", gfFla)"
   ]
  },
  {
   "cell_type": "markdown",
   "metadata": {},
   "source": [
    "##### Simulate one Game\n",
    "\n",
    "Simulate one game - take the goals per game, and generate one prediction of an outcome in terms of goals. "
   ]
  },
  {
   "cell_type": "code",
   "execution_count": 319,
   "metadata": {},
   "outputs": [],
   "source": [
    "def SimGame(lam):\n",
    "    dist = ss.poisson(lam)\n",
    "    score = dist.rvs(1)\n",
    "    return score[0]"
   ]
  },
  {
   "cell_type": "markdown",
   "metadata": {},
   "source": [
    "##### Simulate Many Games\n",
    "\n",
    "Simulate a bunch of games, and check for bias in our estimator. "
   ]
  },
  {
   "cell_type": "code",
   "execution_count": 320,
   "metadata": {},
   "outputs": [],
   "source": [
    "def estimateGame(lam=2., m=1000):\n",
    "    estimates = []\n",
    "    for i in range(m):\n",
    "        L = SimGame(lam)\n",
    "        estimates.append(L)\n",
    "\n",
    "    print('Goal Distribution:')\n",
    "    print('rmse Goals:', RMSE(estimates, lam))\n",
    "    print('mean error Goals:', MeanError(estimates, lam))\n",
    "    \n",
    "    pmf = thinkstats2.Pmf(estimates)\n",
    "    thinkplot.Hist(pmf)\n",
    "    thinkplot.Config(xlabel='Goals scored', ylabel='PMF')"
   ]
  },
  {
   "cell_type": "code",
   "execution_count": 321,
   "metadata": {},
   "outputs": [
    {
     "name": "stdout",
     "output_type": "stream",
     "text": [
      "Goal Distribution:\n",
      "rmse Goals: 2.1476126280127894\n",
      "mean error Goals: 0.006800000000000335\n"
     ]
    },
    {
     "data": {
      "image/png": "[encoded data removed]",
      "text/plain": [
       "<Figure size 864x576 with 1 Axes>"
      ]
     },
     "metadata": {
      "needs_background": "light"
     },
     "output_type": "display_data"
    }
   ],
   "source": [
    "estimateGame(gfOil, 10000)"
   ]
  },
  {
   "cell_type": "markdown",
   "metadata": {},
   "source": [
    "##### Create Winners\n",
    "\n",
    "We can predict how many goals each team is to score in the simulated games, then see who scored the most. "
   ]
  },
  {
   "cell_type": "code",
   "execution_count": 322,
   "metadata": {},
   "outputs": [],
   "source": [
    "#Estimate a bunch of games, count how many one team wins vs the other. \n",
    "def estimateMatch(team1=1, team2=1, m=1000):\n",
    "    team1Wins = []\n",
    "    ties = []\n",
    "    for i in range(m):\n",
    "        goal1 = SimGame(team1)\n",
    "        goal2 = SimGame(team2)\n",
    "        team1Wins.append(int(goal1>goal2))\n",
    "        ties.append(int(goal1 == goal2))\n",
    "    return team1Wins, ties"
   ]
  },
  {
   "cell_type": "code",
   "execution_count": 323,
   "metadata": {},
   "outputs": [
    {
     "data": {
      "text/plain": [
       "(0.603, 0.121)"
      ]
     },
     "execution_count": 323,
     "metadata": {},
     "output_type": "execute_result"
    }
   ],
   "source": [
    "# Print results\n",
    "oil_win, oil_ties = estimateMatch(gfOil,gfFla,1000)\n",
    "np.mean(oil_win), np.mean(oil_ties)"
   ]
  },
  {
   "cell_type": "markdown",
   "metadata": {},
   "source": [
    "### Exercise - Try Some Other Teams!\n",
    "\n",
    "<b>Note:</b> this model is a simplification of the real world, probably too much of one in this case. We can try a more realistic scenario by grabbing some odds from the upcomming week's NFL gambling lines, between the Baltimore Ravens and the Tampa Bay Bradys. \n",
    "\n",
    "![lines](images/lines.png \"Lines\")\n",
    "\n",
    "This means that the bookmakers have estimated two things:\n",
    "<ul>\n",
    "<li> Baltimore is expected to score 1.5 more points than the chump deflator Tom Brady. \n",
    "<li> The total number of points scored between the two teams is expected to be 45 points. \n",
    "</ul>\n",
    "\n",
    "<b>What is the probability that Baltimore wins and destroys Brady's dreams like his marriage? </b>\n",
    "\n",
    "![Brady](images/brady.png \"Brady\")"
   ]
  },
  {
   "cell_type": "code",
   "execution_count": 324,
   "metadata": {},
   "outputs": [
    {
     "data": {
      "text/plain": [
       "(23.25, 21.75)"
      ]
     },
     "execution_count": 324,
     "metadata": {},
     "output_type": "execute_result"
    }
   ],
   "source": [
    "#Get points per game for the teams playing.\n",
    "total = 45\n",
    "spreadB = -1.5\n",
    "spreadT = 1.5\n",
    "\n",
    "pointB = (total / 2) + (-spreadB /  2)\n",
    "pointT = (total / 2) - (spreadT /  2)\n",
    "pointB, pointT"
   ]
  },
  {
   "cell_type": "code",
   "execution_count": 325,
   "metadata": {},
   "outputs": [
    {
     "data": {
      "text/plain": [
       "(0.568, 0.052)"
      ]
     },
     "execution_count": 325,
     "metadata": {},
     "output_type": "execute_result"
    }
   ],
   "source": [
    "bWins, bTies = estimateMatch(pointB,pointT,1000)\n",
    "np.mean(bWins), np.mean(bTies)"
   ]
  },
  {
   "cell_type": "markdown",
   "metadata": {},
   "source": [
    "##### How Could this Model be Better\n",
    "\n",
    "Our point calculations are naive - we only based them on the raw expected total. For real odds, the bookmakers don't just consider a simple calculation of \"how many points\", they factor in different scenarios, matchups, injuries, weather, etc... to project who should win. In short, their internal models that are used to generate this are larger - involving more inputs, in an attempt to more thoroughly capture what impacts the outcome of a game. As well, these lines are not set to predict the exact outcome, they're set to balance betting. The bookies make money from the \"vig\" or basically a commission that is built into each bet; the -110 odds on each side of the \"spread\" bets show this - winning each pays back approximately 91% of the money, they pocket the rest. The actual lines also intend to balance the amount of money spent on each side of each bet, so they can max that vig without risking paying out massive losses. For many/most bets the true line is good, but sometimes popular teams have excessive betting, so games with the Lakers, Coyboys, and Yankees actually tend to get worse odds since their massive legion of fans will bet on them no matter what, and the bookie is incentivising bets on the other side to balance the interest. "
   ]
  },
  {
   "cell_type": "markdown",
   "metadata": {},
   "source": [
    "## Polling - Celebrate the Downfall of Democracy! \n",
    "\n",
    "Suppose we are trying to estimate who would win the previous presidental election in the US - in Arizona. \n",
    "\n",
    "<b>Note:</b> Estimating the overall win would require projecting each state individually (and dealing with Nebraska and Maine), then projecting the total electoral college votes, since in a presidential election they are effectively separate elections. Same deal, more complex model. Canada is also more complex, since you'd need to project each house seat individually in 4ish way race, then project the distribution of seats, etc... same idea, way more complex scenario. In each of these scenarios winning the most votes doesn't translate into the overall win - winning the most votes, the most times, in multiple smaller elections translates into an overall win. \n",
    "\n",
    "In real applications there's also an expectation of correlation between different elections - e.g. it is unlikely for the NDP to win all provincial ridings in west Edmonton, and lose all those in east Edmonton - there is some expected correlation that factors into overall predictions. Voter turnout also is factored in - lower turnouts tend to correspond to more conservative winners - hence the voter supression. There's also the expected sample bias, I'm an old millenial without a land line, and I don't know of any of my social circle who has ever been part of a political poll; the polling organizations know they aren't getting a perfectly representative samples so they build in corrections to their projections to correct for that. Actual polling organizations have factors like these, and others, built into their actual predictions, and this is an example of where their knowledge and skills differentiate their predictions. \n",
    "\n",
    "Having no idea how polls work has been one illustration of stats impacting the real world recently. Polls can of course \"be wrong\" and certain polling organizations generate biased projections, but much more often they are predicting things with a large amount of uncertainty and the less likely thing just happens. Even a poll that says something has an ~97% likelihood of happening is saying that the opposite will happen about one out of every 36 times - unlikely yes, but hardly a total shock - equivalent to rolling snake eyes (two dice, both ones) in a game of craps, which does happen, all the time, just ask Vegas. Legitimate polling organizations publish their confidence intervals and some sampling data at a minimum, and may share some of their interal modelling assumptions, though that is part of what makes them 'better' than their competitors, so they may not give it all. Check this document: [Polling Methodology](guides/polling_report.pdf) the Methodology section towards the end offers a good explaination of how they went about their work in executing the poll and processing the data. Media reports tend to be a very, very short summary of the real results - often to the point of removing needed context. \n",
    "\n",
    "<b>What we have here is applicable for one specific election, such as an MP/Congressman race or a state-wide race like governor or elctoral college in the states. Full elections require the above complexity. </b>"
   ]
  },
  {
   "cell_type": "markdown",
   "metadata": {},
   "source": [
    "### First - Establish probability an individual vote goes for Biden or Trump.\n",
    "\n",
    "From 538: https://projects.fivethirtyeight.com/polls/president-general/arizona/ we can estimate basssed on all the previous polls that a person is approximately 49% likely to vote Biden, and 46% likely to vote Trump. \n",
    "\n",
    "Note: What 538 does to get these numbers involves some estimation already. They take multiple polls and attempt to combine them to make as accurate an estimate as possible. They try to correct for polling companies that historically skew Dem, or skew Rep, or tend to be more/less accurate. We could do this with one poll, it would be the same. \n",
    "\n",
    "Because we know (from experience) that only one of these two will actually win, we can try to isolate the share of votes of people who vote for one of these two - 3rd party votes are irrelevant. In reality, one of the things that pollsters will do is try to estimate the number of people who poll that they will vote 3rd party, then end up voting for Trump/Biden. This is an estimate they make based on past data, and domain knowledge. E.g. if we estimated that the share of 3rd party poll responses that voted T/B was skewed 2:1 towards Trump (e.g. libritarians voting Republican), we would add an adjustment here based on that knowledge. Maybe we'd add 1% to Biden's vote probability, and 2% to Trump's. This is something that really is an assumption though. These adjustments based on assumed human actions is what makes a really skilled pollster more accurate - they all know how to do the math. "
   ]
  },
  {
   "cell_type": "code",
   "execution_count": 326,
   "metadata": {},
   "outputs": [
    {
     "name": "stdout",
     "output_type": "stream",
     "text": [
      "Trump Prob: 0.48421052631578954\n",
      "Biden Prob: 0.5157894736842106\n"
     ]
    }
   ],
   "source": [
    "#How likely is it for someone to vote Trump and Biden?\n",
    "probT = .46/(.49+.46)\n",
    "print(\"Trump Prob:\", probT)\n",
    "\n",
    "probB = .49/(.49+.46)\n",
    "print(\"Biden Prob:\", probB)"
   ]
  },
  {
   "cell_type": "markdown",
   "metadata": {},
   "source": [
    "So, of the votes that will matter, about 51.5% go Biden, 48.5% go Trump. How does this translate to a person making a vote. For each person, we can make a function to basically get one response. \n",
    "\n",
    "This person will return one vote. It will be either a vote for Trump or for Biden. That decision will be random, but it will be set with a likelihood that we calculated before - apx 51.5% of the total voters will vote Biden, as the number of votes we collect gets large. \n",
    "\n",
    "Note: for the example, we'll use a vote for Biden to be True/1. A vote for Trump is False/0. This is arbitrary. \n",
    "\n",
    "Below we have a function to generate a prediciton using a BINOMIAL distribution - it is either 1 or 0. (A 1 sample binomial dist is also called a Bernouli)"
   ]
  },
  {
   "cell_type": "code",
   "execution_count": 327,
   "metadata": {},
   "outputs": [],
   "source": [
    "#Generate one vote, with a likelihood supplied as an argument. \n",
    "def oneVote(probCalc):\n",
    "    vote = np.random.binomial(n=1, p=probCalc)\n",
    "    return vote"
   ]
  },
  {
   "cell_type": "code",
   "execution_count": 328,
   "metadata": {},
   "outputs": [
    {
     "data": {
      "text/plain": [
       "1"
      ]
     },
     "execution_count": 328,
     "metadata": {},
     "output_type": "execute_result"
    }
   ],
   "source": [
    "#Get one vote, is it Biden or not?\n",
    "#Run the cell a bunch of times to repeat. \n",
    "oneVote(probB)"
   ]
  },
  {
   "cell_type": "markdown",
   "metadata": {},
   "source": [
    "OK, now we have our fake voter. One vote isn't good enough, we need to sample a bunch of people. \n",
    "\n",
    "Below, generate a list of n predicted voters. Then check the number that voted Biden. "
   ]
  },
  {
   "cell_type": "code",
   "execution_count": 329,
   "metadata": {},
   "outputs": [],
   "source": [
    "#Get an arbitrary number of simulated votes\n",
    "def getSample(voteProb, n=1000):\n",
    "    vote_list = []\n",
    "    for i in range(n):\n",
    "        vote_list.append(oneVote(voteProb))\n",
    "    return vote_list"
   ]
  },
  {
   "cell_type": "code",
   "execution_count": 330,
   "metadata": {},
   "outputs": [
    {
     "data": {
      "text/plain": [
       "0.5244"
      ]
     },
     "execution_count": 330,
     "metadata": {},
     "output_type": "execute_result"
    }
   ],
   "source": [
    "#Get a bunch of votes, print the percentage that are Biden. \n",
    "#Try changing n and see what happens. \n",
    "tmp = getSample(probB, 5000)\n",
    "np.mean(tmp)"
   ]
  },
  {
   "cell_type": "markdown",
   "metadata": {},
   "source": [
    "#### Do Some Simulating\n",
    "\n",
    "That allows us to make one simulation. Congrats - that thing above is one simulated election. We should take a bunch though, and average their results together. \n",
    "\n",
    "We can also plot some examples to see what a difference the sample size makes. "
   ]
  },
  {
   "cell_type": "code",
   "execution_count": 331,
   "metadata": {},
   "outputs": [],
   "source": [
    "def getSamples(voteProb, n=1000, samples=100, ciLow=2.5, ciHi=97.5):\n",
    "    meanList = []\n",
    "    for i in range(samples):\n",
    "        meanList.append(np.mean(getSample(voteProb, n)))\n",
    "    muList = [voteProb] * samples\n",
    "    cdf = thinkstats2.Cdf(meanList) #Make a CDF of the means of the analytical dist's\n",
    "    ci = cdf.Percentile(ciLow), cdf.Percentile(ciHi) #5th, 95th percentiles. \n",
    "    stderr = mean_squared_error(meanList, muList, squared=False)\n",
    "    return meanList, stderr, cdf, ci"
   ]
  },
  {
   "cell_type": "code",
   "execution_count": 332,
   "metadata": {},
   "outputs": [
    {
     "data": {
      "text/plain": [
       "([0.524, 0.487, 0.548, 0.507, 0.518],\n",
       " 0.020079371589641536,\n",
       " Cdf([0.487 0.507 0.518 0.524 0.548], [0.2 0.4 0.6 0.8 1. ]),\n",
       " (0.487, 0.548))"
      ]
     },
     "execution_count": 332,
     "metadata": {},
     "output_type": "execute_result"
    }
   ],
   "source": [
    "getSamples(probB, 1000, 5)"
   ]
  },
  {
   "cell_type": "markdown",
   "metadata": {},
   "source": [
    "##### Sample Size Check\n",
    "\n",
    "Obviously, the more people we've surveyed, the more we should be able to trus our projections, or in other words, the larger our sample size is, the less our projection should waiver. \n",
    "\n",
    "All of these graphs have a fixed x-axis, the \"tigher\" the projections (probability of a Biden win) are, the more confident we are in that prediction. Or, the more likely \"that thing\" is to happen, and the less likely some \"far away thing\" is to happen. "
   ]
  },
  {
   "cell_type": "code",
   "execution_count": 333,
   "metadata": {},
   "outputs": [
    {
     "name": "stdout",
     "output_type": "stream",
     "text": [
      "Error: 0.1458796984730665\n",
      "Error: 0.04935523334127543\n",
      "Error: 0.015795589166571596\n",
      "Error: 0.004513161485344584\n",
      "Error: 0.0015353829671960232\n"
     ]
    },
    {
     "data": {
      "image/png": "[encoded data removed]",
      "text/plain": [
       "<Figure size 1152x720 with 5 Axes>"
      ]
     },
     "metadata": {
      "needs_background": "light"
     },
     "output_type": "display_data"
    }
   ],
   "source": [
    "#Print a grid of differnet n values\n",
    "\n",
    "countHist = 5\n",
    "nVals = [10,100,1000,10000,100000,1000000]\n",
    "thinkplot.PrePlot(6,rows=2,cols=3)\n",
    "samples = 100\n",
    "\n",
    "for i in range(countHist):\n",
    "    tmpH, err, cdf, ci = getSamples(probB, nVals[i], samples)\n",
    "    thinkplot.SubPlot(i+1)\n",
    "    sns.kdeplot(tmpH).set(xlim=(0,1))\n",
    "    print(\"Error:\", err)\n",
    "thinkplot.Config()"
   ]
  },
  {
   "cell_type": "code",
   "execution_count": 334,
   "metadata": {},
   "outputs": [
    {
     "name": "stdout",
     "output_type": "stream",
     "text": [
      "Error: 0.16339117448710933\n",
      "Error: 0.04777515435831914\n",
      "Error: 0.014085476105517828\n",
      "Error: 0.005233934342161822\n",
      "Error: 0.0015708098860336237\n"
     ]
    },
    {
     "data": {
      "image/png": "[encoded data removed]",
      "text/plain": [
       "<Figure size 864x576 with 5 Axes>"
      ]
     },
     "metadata": {
      "needs_background": "light"
     },
     "output_type": "display_data"
    }
   ],
   "source": [
    "#And the CDFs\n",
    "from matplotlib.pyplot import xlim\n",
    "\n",
    "\n",
    "for i in range(countHist):\n",
    "    tmpH, err, cdf, ci = getSamples(probB, nVals[i], samples)\n",
    "    thinkplot.SubPlot(i+1)\n",
    "    thinkplot.Cdf(cdf)\n",
    "    print(\"Error:\", err)\n",
    "thinkplot.Config()"
   ]
  },
  {
   "cell_type": "markdown",
   "metadata": {},
   "source": [
    "Above are multiple executions, with multiple n values. What we should see is that as we get larger and larger n values - the number of 'surveys' taken, we should get closer and closer to a normal curve centered around the expected percentage of votes for Biden = 51.5%. "
   ]
  },
  {
   "cell_type": "markdown",
   "metadata": {},
   "source": [
    "### Predict the Winner!!!!\n",
    "\n",
    "Now we can calculate our projections!\n",
    "\n",
    "We don't really want to know what percentage of votes Biden is going to get, we want to know how likely he is to win. What we can do below is run some simulations, and for each one see if Biden wins, or if he looses, and then count them up. In each simulation, one candidate will get the most votes, and be declared the winner. \n",
    "\n",
    "The three lines below show us the scenarios at each end of the error - the worst and best case expected scenarios. "
   ]
  },
  {
   "cell_type": "code",
   "execution_count": 335,
   "metadata": {},
   "outputs": [
    {
     "name": "stdout",
     "output_type": "stream",
     "text": [
      "0.808\n"
     ]
    },
    {
     "data": {
      "image/png": "[encoded data removed]",
      "text/plain": [
       "<Figure size 864x576 with 1 Axes>"
      ]
     },
     "metadata": {
      "needs_background": "light"
     },
     "output_type": "display_data"
    }
   ],
   "source": [
    "#Run a bunch of trials and count how many Biden wins in. \n",
    "trials = 1000\n",
    "means, err, cdfFin, ciFin = getSamples(probB, n=700, samples=trials)\n",
    "lowest = means - err\n",
    "highest = means + err\n",
    "bWins = 0 \n",
    "for i in range(len(means)):\n",
    "    if means[i] > .5000:\n",
    "        bWins = bWins + 1\n",
    "print(bWins/trials)\n",
    "\n",
    "sns.kdeplot(means)\n",
    "sns.kdeplot(lowest)\n",
    "sns.kdeplot(highest)\n",
    "thinkplot.axvline(.5, color=\"red\")"
   ]
  },
  {
   "cell_type": "markdown",
   "metadata": {},
   "source": [
    "### Final Projection of Winner"
   ]
  },
  {
   "cell_type": "code",
   "execution_count": 336,
   "metadata": {},
   "outputs": [
    {
     "name": "stdout",
     "output_type": "stream",
     "text": [
      "Fraction of Scenarios where Biden wins is 80.8% \n",
      "We are 95 percent confident that Biden will get between 48.0% and 55.4% percent of the vote\n"
     ]
    },
    {
     "data": {
      "image/png": "[encoded data removed]",
      "text/plain": [
       "<Figure size 864x576 with 1 Axes>"
      ]
     },
     "metadata": {
      "needs_background": "light"
     },
     "output_type": "display_data"
    }
   ],
   "source": [
    "thinkplot.Cdf(cdfFin)\n",
    "thinkplot.axvline(ciFin[0], color=\"red\")\n",
    "thinkplot.axvline(ciFin[1], color=\"red\")\n",
    "print(\"Fraction of Scenarios where Biden wins is %.1f%% \" % ((1-cdfFin.Prob(.50))*100))\n",
    "print(\"We are 95 percent confident that Biden will get between %.1f%% and %.1f%% percent of the vote\" % (ciFin[0]*100, ciFin[1]*100))"
   ]
  },
  {
   "cell_type": "markdown",
   "metadata": {},
   "source": [
    "##### Results\n",
    "\n",
    "So, roughly a 4/5 chance Biden wins. The alternative is much less likely, but still very possible. \n",
    "\n",
    "![Biden](images/biden.jpeg \"Biden\")"
   ]
  },
  {
   "cell_type": "markdown",
   "metadata": {},
   "source": [
    "## Exercise - Election\n",
    "\n",
    "There's going to be an election for the president of your class. There are 3 candidates, and the latest pre-election polling results by the school newspaper were:\n",
    "<ul>\n",
    "<li> Tricky Nicky - 38 votes\n",
    "<li> Crazy Jimmy - 34 votes\n",
    "<li> Silly Willie - 1 vote\n",
    "</ul>\n",
    "\n",
    "You feel that the polls are plausible, based on your subjective judgement of the feelings before the election. You want to embarrass those school newspaper nerds and make a more accurate prediction. <b>What is the probability of each candidate winning the election? And what is the 90% CI of Jimmy winning?</b>"
   ]
  },
  {
   "cell_type": "code",
   "execution_count": 337,
   "metadata": {},
   "outputs": [
    {
     "data": {
      "text/plain": [
       "(0.5277777777777778, 0.4722222222222222)"
      ]
     },
     "execution_count": 337,
     "metadata": {},
     "output_type": "execute_result"
    }
   ],
   "source": [
    "tn_c = 38\n",
    "cj_c = 34\n",
    "sw_c = 1\n",
    "total_relevant_c = tn_c + cj_c\n",
    "\n",
    "pN = tn_c/total_relevant_c\n",
    "pJ = cj_c/total_relevant_c\n",
    "pN,pJ"
   ]
  },
  {
   "cell_type": "markdown",
   "metadata": {},
   "source": [
    "<b>I will label Jimmy winning as 1. So this is a calculation of the probability that Jimmy wins.<b>"
   ]
  },
  {
   "cell_type": "code",
   "execution_count": 338,
   "metadata": {},
   "outputs": [
    {
     "name": "stdout",
     "output_type": "stream",
     "text": [
      "0.288\n"
     ]
    },
    {
     "data": {
      "image/png": "[encoded data removed]",
      "text/plain": [
       "<Figure size 864x576 with 1 Axes>"
      ]
     },
     "metadata": {
      "needs_background": "light"
     },
     "output_type": "display_data"
    }
   ],
   "source": [
    "#Run a bunch of trials and count how many Biden wins in. \n",
    "trials2 = 1000\n",
    "means2, err2, cdfFin2, ciFin2 = getSamples(pJ, n=total_relevant_c, samples=trials, ciLow=5, ciHi=95)\n",
    "\n",
    "jWins = 0 \n",
    "for i in range(len(means2)):\n",
    "    if means2[i] > .5000:\n",
    "        jWins = jWins + 1\n",
    "print(jWins/trials2)\n",
    "\n",
    "sns.kdeplot(means2)\n",
    "thinkplot.axvline(.5, color=\"red\")"
   ]
  },
  {
   "cell_type": "markdown",
   "metadata": {},
   "source": [
    "#### CDF For Win Totals"
   ]
  },
  {
   "cell_type": "code",
   "execution_count": 339,
   "metadata": {},
   "outputs": [
    {
     "name": "stdout",
     "output_type": "stream",
     "text": [
      "Fraction of Scenarios where Jimmy wins is 28.8% \n",
      "We are 90 percent confident that Jimmy will get between 37.5% and 56.9% percent of the vote\n"
     ]
    },
    {
     "data": {
      "image/png": "[encoded data removed]",
      "text/plain": [
       "<Figure size 864x576 with 1 Axes>"
      ]
     },
     "metadata": {
      "needs_background": "light"
     },
     "output_type": "display_data"
    }
   ],
   "source": [
    "thinkplot.Cdf(cdfFin2)\n",
    "thinkplot.axvline(ciFin2[0], color=\"red\")\n",
    "thinkplot.axvline(ciFin2[1], color=\"red\")\n",
    "print(\"Fraction of Scenarios where Jimmy wins is %.1f%% \" % ((1-cdfFin2.Prob(.50))*100))\n",
    "print(\"We are 90 percent confident that Jimmy will get between %.1f%% and %.1f%% percent of the vote\" % (ciFin2[0]*100, ciFin2[1]*100))"
   ]
  }
 ],
 "metadata": {
  "interpreter": {
   "hash": "ea39297c2a3b8433e0e3c4b620aff79df88eb4bda961dfb2311fbafd7efdbd77"
  },
  "kernelspec": {
   "display_name": "Python 3.8.11 64-bit ('base': conda)",
   "name": "python3"
  },
  "language_info": {
   "codemirror_mode": {
    "name": "ipython",
    "version": 3
   },
   "file_extension": ".py",
   "mimetype": "text/x-python",
   "name": "python",
   "nbconvert_exporter": "python",
   "pygments_lexer": "ipython3",
   "version": "3.9.7"
  },
  "orig_nbformat": 4
 },
 "nbformat": 4,
 "nbformat_minor": 2
}
