{
 "cells": [
  {
   "cell_type": "code",
   "execution_count": 263,
   "metadata": {},
   "outputs": [],
   "source": [
    "import thinkplot\n",
    "import thinkstats2\n",
    "import pandas as pd\n",
    "import numpy as np\n",
    "import matplotlib.pyplot as plt\n",
    "import seaborn as sns\n",
    "import scipy.stats"
   ]
  },
  {
   "cell_type": "markdown",
   "metadata": {},
   "source": [
    "## Notes Prior to Starting this Document\n",
    "\n",
    "There are a few things in here that we will fill in the details for later, including:\n",
    "<ul>\n",
    "<li> Extrapolation. \n",
    "<li> Time based datasets (time series)\n",
    "<li> Smoother pmf/histogram plots. \n",
    "<li> <b>Using</b> models created from our data. \n",
    "</ul>\n",
    "\n",
    "Here we are mainly looking to see an exponential distribution in the format it will normally be seen in, and translate that real world scenario to a statistical model. \n",
    "\n",
    "Also, the  textbook examples show some data that is more tightly fitted to the theoretical models. These examples are intended to illustrate with real data, which sometimes doesn't fit; personally, I think dealing with the issues that may arrise with imperfect real data is good preparation in handling weird things that pop up. We <b>can</b> find or generate data that is a perfect or near perfect match to our theoretical distributions, for some people the direct match may be more illustrative; if you want to see examples like this, let me know, we can do them; more simple examples may be able to be made on the fly, more complex ones require a heads up. \n",
    "\n",
    "# Distributions\n",
    "\n",
    "We looked at histograms, pmf, and cdf charts to get an idea of the distribution of our data - or how it is spread out over the range. Are most values clustered together closely? Are values fairly evenly spread out? Are there patterns? Outliers? Clusters?\n",
    "\n",
    "Everything we've dealt with thus far has been emperical - i.e. we've taken actual data, and looked at the shape of that data to see the (actual, real life) distribution. This inheirently depends on collecting some data, and looking at it - this real world aspect has some limitations, you need to have actual data collected.  \n",
    "\n",
    "Now we're going to look at analytical distributions - mathmatical models that represent a distribution. Analytical distributions allow us to look at/analyze/calculate things without having to collect all that data - we can use the mathmatical formula as a siplified representation of what we would expect to find if we did collect the data.\n",
    "\n",
    "In many cases the model can pretty accurately represent the real data, and we can use the simple model to do analysis and make predictions, having faith that the data will closely mirror our calculations.\n",
    "\n",
    "The most common and well know example of this the the normal distribution or bell curve. We can use this model to analyze may distributions we see in real life - the heights, home prices, etc from the demonstrations tend to look a lot like bell curves, as do many things in real life. "
   ]
  },
  {
   "cell_type": "markdown",
   "metadata": {},
   "source": [
    "Our goal for this one is to get a model that models (part of) COVID growth!"
   ]
  },
  {
   "cell_type": "code",
   "execution_count": 264,
   "metadata": {},
   "outputs": [
    {
     "data": {
      "text/html": [
       "<div>\n",
       "<style scoped>\n",
       "    .dataframe tbody tr th:only-of-type {\n",
       "        vertical-align: middle;\n",
       "    }\n",
       "\n",
       "    .dataframe tbody tr th {\n",
       "        vertical-align: top;\n",
       "    }\n",
       "\n",
       "    .dataframe thead th {\n",
       "        text-align: right;\n",
       "    }\n",
       "</style>\n",
       "<table border=\"1\" class=\"dataframe\">\n",
       "  <thead>\n",
       "    <tr style=\"text-align: right;\">\n",
       "      <th></th>\n",
       "      <th>Time</th>\n",
       "      <th>Infections</th>\n",
       "    </tr>\n",
       "  </thead>\n",
       "  <tbody>\n",
       "    <tr>\n",
       "      <th>0</th>\n",
       "      <td>23/01/2020</td>\n",
       "      <td>1</td>\n",
       "    </tr>\n",
       "    <tr>\n",
       "      <th>1</th>\n",
       "      <td>24/01/2020</td>\n",
       "      <td>1</td>\n",
       "    </tr>\n",
       "    <tr>\n",
       "      <th>2</th>\n",
       "      <td>25/01/2020</td>\n",
       "      <td>2</td>\n",
       "    </tr>\n",
       "    <tr>\n",
       "      <th>3</th>\n",
       "      <td>26/01/2020</td>\n",
       "      <td>2</td>\n",
       "    </tr>\n",
       "    <tr>\n",
       "      <th>4</th>\n",
       "      <td>27/01/2020</td>\n",
       "      <td>5</td>\n",
       "    </tr>\n",
       "  </tbody>\n",
       "</table>\n",
       "</div>"
      ],
      "text/plain": [
       "         Time  Infections\n",
       "0  23/01/2020           1\n",
       "1  24/01/2020           1\n",
       "2  25/01/2020           2\n",
       "3  26/01/2020           2\n",
       "4  27/01/2020           5"
      ]
     },
     "execution_count": 264,
     "metadata": {},
     "output_type": "execute_result"
    }
   ],
   "source": [
    "#Load some Covid Data\n",
    "#Note the sep thing - that tells Pandas that the separator is a semi-colon. This is just weird data.\n",
    "#In theory, the separator could be anything (it is usually a comma), just use this if it is\n",
    "df = pd.read_csv(\"data/full_data_2.csv\", sep=\";\")\n",
    "df.head()"
   ]
  },
  {
   "cell_type": "code",
   "execution_count": 265,
   "metadata": {},
   "outputs": [
    {
     "data": {
      "text/html": [
       "<div>\n",
       "<style scoped>\n",
       "    .dataframe tbody tr th:only-of-type {\n",
       "        vertical-align: middle;\n",
       "    }\n",
       "\n",
       "    .dataframe tbody tr th {\n",
       "        vertical-align: top;\n",
       "    }\n",
       "\n",
       "    .dataframe thead th {\n",
       "        text-align: right;\n",
       "    }\n",
       "</style>\n",
       "<table border=\"1\" class=\"dataframe\">\n",
       "  <thead>\n",
       "    <tr style=\"text-align: right;\">\n",
       "      <th></th>\n",
       "      <th>Time</th>\n",
       "      <th>Infections</th>\n",
       "      <th>Day</th>\n",
       "    </tr>\n",
       "  </thead>\n",
       "  <tbody>\n",
       "    <tr>\n",
       "      <th>47</th>\n",
       "      <td>10/03/2020</td>\n",
       "      <td>472</td>\n",
       "      <td>48</td>\n",
       "    </tr>\n",
       "    <tr>\n",
       "      <th>48</th>\n",
       "      <td>11/03/2020</td>\n",
       "      <td>696</td>\n",
       "      <td>49</td>\n",
       "    </tr>\n",
       "    <tr>\n",
       "      <th>49</th>\n",
       "      <td>12/03/2020</td>\n",
       "      <td>987</td>\n",
       "      <td>50</td>\n",
       "    </tr>\n",
       "    <tr>\n",
       "      <th>50</th>\n",
       "      <td>13/03/2020</td>\n",
       "      <td>1264</td>\n",
       "      <td>51</td>\n",
       "    </tr>\n",
       "    <tr>\n",
       "      <th>51</th>\n",
       "      <td>14/03/2020</td>\n",
       "      <td>1678</td>\n",
       "      <td>52</td>\n",
       "    </tr>\n",
       "  </tbody>\n",
       "</table>\n",
       "</div>"
      ],
      "text/plain": [
       "          Time  Infections  Day\n",
       "47  10/03/2020         472   48\n",
       "48  11/03/2020         696   49\n",
       "49  12/03/2020         987   50\n",
       "50  13/03/2020        1264   51\n",
       "51  14/03/2020        1678   52"
      ]
     },
     "execution_count": 265,
     "metadata": {},
     "output_type": "execute_result"
    }
   ],
   "source": [
    "#I'm going to add a \"Day Number\" value. This just makes it easier than using dates.\n",
    "#Note: you could write a function to translate days to dates...\n",
    "#The command to do this is just a Google result \"dataframe add running number\". I add 1 to avoid a log(0) scenario. \n",
    "df[\"Day\"] = np.arange(len(df))\n",
    "df[\"Day\"] = df[\"Day\"].apply(lambda x: x+ 1)\n",
    "df.drop([52,53], inplace=True)\n",
    "df.tail()"
   ]
  },
  {
   "cell_type": "code",
   "execution_count": 266,
   "metadata": {},
   "outputs": [
    {
     "data": {
      "text/plain": [
       "Text(0.5, 1.0, 'COVID Gonna Give It To Ya')"
      ]
     },
     "execution_count": 266,
     "metadata": {},
     "output_type": "execute_result"
    },
    {
     "data": {
      "image/png": "[encoded data removed]",
      "text/plain": [
       "<Figure size 432x288 with 1 Axes>"
      ]
     },
     "metadata": {
      "needs_background": "light"
     },
     "output_type": "display_data"
    }
   ],
   "source": [
    "#Look at the growth!\n",
    "sns.lineplot(data=df, x=\"Day\", y=\"Infections\")\n",
    "\n",
    "plt.title('COVID Gonna Give It To Ya')"
   ]
  },
  {
   "cell_type": "code",
   "execution_count": 267,
   "metadata": {},
   "outputs": [
    {
     "data": {
      "text/plain": [
       "Text(0.5, 1.0, 'COVID Gonna Give It To Ya')"
      ]
     },
     "execution_count": 267,
     "metadata": {},
     "output_type": "execute_result"
    },
    {
     "data": {
      "image/png": "[encoded data removed]",
      "text/plain": [
       "<Figure size 432x288 with 1 Axes>"
      ]
     },
     "metadata": {
      "needs_background": "light"
     },
     "output_type": "display_data"
    }
   ],
   "source": [
    "# With points!\n",
    "sns.lineplot(data=df, x=\"Day\", y=\"Infections\", style=1, markers=True)\n",
    "plt.title('COVID Gonna Give It To Ya')"
   ]
  },
  {
   "cell_type": "markdown",
   "metadata": {},
   "source": [
    "### CDF to See Distribution\n",
    "\n",
    "This certainly looks like exponential growth. \n",
    "\n",
    "What we are looking at there ISN'T a distribution though, this is a scatter plot (we'll look at this soon) that shows two variables, time and infections. Distributions show one variable at a time, in this case, just infections. We can focus our attention to the infections data. \n",
    "\n",
    "<b>For exponential distributions this type of thing is common, we are so used to look at them mapped against time, that we don't consider time as a separate variable. In the normal stuff we didn't have to do this separation as each variable is \"more separate\" as compared to the time/count graph we normally get for time.</b>\n",
    "\n",
    "We can make a CDF of our exponential distribution, and see if it matches our expectations..."
   ]
  },
  {
   "cell_type": "code",
   "execution_count": 268,
   "metadata": {},
   "outputs": [
    {
     "data": {
      "text/plain": [
       "{'xscale': 'linear', 'yscale': 'linear'}"
      ]
     },
     "execution_count": 268,
     "metadata": {},
     "output_type": "execute_result"
    },
    {
     "data": {
      "image/png": "[encoded data removed]",
      "text/plain": [
       "<Figure size 432x288 with 1 Axes>"
      ]
     },
     "metadata": {
      "needs_background": "light"
     },
     "output_type": "display_data"
    }
   ],
   "source": [
    "inf_cdf = thinkstats2.Cdf(df[\"Infections\"])\n",
    "thinkplot.Cdf(inf_cdf)"
   ]
  },
  {
   "cell_type": "markdown",
   "metadata": {},
   "source": [
    "Or with the sns version. The ecdf plot is a cummulative distribution plot from seaborn, to find it I Googled \"seaborn cummulative distribution\" and the documentation page was the first link. There are examples near the bottom that I could adapt. Copy and adjust - borrowing and tweaking code that is similar to what you want is good, efficient if you have semi-repetitive or standardized tasks (like data analysis in places), aren't able to code things off the top of your head, or are learning to tackle new problems. (Near) plagarism is desired. "
   ]
  },
  {
   "cell_type": "code",
   "execution_count": 269,
   "metadata": {},
   "outputs": [
    {
     "data": {
      "text/plain": [
       "<AxesSubplot:xlabel='Infections', ylabel='Proportion'>"
      ]
     },
     "execution_count": 269,
     "metadata": {},
     "output_type": "execute_result"
    },
    {
     "data": {
      "image/png": "[encoded data removed]",
      "text/plain": [
       "<Figure size 432x288 with 1 Axes>"
      ]
     },
     "metadata": {
      "needs_background": "light"
     },
     "output_type": "display_data"
    }
   ],
   "source": [
    "sns.ecdfplot(data=df[\"Infections\"])"
   ]
  },
  {
   "cell_type": "markdown",
   "metadata": {},
   "source": [
    "We can look at an actual CDF of an analytical distribution. The scale here is the standard deviation and the loc is the mean - sometimes scipy uses different names, and aren't that clear in the documentation. "
   ]
  },
  {
   "cell_type": "code",
   "execution_count": 270,
   "metadata": {},
   "outputs": [
    {
     "data": {
      "text/plain": [
       "<AxesSubplot:ylabel='Proportion'>"
      ]
     },
     "execution_count": 270,
     "metadata": {},
     "output_type": "execute_result"
    },
    {
     "data": {
      "image/png": "[encoded data removed]",
      "text/plain": [
       "<Figure size 432x288 with 1 Axes>"
      ]
     },
     "metadata": {
      "needs_background": "light"
     },
     "output_type": "display_data"
    }
   ],
   "source": [
    "sns.ecdfplot(data=scipy.stats.expon.rvs(size=100, scale=np.std(df[\"Infections\"]), loc=np.mean(df[\"Infections\"])))"
   ]
  },
  {
   "cell_type": "markdown",
   "metadata": {},
   "source": [
    "All together now..."
   ]
  },
  {
   "cell_type": "code",
   "execution_count": 271,
   "metadata": {},
   "outputs": [
    {
     "data": {
      "text/plain": [
       "<AxesSubplot:ylabel='Proportion'>"
      ]
     },
     "execution_count": 271,
     "metadata": {},
     "output_type": "execute_result"
    },
    {
     "data": {
      "image/png": "[encoded data removed]",
      "text/plain": [
       "<Figure size 432x288 with 1 Axes>"
      ]
     },
     "metadata": {
      "needs_background": "light"
     },
     "output_type": "display_data"
    }
   ],
   "source": [
    "inf_cdf = thinkstats2.Cdf(df[\"Infections\"])\n",
    "thinkplot.Cdf(inf_cdf)\n",
    "sns.ecdfplot(data=scipy.stats.expon.rvs(size=100, scale=np.std(df[\"Infections\"]), loc=np.mean(df[\"Infections\"])))"
   ]
  },
  {
   "cell_type": "markdown",
   "metadata": {},
   "source": [
    "And if we look at the PMF to see the \"normal\" distribution. "
   ]
  },
  {
   "cell_type": "code",
   "execution_count": 272,
   "metadata": {},
   "outputs": [
    {
     "data": {
      "image/png": "[encoded data removed]",
      "text/plain": [
       "<Figure size 432x288 with 1 Axes>"
      ]
     },
     "metadata": {
      "needs_background": "light"
     },
     "output_type": "display_data"
    }
   ],
   "source": [
    "inf_pmf = thinkstats2.Pmf(df[\"Infections\"])\n",
    "thinkplot.Pmf(inf_pmf)"
   ]
  },
  {
   "cell_type": "markdown",
   "metadata": {},
   "source": [
    "##### ....Ugh... Not Spectacular\n",
    "\n",
    "This is an illustration of one of the reasons that CDFs can be useful in comparing distributions. We can break it down:\n",
    "<ul>\n",
    "<li> If we look back up to the line plots, as we look towards the right side of the chart, in the climb, we obviously aren't taking on every value. One of exponential growth's things is jumping quickly. \n",
    "<li> Those values that are skipped, aren't in the distribution, so if we plot them on a histogram, or in this case - a PMF, there's nothing there, as they never occur. \n",
    "<li> A cummulative distribution doesn't have the same impact from this, the flat parts of the cummulative graph correspond to the zero parts of the PMF. In the CDF though, the pattern of the distribution just becomes somewhat more blocky, but maintains the same basic shape. \n",
    "    <ul>\n",
    "    <li> Binning also addresses this, but if we look at the actual value for number of infections, try to think of a bin size that makes sense for this situation. Test a few\n",
    "    </ul>\n",
    "</ul>\n",
    "\n",
    "So this CDF comparison is another tool in our toolkit - we don't need to use it, but when it does the job better, then we should. \n",
    "\n",
    "We'll also have different tools to deal with plotting distribution data soon. "
   ]
  },
  {
   "cell_type": "markdown",
   "metadata": {},
   "source": [
    "### Exponential Distributions\n",
    "\n",
    "The data looks like it shows an exponential distribution, more or less, and a steeply distributed one at that. Just like with the normal distribution that we can almost always eyeball against a histogram or pmf, this exponential distribution is pretty easy to pattern via the CDF. Each method is valid, it depends on the situation. "
   ]
  },
  {
   "cell_type": "markdown",
   "metadata": {},
   "source": [
    "## Exercise - Part #1\n",
    "\n",
    "Use this data to:\n",
    "<ul>\n",
    "<li> Generate a CDF for the emperical data. \n",
    "<li> Generate a CDF for the equivalent analytical distribution.\n",
    "<li> Do they seem to match? \n",
    "</ul>"
   ]
  },
  {
   "cell_type": "code",
   "execution_count": 273,
   "metadata": {},
   "outputs": [
    {
     "data": {
      "text/html": [
       "<div>\n",
       "<style scoped>\n",
       "    .dataframe tbody tr th:only-of-type {\n",
       "        vertical-align: middle;\n",
       "    }\n",
       "\n",
       "    .dataframe tbody tr th {\n",
       "        vertical-align: top;\n",
       "    }\n",
       "\n",
       "    .dataframe thead th {\n",
       "        text-align: right;\n",
       "    }\n",
       "</style>\n",
       "<table border=\"1\" class=\"dataframe\">\n",
       "  <thead>\n",
       "    <tr style=\"text-align: right;\">\n",
       "      <th></th>\n",
       "      <th>Index</th>\n",
       "      <th>Value</th>\n",
       "    </tr>\n",
       "  </thead>\n",
       "  <tbody>\n",
       "    <tr>\n",
       "      <th>0</th>\n",
       "      <td>0.0</td>\n",
       "      <td>78.016490</td>\n",
       "    </tr>\n",
       "    <tr>\n",
       "      <th>1</th>\n",
       "      <td>1.0</td>\n",
       "      <td>78.044763</td>\n",
       "    </tr>\n",
       "    <tr>\n",
       "      <th>2</th>\n",
       "      <td>2.0</td>\n",
       "      <td>78.115115</td>\n",
       "    </tr>\n",
       "    <tr>\n",
       "      <th>3</th>\n",
       "      <td>3.0</td>\n",
       "      <td>78.129879</td>\n",
       "    </tr>\n",
       "    <tr>\n",
       "      <th>4</th>\n",
       "      <td>4.0</td>\n",
       "      <td>78.140532</td>\n",
       "    </tr>\n",
       "  </tbody>\n",
       "</table>\n",
       "</div>"
      ],
      "text/plain": [
       "   Index      Value\n",
       "0    0.0  78.016490\n",
       "1    1.0  78.044763\n",
       "2    2.0  78.115115\n",
       "3    3.0  78.129879\n",
       "4    4.0  78.140532"
      ]
     },
     "execution_count": 273,
     "metadata": {},
     "output_type": "execute_result"
    }
   ],
   "source": [
    "ex = pd.read_csv(\"data/expon.csv\")\n",
    "ex.head()"
   ]
  },
  {
   "cell_type": "code",
   "execution_count": 274,
   "metadata": {},
   "outputs": [
    {
     "data": {
      "text/plain": [
       "<AxesSubplot:ylabel='Proportion'>"
      ]
     },
     "execution_count": 274,
     "metadata": {},
     "output_type": "execute_result"
    },
    {
     "data": {
      "image/png": "[encoded data removed]",
      "text/plain": [
       "<Figure size 432x288 with 1 Axes>"
      ]
     },
     "metadata": {
      "needs_background": "light"
     },
     "output_type": "display_data"
    }
   ],
   "source": [
    "ex_cdf = thinkstats2.Cdf(ex[\"Value\"])\n",
    "thinkplot.Cdf(ex_cdf)\n",
    "sns.ecdfplot(scipy.stats.expon.rvs(size=230, scale=np.std(ex[\"Value\"]), loc=np.mean(ex[\"Value\"])), color=\"red\")"
   ]
  },
  {
   "cell_type": "markdown",
   "metadata": {},
   "source": [
    "## Transformations - A Brief and Gentle Introduction\n",
    "\n",
    "One other thing we can do to match analytical distributions is to use <b>transformations</b> to make the data easier to deal with. Transformations are simply things that we can do to change, or transform, our data into a more usable format. This is common is some situations because certain things are just easier if the data is changed, particularly if it is changed into a known distribution later on. \n",
    "\n",
    "### Axis Scaling\n",
    "\n",
    "Looks pretty exponential! \n",
    "\n",
    "What if we were to make the y axis into a logarithmic scale. Why?\n",
    "<ul>\n",
    "The original formula is y = s * b^x:\n",
    "    <ul>\n",
    "    <li>y = # infections\n",
    "    <li>s = initial number of people infected\n",
    "    <li>b = infections generated per infected person. (Growth Rate)\n",
    "    <li>x = days in\n",
    "    </ul>\n",
    "</ul>\n",
    "Taking the log of both sides and looking at in on that scale looks a little different....\n",
    "y = log(s) + log(b) * x\n",
    "Note: the y stays y, and not log(y) when we graph it, because of that log scale.\n",
    "\n",
    "This is a transformation to the axis, which serves to \"eliminate\" the exponential curve, leaving us with a line. \n",
    "<b>This is now a linerar function! y=mx+b</b>"
   ]
  },
  {
   "cell_type": "code",
   "execution_count": 275,
   "metadata": {},
   "outputs": [
    {
     "name": "stderr",
     "output_type": "stream",
     "text": [
      "No handles with labels found to put in legend.\n"
     ]
    },
    {
     "data": {
      "text/plain": [
       "<matplotlib.legend.Legend at 0x7fcf446ff580>"
      ]
     },
     "execution_count": 275,
     "metadata": {},
     "output_type": "execute_result"
    },
    {
     "data": {
      "image/png": "[encoded data removed]",
      "text/plain": [
       "<Figure size 432x288 with 1 Axes>"
      ]
     },
     "metadata": {
      "needs_background": "light"
     },
     "output_type": "display_data"
    }
   ],
   "source": [
    "plt.title('COVID Gonna Give It To Ya')\n",
    "sns.lineplot(data=df, x=\"Day\", y=\"Infections\")\n",
    "plt.yscale('log')\n",
    "plt.legend()"
   ]
  },
  {
   "cell_type": "markdown",
   "metadata": {},
   "source": [
    "#### Test for Exponential\n",
    "\n",
    "Now the line is kind of straight. The more straight it is, the \"better\". \n",
    "\n",
    "The closer this curve is to a line, the closer the real data is to exponential. Why..."
   ]
  },
  {
   "cell_type": "code",
   "execution_count": 276,
   "metadata": {},
   "outputs": [
    {
     "name": "stdout",
     "output_type": "stream",
     "text": [
      "0.11748262946936423\n",
      "0.18488346106582332\n"
     ]
    }
   ],
   "source": [
    "#Generate best fit line\n",
    "#You don't need to memorize this, we'll do this stuff later when we do scatter plots and regression. \n",
    "y = np.log(df[\"Infections\"])\n",
    "x = df[\"Day\"]\n",
    "m,b=np.polyfit(x, y, 1, w=np.sqrt(y))\n",
    "y_fit=np.exp(m*x+b)\n",
    "print(m)\n",
    "print(b)\n"
   ]
  },
  {
   "cell_type": "code",
   "execution_count": 277,
   "metadata": {},
   "outputs": [
    {
     "name": "stderr",
     "output_type": "stream",
     "text": [
      "No handles with labels found to put in legend.\n"
     ]
    },
    {
     "data": {
      "text/plain": [
       "<matplotlib.legend.Legend at 0x7fcf451950a0>"
      ]
     },
     "execution_count": 277,
     "metadata": {},
     "output_type": "execute_result"
    },
    {
     "data": {
      "image/png": "[encoded data removed]",
      "text/plain": [
       "<Figure size 432x288 with 1 Axes>"
      ]
     },
     "metadata": {
      "needs_background": "light"
     },
     "output_type": "display_data"
    }
   ],
   "source": [
    "#Show best fit line on graph.\n",
    "plt.title('COVID Gonna Give It To Ya')\n",
    "sns.lineplot(data=df, x=\"Day\", y=\"Infections\")\n",
    "sns.lineplot(x=x, y=y_fit, color=\"red\")\n",
    "plt.yscale('log')\n",
    "plt.legend()"
   ]
  },
  {
   "cell_type": "markdown",
   "metadata": {},
   "source": [
    "Why? After the log transformation a straight line that we generated is a \"perfect\" exponential function - if we undid the log operation, we'd get that as a result. Our transformed data is a drunken stumble version of an exponential distribution (we know this, because we looked at the math above). The closer the emperical data is to the analytical version, the better a fit that analytical version is, just like the normal data vs a prbability plot. "
   ]
  },
  {
   "cell_type": "markdown",
   "metadata": {},
   "source": [
    "#### Our Data and its Analytical Match\n",
    "\n",
    "What does all this mean? These general points are important! \n",
    "\n",
    "One of the uses of analytical models is to give us a simplied model that we can use to examine real data. \n",
    "The closer the data is to the model, the better it \"fits\". This allows us to utilize all that we know about that distribution to add to what we know from our data - if we know that our data follows a certain distribution (determined by matching our data to an analytical distribution) with certain parameters (measured from our emperical data), we can use this to do things like make predictions and generalizations based on a small(ish) emperical sample. We \"know\" the data will be distributed in a certain way, so all we need to do is adapt that to our specific inputs. \n",
    "\n",
    "Matching the distribution seen in our data to a known analytical distribution is a very important concept, especially as we move on to inferential (using stats to make predictions) statistics going forward. This is also why we can generalize things like polling from a small sample. We know, mathmatically, what to expect from an analytical distribution, so if we can \"fit\" our data to one of these distributions, we can use all that knowledge to draw conclusions on our data. \n",
    "\n",
    "Things like the log scale for exponential functions give us a way to look for fit. There's visual and analytical methods. "
   ]
  },
  {
   "cell_type": "code",
   "execution_count": 278,
   "metadata": {},
   "outputs": [
    {
     "name": "stderr",
     "output_type": "stream",
     "text": [
      "No handles with labels found to put in legend.\n"
     ]
    },
    {
     "data": {
      "text/plain": [
       "<matplotlib.legend.Legend at 0x7fcf45514cd0>"
      ]
     },
     "execution_count": 278,
     "metadata": {},
     "output_type": "execute_result"
    },
    {
     "data": {
      "image/png": "[encoded data removed]",
      "text/plain": [
       "<Figure size 432x288 with 1 Axes>"
      ]
     },
     "metadata": {
      "needs_background": "light"
     },
     "output_type": "display_data"
    }
   ],
   "source": [
    "#Show best fit line on graph.\n",
    "plt.title('Distance between the real value and the prediction matters...')\n",
    "sns.scatterplot(data=df, x=\"Day\", y=\"Infections\")\n",
    "sns.lineplot(x=x, y=y_fit, color=\"red\")\n",
    "plt.yscale('log')\n",
    "plt.legend()"
   ]
  },
  {
   "cell_type": "markdown",
   "metadata": {},
   "source": [
    "## Exercise - Part 2\n",
    "\n",
    "Plot the log-transformed version of the plot of the data. "
   ]
  },
  {
   "cell_type": "code",
   "execution_count": 279,
   "metadata": {},
   "outputs": [],
   "source": [
    "#Generate best fit line\n",
    "#You don't need to memorize this, we'll do this stuff later when we do scatter plots and regression. \n",
    "ex_y = np.log(ex[\"Value\"])\n",
    "ex_x = ex[\"Index\"]\n",
    "ex_m, ex_b = np.polyfit(ex_x, ex_y, 1, w=np.sqrt(ex_y))\n",
    "ex_fit=np.exp(ex_m * ex_x + ex_b)"
   ]
  },
  {
   "cell_type": "code",
   "execution_count": 280,
   "metadata": {},
   "outputs": [
    {
     "name": "stderr",
     "output_type": "stream",
     "text": [
      "No handles with labels found to put in legend.\n"
     ]
    },
    {
     "data": {
      "text/plain": [
       "<matplotlib.legend.Legend at 0x7fcf4574f220>"
      ]
     },
     "execution_count": 280,
     "metadata": {},
     "output_type": "execute_result"
    },
    {
     "data": {
      "image/png": "[encoded data removed]",
      "text/plain": [
       "<Figure size 432x288 with 1 Axes>"
      ]
     },
     "metadata": {
      "needs_background": "light"
     },
     "output_type": "display_data"
    }
   ],
   "source": [
    "# Plot\n",
    "sns.scatterplot(data=ex, x=\"Index\", y=\"Value\")\n",
    "sns.lineplot(x=ex_x, y=ex_fit, color=\"red\")\n",
    "plt.yscale('log')\n",
    "plt.legend()"
   ]
  },
  {
   "cell_type": "markdown",
   "metadata": {},
   "source": [
    "##### Exercise Findings\n",
    "\n",
    "It looks like a good match early, then splits a bit at the end. "
   ]
  },
  {
   "cell_type": "markdown",
   "metadata": {},
   "source": [
    "### Analytical Predictions\n",
    "\n",
    "We can \"undo\" the log part to see our new predictions! They aren't awesome, but we just started. \n",
    "\n",
    "The closer of a match that we can get of an analytical distribution to our emperical distribution, the more that analytical distribution will help us make generalizations. There are a few things we can do to improve this match:\n",
    "<ul>\n",
    "<li> Increase sample size - if possible, adding more sample data will allow us to better and more accurately match to an analytical distribution. \n",
    "<li> Use transformations - things like logs to make skewed normal distributions normal can help manipulate data to more closely match an analytical distribution. \n",
    "<li> Choose different distributions - we will look at a few, there are many. While the bulk of scenarios can be captured with a handful of distributions (normal, lognormal, exponential, pareto, etc...), there are a bunch that may fit your data. \n",
    "<li> Balance fit to the model - this is a concept that we'll revisit heavily when doing machine learning. In short, we want an analytical model that follows the same pattern as our emperical distribution - but is not <b>so</b> tailored to the data that it does things like follow singular outliers to the detriment of the overall fit. \n",
    "</ul>"
   ]
  },
  {
   "cell_type": "code",
   "execution_count": 281,
   "metadata": {},
   "outputs": [
    {
     "name": "stderr",
     "output_type": "stream",
     "text": [
      "No handles with labels found to put in legend.\n"
     ]
    },
    {
     "data": {
      "text/plain": [
       "<matplotlib.legend.Legend at 0x7fcf4516da30>"
      ]
     },
     "execution_count": 281,
     "metadata": {},
     "output_type": "execute_result"
    },
    {
     "data": {
      "image/png": "[encoded data removed]",
      "text/plain": [
       "<Figure size 432x288 with 1 Axes>"
      ]
     },
     "metadata": {
      "needs_background": "light"
     },
     "output_type": "display_data"
    }
   ],
   "source": [
    "plt.title('Distance between the real value and the prediction matters...')\n",
    "sns.scatterplot(data=df, x=\"Day\", y=\"Infections\")\n",
    "sns.lineplot(x=x, y=y_fit, color=\"red\")\n",
    "plt.title('COVID Gonna Give It To Ya')\n",
    "plt.legend()"
   ]
  },
  {
   "cell_type": "markdown",
   "metadata": {},
   "source": [
    "## Generate Exponential Dataset - You Can Ignore From Here Down"
   ]
  },
  {
   "cell_type": "code",
   "execution_count": 282,
   "metadata": {},
   "outputs": [
    {
     "data": {
      "text/plain": [
       "<AxesSubplot:ylabel='Proportion'>"
      ]
     },
     "execution_count": 282,
     "metadata": {},
     "output_type": "execute_result"
    },
    {
     "data": {
      "image/png": "[encoded data removed]",
      "text/plain": [
       "<Figure size 432x288 with 1 Axes>"
      ]
     },
     "metadata": {
      "needs_background": "light"
     },
     "output_type": "display_data"
    }
   ],
   "source": [
    "a = scipy.stats.expon.rvs(size=250, scale=5, loc=78)\n",
    "a.sort()\n",
    "sns.ecdfplot(a)"
   ]
  },
  {
   "cell_type": "code",
   "execution_count": 283,
   "metadata": {},
   "outputs": [
    {
     "data": {
      "text/plain": [
       "array([  0.,   1.,   2.,   3.,   4.,   5.,   6.,   7.,   8.,   9.,  10.,\n",
       "        11.,  12.,  13.,  14.,  15.,  16.,  17.,  18.,  19.,  20.,  21.,\n",
       "        22.,  23.,  24.,  25.,  26.,  27.,  28.,  29.,  30.,  31.,  32.,\n",
       "        33.,  34.,  35.,  36.,  37.,  38.,  39.,  40.,  41.,  42.,  43.,\n",
       "        44.,  45.,  46.,  47.,  48.,  49.,  50.,  51.,  52.,  53.,  54.,\n",
       "        55.,  56.,  57.,  58.,  59.,  60.,  61.,  62.,  63.,  64.,  65.,\n",
       "        66.,  67.,  68.,  69.,  70.,  71.,  72.,  73.,  74.,  75.,  76.,\n",
       "        77.,  78.,  79.,  80.,  81.,  82.,  83.,  84.,  85.,  86.,  87.,\n",
       "        88.,  89.,  90.,  91.,  92.,  93.,  94.,  95.,  96.,  97.,  98.,\n",
       "        99., 100., 101., 102., 103., 104., 105., 106., 107., 108., 109.,\n",
       "       110., 111., 112., 113., 114., 115., 116., 117., 118., 119., 120.,\n",
       "       121., 122., 123., 124., 125., 126., 127., 128., 129., 130., 131.,\n",
       "       132., 133., 134., 135., 136., 137., 138., 139., 140., 141., 142.,\n",
       "       143., 144., 145., 146., 147., 148., 149., 150., 151., 152., 153.,\n",
       "       154., 155., 156., 157., 158., 159., 160., 161., 162., 163., 164.,\n",
       "       165., 166., 167., 168., 169., 170., 171., 172., 173., 174., 175.,\n",
       "       176., 177., 178., 179., 180., 181., 182., 183., 184., 185., 186.,\n",
       "       187., 188., 189., 190., 191., 192., 193., 194., 195., 196., 197.,\n",
       "       198., 199., 200., 201., 202., 203., 204., 205., 206., 207., 208.,\n",
       "       209., 210., 211., 212., 213., 214., 215., 216., 217., 218., 219.,\n",
       "       220., 221., 222., 223., 224., 225., 226., 227., 228., 229., 230.,\n",
       "       231., 232., 233., 234., 235., 236., 237., 238., 239., 240., 241.,\n",
       "       242., 243., 244., 245., 246., 247., 248., 249.])"
      ]
     },
     "execution_count": 283,
     "metadata": {},
     "output_type": "execute_result"
    }
   ],
   "source": [
    "b = np.linspace(0,249,250)\n",
    "b"
   ]
  },
  {
   "cell_type": "code",
   "execution_count": 284,
   "metadata": {},
   "outputs": [
    {
     "data": {
      "text/plain": [
       "array([2.15361426e+00, 1.93143956e-01, 2.99783089e+00, 1.36213228e+00,\n",
       "       2.92877241e+00, 2.01464586e-01, 2.20723131e+00, 1.86989646e+00,\n",
       "       2.20253840e+00, 1.89358785e+00, 1.63497206e+00, 1.98417350e+00,\n",
       "       1.14797131e+00, 9.94343940e-01, 7.39277906e-02, 2.68094786e+00,\n",
       "       2.09655193e+00, 1.37935213e-03, 8.37156601e-02, 1.59240937e+00,\n",
       "       4.21513435e-01, 6.25192434e-01, 8.94110974e-01, 2.33815230e+00,\n",
       "       2.17364288e+00, 4.35953092e-01, 8.71033849e-01, 1.06533101e+00,\n",
       "       2.05777802e+00, 4.16020391e-02, 1.89769741e+00, 2.52932548e+00,\n",
       "       1.81580424e+00, 2.62564722e+00, 1.21447641e+00, 1.69262704e+00,\n",
       "       1.73788803e+00, 2.87547857e+00, 1.57723812e+00, 1.71196575e-01,\n",
       "       1.65440970e+00, 7.33242587e-01, 2.41658601e+00, 6.82324703e-01,\n",
       "       2.16519410e+00, 1.48388728e+00, 1.85520883e+00, 8.68878144e-01,\n",
       "       2.66259742e+00, 1.52136404e+00, 1.42654714e+00, 4.90373521e-01,\n",
       "       2.43148106e+00, 2.12301522e-01, 9.99982589e-01, 2.69440068e+00,\n",
       "       2.10975861e+00, 1.45453771e+00, 1.60401853e+00, 1.45714954e+00,\n",
       "       2.26444329e+00, 2.14394896e-01, 5.00448237e-01, 1.55472020e+00,\n",
       "       2.42088579e+00, 1.54056717e+00, 2.17646444e+00, 2.32930644e-01,\n",
       "       2.28951734e+00, 1.62738730e+00, 1.90756043e-01, 1.58783037e-01,\n",
       "       7.35286698e-03, 1.03345585e+00, 1.57668030e-01, 1.38302530e-01,\n",
       "       1.59482269e+00, 1.93664662e+00, 2.02887423e+00, 1.00325379e+00,\n",
       "       1.10182209e+00, 7.28476926e-02, 2.48071515e+00, 1.91657953e+00,\n",
       "       1.14699380e+00, 1.81368178e+00, 1.61452941e+00, 1.74806393e+00,\n",
       "       2.90636540e+00, 6.34676024e-01, 1.98457877e-01, 2.05077330e+00,\n",
       "       2.98001876e+00, 2.03252446e+00, 2.67422962e+00, 1.99989062e+00,\n",
       "       2.72580932e+00, 2.02571188e+00, 1.15436042e+00, 8.39771813e-01,\n",
       "       8.50688180e-01, 2.60333997e+00, 1.18301296e+00, 1.17709951e+00,\n",
       "       1.03959352e-01, 7.47764732e-01, 1.28427115e+00, 1.72407812e-01,\n",
       "       7.50027169e-01, 1.70949996e-01, 1.68840078e+00, 2.41886797e+00,\n",
       "       1.76531046e+00, 1.69629745e+00, 1.45584908e+00, 1.79012621e+00,\n",
       "       1.32398005e+00, 2.60484192e+00, 2.49284574e+00, 2.38948837e+00,\n",
       "       1.85940440e+00, 2.71330059e+00, 1.84964546e+00, 2.93647390e+00,\n",
       "       2.89711418e+00, 7.28217312e-01, 2.23472383e+00, 2.72750515e+00,\n",
       "       4.65834000e-01, 2.49100039e-01, 6.10143955e-01, 1.33030775e+00,\n",
       "       1.14801744e-01, 1.79243049e-01, 2.85211964e+00, 1.87297488e+00,\n",
       "       1.82705655e+00, 1.68892548e+00, 1.57531440e+00, 1.17360371e+00,\n",
       "       2.14368778e+00, 1.39208391e+00, 2.78459875e-02, 2.27827618e+00,\n",
       "       1.22282222e+00, 2.30152009e+00, 8.16746970e-01, 1.06532264e+00,\n",
       "       1.43450780e+00, 2.27173880e+00, 2.43792402e+00, 3.25419461e-01,\n",
       "       3.01199583e-01, 1.47562062e+00, 1.30103993e+00, 1.86738645e+00,\n",
       "       1.93063225e-01, 8.94461613e-01, 1.01057145e+00, 9.42988760e-01,\n",
       "       1.31135346e+00, 6.76762546e-01, 2.09198107e-01, 2.54368315e+00,\n",
       "       1.05315877e+00, 2.39807275e+00, 1.69854961e+00, 2.04096865e+00,\n",
       "       1.32438644e+00, 1.79913836e+00, 1.50115672e+00, 2.83431208e+00,\n",
       "       2.39536215e+00, 1.09998117e+00, 1.50160051e+00, 2.20367067e-01,\n",
       "       2.03469539e+00, 2.48098539e+00, 2.66561682e+00, 2.56279882e+00,\n",
       "       2.61735739e+00, 2.65092425e+00, 9.70198671e-01, 1.28558287e+00,\n",
       "       1.47314463e-02, 2.59602016e+00, 1.32994636e+00, 2.78508301e+00,\n",
       "       1.00670598e+00, 1.15644825e+00, 2.11418818e+00, 9.03349484e-02,\n",
       "       2.37077836e+00, 8.13741857e-01, 9.05798325e-01, 2.45552840e+00,\n",
       "       2.37648933e+00, 1.34819574e-03, 1.86377553e+00, 2.89484594e+00,\n",
       "       2.64326323e+00, 6.63500133e-01, 2.99089657e+00, 1.30494641e-01,\n",
       "       2.25330473e+00, 2.55681870e+00, 6.02342188e-01, 2.63305054e+00,\n",
       "       1.79405664e+00, 5.30565942e-01, 2.11439059e-01, 4.02959245e-01,\n",
       "       7.33226348e-01, 1.84460980e+00, 2.32041548e+00, 1.25877731e+00,\n",
       "       1.62263814e+00, 4.99787004e-01, 1.95210908e+00, 2.18886160e+00,\n",
       "       1.04136567e-02, 7.92320183e-01, 1.53717892e+00, 9.47717426e-01,\n",
       "       7.89803239e-01, 2.66092788e+00, 2.57985219e+00, 2.12794155e+00,\n",
       "       4.00074438e-01, 2.84883895e-01, 1.51803467e+00, 3.02984504e-01,\n",
       "       4.87413041e-01, 5.81382421e-01, 2.75216815e-01, 1.08065930e+00,\n",
       "       4.56418741e-01, 1.78729383e+00, 1.83155914e-02, 1.36641948e+00,\n",
       "       1.91489544e+00, 1.41432975e-01, 2.51364161e+00, 1.88544487e+00,\n",
       "       3.10120575e-01, 1.99420280e+00, 1.21513767e+00, 2.01634550e-01,\n",
       "       1.80944992e+00, 1.12613537e+00])"
      ]
     },
     "execution_count": 284,
     "metadata": {},
     "output_type": "execute_result"
    }
   ],
   "source": [
    "c = np.random.rand(1,250)*3\n",
    "c[0]"
   ]
  },
  {
   "cell_type": "code",
   "execution_count": 285,
   "metadata": {},
   "outputs": [
    {
     "name": "stdout",
     "output_type": "stream",
     "text": [
      "[ 78.20609451  78.28324664  78.37225777  78.37385081  78.46367838\n",
      "  78.62559023  78.87572521  78.89765717  78.96847201  79.1017257\n",
      "  79.14975971  79.29247946  79.32366465  79.37370727  79.39524016\n",
      "  79.41065697  79.41622675  79.42256013  79.44440169  79.44981193\n",
      "  79.45022661  79.4924494   79.542362    79.56051319  79.59723507\n",
      "  79.60619512  79.61708666  79.62115272  79.64277842  79.73931316\n",
      "  79.83486207  79.86273478  79.9379504   79.98613986  79.99431989\n",
      "  80.02867909  80.07626572  80.15550783  80.23550772  80.25420558\n",
      "  80.29933352  80.32827557  80.34181889  80.34398246  80.35913342\n",
      "  80.38293024  80.40361238  80.40377621  80.41310203  80.41338517\n",
      "  80.41885056  80.4281521   80.43494191  80.45003635  80.45327356\n",
      "  80.49261056  80.50883302  80.53332155  80.57400163  80.60890152\n",
      "  80.61761348  80.63624934  80.69920415  80.70028116  80.7226128\n",
      "  80.72711592  80.78961647  80.85869123  80.90245563  80.95188995\n",
      "  80.97776321  80.98102545  80.98355762  80.98883018  81.02432574\n",
      "  81.05836265  81.06426548  81.06971776  81.12720129  81.16588671\n",
      "  81.17885027  81.18313341  81.27322648  81.29780166  81.32075315\n",
      "  81.33802486  81.38044849  81.41020598  81.41187058  81.41741325\n",
      "  81.4205046   81.46798577  81.46800646  81.4943629   81.52629844\n",
      "  81.53023329  81.53045539  81.53334532  81.54406007  81.55197198\n",
      "  81.58905316  81.59732055  81.64641784  81.66688339  81.73335613\n",
      "  81.85959397  81.8649601   81.95479525  81.98185585  81.98591862\n",
      "  82.01788858  82.0209895   82.04995472  82.176744    82.18507498\n",
      "  82.22231989  82.27690936  82.37001047  82.60850778  82.6247997\n",
      "  82.6840991   82.69544033  82.71711892  82.72594221  82.78621751\n",
      "  82.91255983  82.92609338  83.01248324  83.20690503  83.21321432\n",
      "  83.2416002   83.26070618  83.26580703  83.28620969  83.30148242\n",
      "  83.30241479  83.40041532  83.47219657  83.51180734  83.5343302\n",
      "  83.54084102  83.56445083  83.56699717  83.57301522  83.6531076\n",
      "  83.79329033  83.79581373  83.81803139  83.98246228  84.10307769\n",
      "  84.1219788   84.22295374  84.29211156  84.33536592  84.34463879\n",
      "  84.41118008  84.4202602   84.43571443  84.57082138  84.5873899\n",
      "  84.66187228  84.68418458  84.77284539  84.83456734  84.93097315\n",
      "  85.01461348  85.12615729  85.24539483  85.26083288  85.34671283\n",
      "  85.48776508  85.49956403  85.58535053  85.67057595  85.72097987\n",
      "  85.77641015  85.91411072  85.92390681  85.99313023  86.05416163\n",
      "  86.23091421  86.25682196  86.31162125  86.33788987  86.40712481\n",
      "  86.4718174   86.52136458  86.73292513  86.77862306  86.78164179\n",
      "  86.86051196  87.00710337  87.09120171  87.09594315  87.09837435\n",
      "  87.15235831  87.17655721  87.201796    87.25830964  87.47447413\n",
      "  87.75682663  87.79624289  87.92972621  88.08248642  88.13645978\n",
      "  88.30217526  88.43970429  88.49117786  88.75597967  88.90408968\n",
      "  88.98259954  89.04318032  89.12176188  89.13049937  89.18920024\n",
      "  89.28626007  89.57238072  89.72552805  89.8602542   90.05570032\n",
      "  90.19007172  90.23602905  90.53102911  90.58530613  90.58997468\n",
      "  90.69208538  91.01097813  91.5236044   91.76643455  91.80549092\n",
      "  92.01523375  92.16657185  92.21221024  92.2274196   92.72610454\n",
      "  92.72660895  92.82580013  92.94941298  94.20186244  94.97570011\n",
      "  95.42558383  96.1356541   96.19454219  97.34746916  97.95434169\n",
      " 103.40957061 104.60806796 104.74294556 107.30275343 107.63628792]\n"
     ]
    }
   ],
   "source": [
    "d = a + c[0]\n",
    "d.sort()\n",
    "print(d)"
   ]
  },
  {
   "cell_type": "code",
   "execution_count": 286,
   "metadata": {},
   "outputs": [
    {
     "data": {
      "text/html": [
       "<div>\n",
       "<style scoped>\n",
       "    .dataframe tbody tr th:only-of-type {\n",
       "        vertical-align: middle;\n",
       "    }\n",
       "\n",
       "    .dataframe tbody tr th {\n",
       "        vertical-align: top;\n",
       "    }\n",
       "\n",
       "    .dataframe thead th {\n",
       "        text-align: right;\n",
       "    }\n",
       "</style>\n",
       "<table border=\"1\" class=\"dataframe\">\n",
       "  <thead>\n",
       "    <tr style=\"text-align: right;\">\n",
       "      <th></th>\n",
       "      <th>Index</th>\n",
       "      <th>Value</th>\n",
       "    </tr>\n",
       "  </thead>\n",
       "  <tbody>\n",
       "    <tr>\n",
       "      <th>245</th>\n",
       "      <td>245.0</td>\n",
       "      <td>101.415368</td>\n",
       "    </tr>\n",
       "    <tr>\n",
       "      <th>246</th>\n",
       "      <td>246.0</td>\n",
       "      <td>103.392930</td>\n",
       "    </tr>\n",
       "    <tr>\n",
       "      <th>247</th>\n",
       "      <td>247.0</td>\n",
       "      <td>104.541311</td>\n",
       "    </tr>\n",
       "    <tr>\n",
       "      <th>248</th>\n",
       "      <td>248.0</td>\n",
       "      <td>105.493304</td>\n",
       "    </tr>\n",
       "    <tr>\n",
       "      <th>249</th>\n",
       "      <td>249.0</td>\n",
       "      <td>106.510153</td>\n",
       "    </tr>\n",
       "  </tbody>\n",
       "</table>\n",
       "</div>"
      ],
      "text/plain": [
       "     Index       Value\n",
       "245  245.0  101.415368\n",
       "246  246.0  103.392930\n",
       "247  247.0  104.541311\n",
       "248  248.0  105.493304\n",
       "249  249.0  106.510153"
      ]
     },
     "execution_count": 286,
     "metadata": {},
     "output_type": "execute_result"
    }
   ],
   "source": [
    "tmp_df = pd.DataFrame([b,a]).T\n",
    "tmp_df.columns = [\"Index\", \"Value\"]\n",
    "tmp_df.sort_values(ascending=True, inplace=True, by=\"Value\")\n",
    "tmp_df.tail()"
   ]
  },
  {
   "cell_type": "code",
   "execution_count": 287,
   "metadata": {},
   "outputs": [],
   "source": [
    "tmp_df.head(230).to_csv(\"data/expon.csv\", index=False)"
   ]
  }
 ],
 "metadata": {
  "kernelspec": {
   "display_name": "Python 3.9.7 ('ml3950')",
   "language": "python",
   "name": "python3"
  },
  "language_info": {
   "codemirror_mode": {
    "name": "ipython",
    "version": 3
   },
   "file_extension": ".py",
   "mimetype": "text/x-python",
   "name": "python",
   "nbconvert_exporter": "python",
   "pygments_lexer": "ipython3",
   "version": "3.9.7"
  },
  "orig_nbformat": 4,
  "vscode": {
   "interpreter": {
    "hash": "4d722d3adfa415172c1f5238b519fb86b488acdae450fd691ab06c09f4ca9173"
   }
  }
 },
 "nbformat": 4,
 "nbformat_minor": 2
}
