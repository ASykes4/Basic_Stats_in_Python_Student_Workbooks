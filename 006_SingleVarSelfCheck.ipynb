{
 "cells": [
  {
   "cell_type": "code",
   "execution_count": 2,
   "metadata": {},
   "outputs": [],
   "source": [
    "#Import Stuff\n",
    "import thinkplot\n",
    "import thinkstats2\n",
    "import pandas as pd\n",
    "import numpy as np"
   ]
  },
  {
   "cell_type": "markdown",
   "metadata": {},
   "source": [
    "# Single Variable Stats\n",
    "\n",
    "We can take a quick visual look at some of the major stats and charts that are relevant thus far. This page is made in Tableau, since it is a quick and easy way to visualize data: https://public.tableau.com/app/profile/akeem.semper/viz/BasicStatsCharts/Story1 \n",
    "\n",
    "Tableau is free if you're a student, you can get a copy here: https://www.tableau.com/university-students "
   ]
  },
  {
   "cell_type": "markdown",
   "metadata": {},
   "source": [
    "## Single Variable Exploration - Self Check Exercise\n",
    "\n",
    "This is a (mostly) empty template that can be used for a little bit of a self check of the CH 1-4 stuff, or the basic examination of one varaible.\n",
    "\n",
    "This is useful becuase there's very little guidance, so you'll need to figure out what to do on your own. Looking forward, one of the primary reasons that we need to know this stuff for machine learning is something called Exploratory Data Analysis (EDA), which is usually the first step in doing machine learning stuff. We take whatever data we're using, load it up, and look through it to see if anything is wrong, weird, useful, or interersting. This helps us prepare our data for the ML work, to make things as accurate and reliable as possible. This little bit is kind of part 1 of EDA that you'll need to do later on.\n",
    "\n",
    "The first dataset is pretty simple. The second is slightly more complex. "
   ]
  },
  {
   "cell_type": "markdown",
   "metadata": {},
   "source": [
    "Here's a few potentially useful things that you don't need to memorize:\n",
    "<ul>\n",
    "<li>Get rid of any non-numbers: newDataFrame = oldDF[~np.isnan(oldDF)]\n",
    "<li>Apply a function to everything in a dataframe (one with one column!): (e.g. mult by 2.54): dataFrame.apply(lambda x: x*2.54)\n",
    "</ul>"
   ]
  },
  {
   "cell_type": "markdown",
   "metadata": {},
   "source": [
    "#### Load Data and Explore"
   ]
  },
  {
   "cell_type": "code",
   "execution_count": 3,
   "metadata": {},
   "outputs": [
    {
     "data": {
      "text/html": [
       "<div>\n",
       "<style scoped>\n",
       "    .dataframe tbody tr th:only-of-type {\n",
       "        vertical-align: middle;\n",
       "    }\n",
       "\n",
       "    .dataframe tbody tr th {\n",
       "        vertical-align: top;\n",
       "    }\n",
       "\n",
       "    .dataframe thead th {\n",
       "        text-align: right;\n",
       "    }\n",
       "</style>\n",
       "<table border=\"1\" class=\"dataframe\">\n",
       "  <thead>\n",
       "    <tr style=\"text-align: right;\">\n",
       "      <th></th>\n",
       "      <th>Gender</th>\n",
       "      <th>Height</th>\n",
       "      <th>Weight</th>\n",
       "      <th>Index</th>\n",
       "    </tr>\n",
       "  </thead>\n",
       "  <tbody>\n",
       "    <tr>\n",
       "      <th>0</th>\n",
       "      <td>Male</td>\n",
       "      <td>174</td>\n",
       "      <td>96</td>\n",
       "      <td>4</td>\n",
       "    </tr>\n",
       "    <tr>\n",
       "      <th>1</th>\n",
       "      <td>Male</td>\n",
       "      <td>189</td>\n",
       "      <td>87</td>\n",
       "      <td>2</td>\n",
       "    </tr>\n",
       "    <tr>\n",
       "      <th>2</th>\n",
       "      <td>Female</td>\n",
       "      <td>185</td>\n",
       "      <td>110</td>\n",
       "      <td>4</td>\n",
       "    </tr>\n",
       "    <tr>\n",
       "      <th>3</th>\n",
       "      <td>Female</td>\n",
       "      <td>195</td>\n",
       "      <td>104</td>\n",
       "      <td>3</td>\n",
       "    </tr>\n",
       "    <tr>\n",
       "      <th>4</th>\n",
       "      <td>Male</td>\n",
       "      <td>149</td>\n",
       "      <td>61</td>\n",
       "      <td>3</td>\n",
       "    </tr>\n",
       "  </tbody>\n",
       "</table>\n",
       "</div>"
      ],
      "text/plain": [
       "   Gender  Height  Weight  Index\n",
       "0    Male     174      96      4\n",
       "1    Male     189      87      2\n",
       "2  Female     185     110      4\n",
       "3  Female     195     104      3\n",
       "4    Male     149      61      3"
      ]
     },
     "execution_count": 3,
     "metadata": {},
     "output_type": "execute_result"
    }
   ],
   "source": [
    "#Load the data\n",
    "#filename is 'HeightWeight.csv\"\n",
    "df = pd.read_csv(\"data/HeightWeight.csv\")\n",
    "df.head()"
   ]
  },
  {
   "cell_type": "code",
   "execution_count": 4,
   "metadata": {},
   "outputs": [
    {
     "data": {
      "text/plain": [
       "count    500.000000\n",
       "mean     106.000000\n",
       "std       32.382607\n",
       "min       50.000000\n",
       "25%       80.000000\n",
       "50%      106.000000\n",
       "75%      136.000000\n",
       "max      160.000000\n",
       "Name: Weight, dtype: float64"
      ]
     },
     "execution_count": 4,
     "metadata": {},
     "output_type": "execute_result"
    }
   ],
   "source": [
    "#Do basic exploration - range, min, max, std, mean...\n",
    "#Ask yourself, does this match your understanding of reality?\n",
    "df[\"Weight\"].describe()"
   ]
  },
  {
   "cell_type": "code",
   "execution_count": 5,
   "metadata": {},
   "outputs": [
    {
     "data": {
      "image/png": "[encoded data removed]",
      "text/plain": [
       "<Figure size 432x288 with 1 Axes>"
      ]
     },
     "metadata": {
      "needs_background": "light"
     },
     "output_type": "display_data"
    }
   ],
   "source": [
    "#Graph it, can you make a histogram, PMF, CDF?\n",
    "#When you look at it, does it make sense?\n",
    "hist = thinkstats2.Hist(round(df[\"Weight\"],-1))\n",
    "thinkplot.Hist(hist)"
   ]
  },
  {
   "cell_type": "markdown",
   "metadata": {},
   "source": [
    "#### Segment Dataset and Explore \n",
    "\n",
    "Segment the dataset by gender, so we can look at each sample. "
   ]
  },
  {
   "cell_type": "code",
   "execution_count": 6,
   "metadata": {},
   "outputs": [
    {
     "data": {
      "image/png": "[encoded data removed]",
      "text/plain": [
       "<Figure size 864x432 with 2 Axes>"
      ]
     },
     "metadata": {
      "needs_background": "light"
     },
     "output_type": "display_data"
    }
   ],
   "source": [
    "#Split the data. Do the stats and graphs for each gender.\n",
    "#Again, does it make sense? Match your understanding of reality?\n",
    "maleHeight = df[df[\"Gender\"] == 'Male']\n",
    "maleHeight = round(maleHeight[\"Height\"],-1)\n",
    "maleHist = thinkstats2.Hist(maleHeight)\n",
    "femaleHeight = df[df[\"Gender\"] == 'Female']\n",
    "femaleHeight = round(femaleHeight[\"Height\"],-1)\n",
    "femaleHist = thinkstats2.Hist(femaleHeight)\n",
    "\n",
    "\n",
    "thinkplot.PrePlot(num=2,rows=1,cols=2)\n",
    "thinkplot.SubPlot(1)\n",
    "thinkplot.Hist(maleHist)\n",
    "thinkplot.SubPlot(2)\n",
    "thinkplot.Hist(femaleHist)"
   ]
  },
  {
   "cell_type": "code",
   "execution_count": 7,
   "metadata": {},
   "outputs": [
    {
     "data": {
      "image/png": "[encoded data removed]",
      "text/plain": [
       "<Figure size 864x432 with 2 Axes>"
      ]
     },
     "metadata": {
      "needs_background": "light"
     },
     "output_type": "display_data"
    }
   ],
   "source": [
    "# Visualize the two distributions\n",
    "maleWeight = df[df[\"Gender\"] == 'Male']\n",
    "maleWeight = round(maleWeight[\"Weight\"],-1)\n",
    "maleWHist = thinkstats2.Hist(maleWeight)\n",
    "femaleWeight = df[df[\"Gender\"] == 'Female']\n",
    "femaleWeight = round(femaleWeight[\"Weight\"],-1)\n",
    "femaleWHist = thinkstats2.Hist(femaleWeight)\n",
    "\n",
    "\n",
    "thinkplot.PrePlot(num=2,rows=1,cols=2)\n",
    "thinkplot.SubPlot(1)\n",
    "thinkplot.Hist(maleWHist)\n",
    "thinkplot.SubPlot(2)\n",
    "thinkplot.Hist(femaleWHist)"
   ]
  },
  {
   "cell_type": "markdown",
   "metadata": {},
   "source": [
    "##### Draw Some Interim Conclusions\n",
    "\n",
    "Based on what we've seen so far, did anything stand out? Any trends, patterns, or anything that may spur further investigation or conclusions?\n",
    "\n",
    "<ul>\n",
    "<li> In your exploration, did anythign stand out? Are there weird patterns? Outliers? Things that don't make sense? Errors? Incorrect values?\n",
    "    <ul>\n",
    "    <li> (This dataset is pretty simple, so if you don't see anything crazy, that's normal.)\n",
    "    <li> Weight of women seems to be slightly flatter (lower kurtosis - this term comes later).\n",
    "    <li> Overall it is more uniform, and less normal than I'd expect.\n",
    "    </ul>\n",
    "</ul>"
   ]
  },
  {
   "cell_type": "markdown",
   "metadata": {},
   "source": [
    "## More Complex Exploration Example\n",
    "\n",
    "Repeat the basic process with this more complex data. For this, you might need to do more investigation/examination - particulary with things like errors, outliers, etc....\n",
    "\n",
    "This is kind of realistic - here's some data, is there anything we need to 'worry' about in using it? Does anything jump out as potentially interesting? Or possibly indicitive of something? \n",
    "<br><br><br>\n",
    "\n",
    "#### Explore WAGE - Considering POSITION and NATIONALITY\n",
    "\n",
    "If you consider WAGE as the varaible you care about - look for dasic descriptions, patterns, outliers or errors. Do things like POSITION or NATIONALITY indicate any differences in the WAGE?"
   ]
  },
  {
   "cell_type": "markdown",
   "metadata": {},
   "source": [
    "##### Load Data and Do Basic Exploration/Clean-up\n",
    "\n",
    "Load the data and see if there is anything that needs to be addressed before proceeding, like erroneuous data or massive outliers. This may consist of text-based statistics, visualizations, or both - the point of cleaning and exploring the data is to get it to the point where we can understand how to use it, however you get it there is OK. "
   ]
  },
  {
   "cell_type": "code",
   "execution_count": 8,
   "metadata": {},
   "outputs": [
    {
     "data": {
      "text/html": [
       "<div>\n",
       "<style scoped>\n",
       "    .dataframe tbody tr th:only-of-type {\n",
       "        vertical-align: middle;\n",
       "    }\n",
       "\n",
       "    .dataframe tbody tr th {\n",
       "        vertical-align: top;\n",
       "    }\n",
       "\n",
       "    .dataframe thead th {\n",
       "        text-align: right;\n",
       "    }\n",
       "</style>\n",
       "<table border=\"1\" class=\"dataframe\">\n",
       "  <thead>\n",
       "    <tr style=\"text-align: right;\">\n",
       "      <th></th>\n",
       "      <th>ID</th>\n",
       "      <th>Name</th>\n",
       "      <th>Age</th>\n",
       "      <th>Nationality</th>\n",
       "      <th>Overall</th>\n",
       "      <th>Potential</th>\n",
       "      <th>Club</th>\n",
       "      <th>Value</th>\n",
       "      <th>Wage</th>\n",
       "      <th>Preferred Foot</th>\n",
       "      <th>International Reputation</th>\n",
       "      <th>Skill Moves</th>\n",
       "      <th>Position</th>\n",
       "      <th>Joined</th>\n",
       "      <th>Contract Valid Until</th>\n",
       "      <th>Height</th>\n",
       "      <th>Weight</th>\n",
       "      <th>Release Clause</th>\n",
       "    </tr>\n",
       "  </thead>\n",
       "  <tbody>\n",
       "    <tr>\n",
       "      <th>0</th>\n",
       "      <td>158023</td>\n",
       "      <td>L. Messi</td>\n",
       "      <td>31</td>\n",
       "      <td>Argentina</td>\n",
       "      <td>94</td>\n",
       "      <td>94</td>\n",
       "      <td>FC Barcelona</td>\n",
       "      <td>110500.0</td>\n",
       "      <td>565.0</td>\n",
       "      <td>Left</td>\n",
       "      <td>5.0</td>\n",
       "      <td>4.0</td>\n",
       "      <td>RF</td>\n",
       "      <td>2004</td>\n",
       "      <td>2021-01-01</td>\n",
       "      <td>5.583333</td>\n",
       "      <td>159.0</td>\n",
       "      <td>226500.0</td>\n",
       "    </tr>\n",
       "    <tr>\n",
       "      <th>1</th>\n",
       "      <td>20801</td>\n",
       "      <td>Cristiano Ronaldo</td>\n",
       "      <td>33</td>\n",
       "      <td>Portugal</td>\n",
       "      <td>94</td>\n",
       "      <td>94</td>\n",
       "      <td>Juventus</td>\n",
       "      <td>77000.0</td>\n",
       "      <td>405.0</td>\n",
       "      <td>Right</td>\n",
       "      <td>5.0</td>\n",
       "      <td>5.0</td>\n",
       "      <td>ST</td>\n",
       "      <td>2018</td>\n",
       "      <td>2022-01-01</td>\n",
       "      <td>6.166667</td>\n",
       "      <td>183.0</td>\n",
       "      <td>127100.0</td>\n",
       "    </tr>\n",
       "    <tr>\n",
       "      <th>2</th>\n",
       "      <td>190871</td>\n",
       "      <td>Neymar Jr</td>\n",
       "      <td>26</td>\n",
       "      <td>Brazil</td>\n",
       "      <td>92</td>\n",
       "      <td>93</td>\n",
       "      <td>Paris Saint-Germain</td>\n",
       "      <td>118500.0</td>\n",
       "      <td>290.0</td>\n",
       "      <td>Right</td>\n",
       "      <td>5.0</td>\n",
       "      <td>5.0</td>\n",
       "      <td>LW</td>\n",
       "      <td>2017</td>\n",
       "      <td>2022-01-01</td>\n",
       "      <td>5.750000</td>\n",
       "      <td>150.0</td>\n",
       "      <td>228100.0</td>\n",
       "    </tr>\n",
       "    <tr>\n",
       "      <th>3</th>\n",
       "      <td>193080</td>\n",
       "      <td>De Gea</td>\n",
       "      <td>27</td>\n",
       "      <td>Spain</td>\n",
       "      <td>91</td>\n",
       "      <td>93</td>\n",
       "      <td>Manchester United</td>\n",
       "      <td>72000.0</td>\n",
       "      <td>260.0</td>\n",
       "      <td>Right</td>\n",
       "      <td>4.0</td>\n",
       "      <td>1.0</td>\n",
       "      <td>GK</td>\n",
       "      <td>2011</td>\n",
       "      <td>2020-01-01</td>\n",
       "      <td>6.333333</td>\n",
       "      <td>168.0</td>\n",
       "      <td>138600.0</td>\n",
       "    </tr>\n",
       "    <tr>\n",
       "      <th>4</th>\n",
       "      <td>192985</td>\n",
       "      <td>K. De Bruyne</td>\n",
       "      <td>27</td>\n",
       "      <td>Belgium</td>\n",
       "      <td>91</td>\n",
       "      <td>92</td>\n",
       "      <td>Manchester City</td>\n",
       "      <td>102000.0</td>\n",
       "      <td>355.0</td>\n",
       "      <td>Right</td>\n",
       "      <td>4.0</td>\n",
       "      <td>4.0</td>\n",
       "      <td>RCM</td>\n",
       "      <td>2015</td>\n",
       "      <td>2023-01-01</td>\n",
       "      <td>5.916667</td>\n",
       "      <td>154.0</td>\n",
       "      <td>196400.0</td>\n",
       "    </tr>\n",
       "  </tbody>\n",
       "</table>\n",
       "</div>"
      ],
      "text/plain": [
       "       ID               Name  Age Nationality  Overall  Potential  \\\n",
       "0  158023           L. Messi   31   Argentina       94         94   \n",
       "1   20801  Cristiano Ronaldo   33    Portugal       94         94   \n",
       "2  190871          Neymar Jr   26      Brazil       92         93   \n",
       "3  193080             De Gea   27       Spain       91         93   \n",
       "4  192985       K. De Bruyne   27     Belgium       91         92   \n",
       "\n",
       "                  Club     Value   Wage Preferred Foot  \\\n",
       "0         FC Barcelona  110500.0  565.0           Left   \n",
       "1             Juventus   77000.0  405.0          Right   \n",
       "2  Paris Saint-Germain  118500.0  290.0          Right   \n",
       "3    Manchester United   72000.0  260.0          Right   \n",
       "4      Manchester City  102000.0  355.0          Right   \n",
       "\n",
       "   International Reputation  Skill Moves Position  Joined  \\\n",
       "0                       5.0          4.0       RF    2004   \n",
       "1                       5.0          5.0       ST    2018   \n",
       "2                       5.0          5.0       LW    2017   \n",
       "3                       4.0          1.0       GK    2011   \n",
       "4                       4.0          4.0      RCM    2015   \n",
       "\n",
       "  Contract Valid Until    Height  Weight  Release Clause  \n",
       "0           2021-01-01  5.583333   159.0        226500.0  \n",
       "1           2022-01-01  6.166667   183.0        127100.0  \n",
       "2           2022-01-01  5.750000   150.0        228100.0  \n",
       "3           2020-01-01  6.333333   168.0        138600.0  \n",
       "4           2023-01-01  5.916667   154.0        196400.0  "
      ]
     },
     "execution_count": 8,
     "metadata": {},
     "output_type": "execute_result"
    }
   ],
   "source": [
    "#Filename is \"fifa_eda.csv\"\n",
    "df2 = pd.read_csv(\"data/fifa_eda.csv\")\n",
    "df2.head()"
   ]
  },
  {
   "cell_type": "code",
   "execution_count": 9,
   "metadata": {},
   "outputs": [
    {
     "data": {
      "text/plain": [
       "ID      Name           Age  Nationality  Overall  Potential  Club                Value   Wage  Preferred Foot  International Reputation  Skill Moves  Position  Joined  Contract Valid Until  Height    Weight  Release Clause\n",
       "16      Luis García    37   Spain        71       71         KAS Eupen           750.0   6.0   Right           1.0                       3.0          RCM       2014    2019-01-01            5.833333  143.0   1100.000000       1\n",
       "232053  T. Buhagiar    20   Australia    60       72         Sydney FC           375.0   1.0   Right           1.0                       3.0          CAM       2018    2020-01-01            5.833333  143.0   544.000000        1\n",
       "232070  R. Caballero   27   Paraguay     66       66         Rionegro Águilas    675.0   1.0   Left            1.0                       2.0          ST        2018    2021-01-01            6.000000  176.0   911.000000        1\n",
       "232067  N. Bandiera    28   Argentina    65       65         Curicó Unido        550.0   2.0   Right           1.0                       3.0          RM        2018    2021-01-01            5.666667  143.0   743.000000        1\n",
       "232066  W. González    23   Paraguay     73       81         Club León           6000.0  22.0  Right           1.0                       3.0          ST        2016    2018-12-31            6.083333  174.0   4585.060806       1\n",
       "                                                                                                                                                                                                                                 ..\n",
       "207683  S. Dioudis     25   Greece       72       75         Panathinaikos FC    2800.0  1.0   Right           1.0                       1.0          GK        2017    2020-01-01            6.166667  176.0   6300.000000       1\n",
       "207684  G. Gianniotas  25   Greece       70       73         AEK Athens          2200.0  1.0   Right           1.0                       3.0          LM        2018    2021-01-01            5.750000  159.0   5100.000000       1\n",
       "207707  Marçal         29   Brazil       77       77         Olympique Lyonnais  6500.0  54.0  Left            2.0                       3.0          LB        2017    2021-01-01            5.833333  163.0   12400.000000      1\n",
       "207708  Fábio          28   Brazil       68       69         CD Aves             725.0   4.0   Right           1.0                       1.0          GK        2018    2019-01-01            6.416667  190.0   1600.000000       1\n",
       "246620  E. McCue       17   Sweden       51       74         Houston Dynamo      70.0    1.0   Right           1.0                       2.0          CB        2018    2021-01-01            6.333333  185.0   175.000000        1\n",
       "Length: 17907, dtype: int64"
      ]
     },
     "execution_count": 9,
     "metadata": {},
     "output_type": "execute_result"
    }
   ],
   "source": [
    "#Generate some overview statistics\n",
    "df2.value_counts()"
   ]
  },
  {
   "cell_type": "markdown",
   "metadata": {},
   "source": [
    "##### Segment Data - Extract Needed Columns\n",
    "\n",
    "We don't need all the other stuff at the moment. For ease, we can chop out the 3 columns we care about, and work with that subset. \n",
    "\n",
    "Note: leaving all the data together is fine, this is only to make it a little easier since we know we only care about some of it. "
   ]
  },
  {
   "cell_type": "code",
   "execution_count": 22,
   "metadata": {},
   "outputs": [
    {
     "data": {
      "image/png": "[encoded data removed]",
      "text/plain": [
       "<Figure size 432x288 with 1 Axes>"
      ]
     },
     "metadata": {
      "needs_background": "light"
     },
     "output_type": "display_data"
    }
   ],
   "source": [
    "wPN = df2[[\"Wage\",\"Position\",\"Nationality\"]]\n",
    "wPN[\"Wage\"].describe()\n",
    "wPNHist = thinkstats2.Hist(wPN[\"Wage\"])\n",
    "thinkplot.Pmf(wPNHist)"
   ]
  },
  {
   "cell_type": "markdown",
   "metadata": {},
   "source": [
    "##### Wages - Check for Outliers\n",
    "\n",
    "One thing to note right here - we have a real outlier! Look at the largest wage.\n",
    "Is this an error? Is someone just Bezos-level right? We need domain knowledge - i.e. I'm going to look up more info and Google\n",
    "\n",
    "As well, some people have a wage of 0."
   ]
  },
  {
   "cell_type": "code",
   "execution_count": 15,
   "metadata": {},
   "outputs": [
    {
     "data": {
      "text/plain": [
       "Wage              565.0\n",
       "Position             ST\n",
       "Nationality    Zimbabwe\n",
       "dtype: object"
      ]
     },
     "execution_count": 15,
     "metadata": {},
     "output_type": "execute_result"
    }
   ],
   "source": [
    "#Look up the rich person\n",
    "wPN.max()"
   ]
  },
  {
   "cell_type": "markdown",
   "metadata": {},
   "source": [
    "##### Outlier Investigation - Researching Context\n",
    "\n",
    "I don't know much about the details of soccer, but I do know Messi is a crazy huge star. I'm going to Google \"Messi Wage\" and see what I find. One of the first hits was: https://www.cbssports.com/soccer/news/lionel-messi-barcelona-contract-details-674-million-earnings-leaked-by-spanish-paper-in-bombshell-report/\n",
    "It appears this is real. \n",
    "\n",
    "Should we remove it? Depends on out exact intent... If we are looking at how much soccar players normally earn, filtering out people who are such massive outliers may make sense. This is where we need to understand what we are doing this for, in reality - not stats. We are basically doing this as an exercise, so we can arbitrarily pick. I'm going to say that if there is a 'stream' of big salaries leading up to Messi, we'll leave it in. If he's way out in front with a massive jump, then it is likely not helpful. \n",
    "\n",
    "The 0 wages are similar. Are they players who are between contracts? Players who didn't make the cut? We need to know what this means in reality to make a real decision. Since the wage values are in the hundreds, and based off of what I read in teh above article, I can surmise that these contracts are likely less than one million, since the wage values are measured in millions. They stay!"
   ]
  },
  {
   "cell_type": "code",
   "execution_count": 31,
   "metadata": {},
   "outputs": [
    {
     "data": {
      "text/html": [
       "<div>\n",
       "<style scoped>\n",
       "    .dataframe tbody tr th:only-of-type {\n",
       "        vertical-align: middle;\n",
       "    }\n",
       "\n",
       "    .dataframe tbody tr th {\n",
       "        vertical-align: top;\n",
       "    }\n",
       "\n",
       "    .dataframe thead th {\n",
       "        text-align: right;\n",
       "    }\n",
       "</style>\n",
       "<table border=\"1\" class=\"dataframe\">\n",
       "  <thead>\n",
       "    <tr style=\"text-align: right;\">\n",
       "      <th></th>\n",
       "      <th>Wage</th>\n",
       "      <th>Position</th>\n",
       "      <th>Nationality</th>\n",
       "    </tr>\n",
       "  </thead>\n",
       "  <tbody>\n",
       "    <tr>\n",
       "      <th>0</th>\n",
       "      <td>565.0</td>\n",
       "      <td>RF</td>\n",
       "      <td>Argentina</td>\n",
       "    </tr>\n",
       "    <tr>\n",
       "      <th>1</th>\n",
       "      <td>405.0</td>\n",
       "      <td>ST</td>\n",
       "      <td>Portugal</td>\n",
       "    </tr>\n",
       "    <tr>\n",
       "      <th>2</th>\n",
       "      <td>290.0</td>\n",
       "      <td>LW</td>\n",
       "      <td>Brazil</td>\n",
       "    </tr>\n",
       "    <tr>\n",
       "      <th>3</th>\n",
       "      <td>260.0</td>\n",
       "      <td>GK</td>\n",
       "      <td>Spain</td>\n",
       "    </tr>\n",
       "    <tr>\n",
       "      <th>4</th>\n",
       "      <td>355.0</td>\n",
       "      <td>RCM</td>\n",
       "      <td>Belgium</td>\n",
       "    </tr>\n",
       "    <tr>\n",
       "      <th>...</th>\n",
       "      <td>...</td>\n",
       "      <td>...</td>\n",
       "      <td>...</td>\n",
       "    </tr>\n",
       "    <tr>\n",
       "      <th>13717</th>\n",
       "      <td>11.0</td>\n",
       "      <td>CM</td>\n",
       "      <td>England</td>\n",
       "    </tr>\n",
       "    <tr>\n",
       "      <th>13778</th>\n",
       "      <td>9.0</td>\n",
       "      <td>LM</td>\n",
       "      <td>Cyprus</td>\n",
       "    </tr>\n",
       "    <tr>\n",
       "      <th>14036</th>\n",
       "      <td>9.0</td>\n",
       "      <td>CB</td>\n",
       "      <td>England</td>\n",
       "    </tr>\n",
       "    <tr>\n",
       "      <th>14225</th>\n",
       "      <td>9.0</td>\n",
       "      <td>LM</td>\n",
       "      <td>Republic of Ireland</td>\n",
       "    </tr>\n",
       "    <tr>\n",
       "      <th>14537</th>\n",
       "      <td>10.0</td>\n",
       "      <td>ST</td>\n",
       "      <td>England</td>\n",
       "    </tr>\n",
       "  </tbody>\n",
       "</table>\n",
       "<p>4665 rows × 3 columns</p>\n",
       "</div>"
      ],
      "text/plain": [
       "        Wage Position          Nationality\n",
       "0      565.0       RF            Argentina\n",
       "1      405.0       ST             Portugal\n",
       "2      290.0       LW               Brazil\n",
       "3      260.0       GK                Spain\n",
       "4      355.0      RCM              Belgium\n",
       "...      ...      ...                  ...\n",
       "13717   11.0       CM              England\n",
       "13778    9.0       LM               Cyprus\n",
       "14036    9.0       CB              England\n",
       "14225    9.0       LM  Republic of Ireland\n",
       "14537   10.0       ST              England\n",
       "\n",
       "[4665 rows x 3 columns]"
      ]
     },
     "execution_count": 31,
     "metadata": {},
     "output_type": "execute_result"
    }
   ],
   "source": [
    "#Look at the top 25 salaries\n",
    "top25 = wPN[wPN[\"Wage\"] >= 9.0]\n",
    "top25"
   ]
  },
  {
   "cell_type": "markdown",
   "metadata": {},
   "source": [
    "There are a lot of big contracts, Messi shall live on in our data. \n",
    "\n",
    "This is a judgement call, and a borderline one at that. It would be very reasonable to exclude the outlier, and if we were analyzing things relating to the \"average\" soccer player, we would probably want to. "
   ]
  },
  {
   "cell_type": "code",
   "execution_count": 37,
   "metadata": {},
   "outputs": [
    {
     "data": {
      "image/png": "[encoded data removed]",
      "text/plain": [
       "<Figure size 432x288 with 1 Axes>"
      ]
     },
     "metadata": {
      "needs_background": "light"
     },
     "output_type": "display_data"
    }
   ],
   "source": [
    "#Graph the wage on its own.\n",
    "wPNHist = thinkstats2.Hist(round(wPN[\"Wage\"],-1))\n",
    "thinkplot.Hist(wPNHist)\n"
   ]
  },
  {
   "cell_type": "markdown",
   "metadata": {},
   "source": [
    "##### Test for Normality\n",
    "\n",
    "We can see that our original data is not normal at all, it is highly skewed. Adding a transformation may help us out - we can see if our data fits a lognormal distribution. "
   ]
  },
  {
   "cell_type": "code",
   "execution_count": 38,
   "metadata": {},
   "outputs": [
    {
     "name": "stderr",
     "output_type": "stream",
     "text": [
      "c:\\Users\\atrsy\\anaconda3\\lib\\site-packages\\pandas\\core\\arraylike.py:397: RuntimeWarning: divide by zero encountered in log\n",
      "  result = getattr(ufunc, method)(*inputs, **kwargs)\n",
      "c:\\Users\\atrsy\\Documents\\NAIT\\Data Analytics\\DATA 3450 - Statistics for ML\\DATA 3450 Git Repositories\\Basic_Stats_in_Python_Student_Workbooks\\thinkstats2.py:2450: RuntimeWarning: invalid value encountered in subtract\n",
      "  ds = xs - mu\n"
     ]
    },
    {
     "data": {
      "image/png": "[encoded data removed]",
      "text/plain": [
       "<Figure size 432x288 with 1 Axes>"
      ]
     },
     "metadata": {
      "needs_background": "light"
     },
     "output_type": "display_data"
    }
   ],
   "source": [
    "#Pareto Visual Test\n",
    "thinkstats2.NormalProbabilityPlot(np.log(wPN[\"Wage\"]))"
   ]
  },
  {
   "cell_type": "markdown",
   "metadata": {},
   "source": [
    "Looks very clustered at the start. Maybe a pareto dist?\n",
    "\n",
    "I'm going take a quick look at the distribution and zoom in on the start, with the lower salaries before going forward. "
   ]
  },
  {
   "cell_type": "code",
   "execution_count": 39,
   "metadata": {},
   "outputs": [
    {
     "name": "stdout",
     "output_type": "stream",
     "text": [
      "0.2823639259625419\n",
      "0.7793156478277585\n",
      "0.8823529411764706\n"
     ]
    }
   ],
   "source": [
    "#See how many contratcts are....\n",
    "cdf2 = thinkstats2.Cdf(wPN[\"Wage\"])\n",
    "#Less than 1 million\n",
    "print(cdf2.Prob(1))\n",
    "#Less than 10 million\n",
    "print(cdf2.Prob(10))\n",
    "#Less than 20 million\n",
    "print(cdf2.Prob(20))"
   ]
  },
  {
   "cell_type": "code",
   "execution_count": 44,
   "metadata": {},
   "outputs": [
    {
     "data": {
      "image/png": "[encoded data removed]",
      "text/plain": [
       "<Figure size 432x288 with 1 Axes>"
      ]
     },
     "metadata": {
      "needs_background": "light"
     },
     "output_type": "display_data"
    }
   ],
   "source": [
    "# Take a more detailed look at the lower salaries. \n",
    "# Decide what to do here - stats, visualize, divide data, etc...\n",
    "lowWage = wPN[wPN[\"Wage\"] <= 20]\n",
    "lowHist = thinkstats2.Hist(lowWage[\"Wage\"])\n",
    "thinkplot.Pmf(lowHist)"
   ]
  },
  {
   "cell_type": "markdown",
   "metadata": {},
   "source": [
    "##### Interim Conclusions\n",
    "\n",
    "Based off of all this I can probably conclude that the vast majority of players have relatively \"small\" contracts, and there's a trickle of richer people. \n",
    "\n",
    "Quick look at the hight salaries..."
   ]
  },
  {
   "cell_type": "code",
   "execution_count": 48,
   "metadata": {},
   "outputs": [
    {
     "data": {
      "image/png": "[encoded data removed]",
      "text/plain": [
       "<Figure size 432x288 with 1 Axes>"
      ]
     },
     "metadata": {
      "needs_background": "light"
     },
     "output_type": "display_data"
    }
   ],
   "source": [
    "#Take a quick look at the high salaries. \n",
    "topWage = wPN[wPN[\"Wage\"] >= 100]\n",
    "topHist = thinkstats2.Hist(topWage[\"Wage\"])\n",
    "thinkplot.Pmf(topHist)"
   ]
  },
  {
   "cell_type": "markdown",
   "metadata": {},
   "source": [
    "#### Investigating the Impact of Other Variables\n",
    "\n",
    "We were asked to look at position and nationality, so we can examine that and see if that impacts wages\n",
    "This part isn't super straightforward, since both nationality and position have lots of options, ealistically, this requires some open ended thought, and probably a little research.\n",
    "\n",
    "My first idea is to calculate the mean (and maybe other stats) for each position or each nationality. I need to figure out how to take all goalies, calculate metrics, then take all defenders, calculate metrics, etc....\n",
    "Or something along those lines, there are a lot of ways to address a querstion like this..."
   ]
  },
  {
   "cell_type": "markdown",
   "metadata": {},
   "source": [
    "##### Using Grouping\n",
    "\n",
    "The groupby function allows us to segment a dataframe along different lines, and do things like calculate statistics. If we don't need to truly treat our data as separate groups multiple times, this may be easier than splitting the data into multiple dataframes. "
   ]
  },
  {
   "cell_type": "code",
   "execution_count": 54,
   "metadata": {},
   "outputs": [
    {
     "name": "stdout",
     "output_type": "stream",
     "text": [
      "          Wage\n",
      "Position      \n",
      "CB         2.0\n",
      "CM         2.0\n",
      "GK         2.0\n",
      "RWB        2.0\n",
      "CAM        3.0\n",
      "RM         3.0\n",
      "RB         3.0\n",
      "LWB        3.0\n",
      "LW         3.0\n",
      "ST         3.0\n",
      "CDM        3.0\n",
      "LB         3.0\n",
      "CF         3.0\n",
      "LDM        4.0\n",
      "RW         4.0\n",
      "RCM        4.0\n",
      "RCB        4.0\n",
      "LCB        4.0\n",
      "LM         4.0\n",
      "LCM        5.0\n",
      "RDM        5.5\n",
      "RS         6.0\n",
      "LS         6.0\n",
      "LF         9.0\n",
      "LAM       10.0\n",
      "RF        11.5\n",
      "RAM       12.0\n"
     ]
    }
   ],
   "source": [
    "# We could write a loop, but that is more work.\n",
    "# The groupby function does it for us, we say how we want it grouped, and add the calculation for each group. \n",
    "# We can do this once for each metric we care about, then put the results into a new dataframe.\n",
    "# E.g. grouping example:\n",
    "posWages = wPN.groupby(by=\"Position\").mean()\n",
    "posStd = wPN.groupby(by=\"Position\").std()\n",
    "posMed = wPN.groupby(by=\"Position\").median()\n",
    "\n",
    "print(posMed.sort_values(by='Wage'))\n"
   ]
  },
  {
   "cell_type": "markdown",
   "metadata": {},
   "source": [
    "##### Salaries by Position\n",
    "\n",
    "I googled soccer positions and got: https://yoursoccerhome.com/soccer-position-abbreviations-what-do-they-all-mean/\n",
    "\n",
    "I can reasonably conclude that it looks like midfielders and forwards make the most money. More specifically the highest paid players are forwards - this is largely from the higher median vs mean. It appears that it pays to be closer to the opponent's net than your own. "
   ]
  },
  {
   "cell_type": "markdown",
   "metadata": {},
   "source": [
    "##### Group by Nationality\n",
    "\n",
    "We can do a similar analysis by looking at the data by the nationality as the group-by dimension. "
   ]
  },
  {
   "cell_type": "code",
   "execution_count": 58,
   "metadata": {},
   "outputs": [
    {
     "name": "stdout",
     "output_type": "stream",
     "text": [
      "                           Wage\n",
      "Nationality                    \n",
      "India                  0.000000\n",
      "Bolivia                0.833333\n",
      "Ethiopia               1.000000\n",
      "Indonesia              1.000000\n",
      "Andorra                1.000000\n",
      "...                         ...\n",
      "Croatia               21.682540\n",
      "Armenia               22.000000\n",
      "Gabon                 26.933333\n",
      "United Arab Emirates  39.000000\n",
      "Dominican Republic    71.000000\n",
      "\n",
      "[164 rows x 1 columns]\n"
     ]
    }
   ],
   "source": [
    "#Same deal for nationality. \n",
    "natWages = wPN.groupby(by=\"Nationality\").mean()\n",
    "natStd = wPN.groupby(by=\"Nationality\").std()\n",
    "natMed = wPN.groupby(by=\"Nationality\").median()\n",
    "\n",
    "print(natWages.sort_values(by=\"Wage\"))"
   ]
  },
  {
   "cell_type": "markdown",
   "metadata": {},
   "source": [
    "We can also group by more than one thing, if desired. "
   ]
  },
  {
   "cell_type": "code",
   "execution_count": 62,
   "metadata": {},
   "outputs": [
    {
     "name": "stdout",
     "output_type": "stream",
     "text": [
      "        Wage Position  Nationality\n",
      "17008    0.0      LDM     Bulgaria\n",
      "1933     0.0      CAM  Ivory Coast\n",
      "1907     0.0      LCB     Slovenia\n",
      "1902     0.0       LM         Peru\n",
      "2514     0.0       LM     Paraguay\n",
      "...      ...      ...          ...\n",
      "8      380.0      RCB        Spain\n",
      "1      405.0       ST     Portugal\n",
      "6      420.0      RCM      Croatia\n",
      "7      455.0       RS      Uruguay\n",
      "0      565.0       RF    Argentina\n",
      "\n",
      "[4012 rows x 3 columns]\n"
     ]
    }
   ],
   "source": [
    "# Example:\n",
    "posnat = wPN.groupby(by=[\"Position\", \"Wage\"])\n",
    "print(posnat.head().sort_values(by=\"Wage\"))"
   ]
  },
  {
   "cell_type": "markdown",
   "metadata": {},
   "source": [
    "And even do a crosstab if we want to get crazy..."
   ]
  },
  {
   "cell_type": "code",
   "execution_count": 103,
   "metadata": {},
   "outputs": [
    {
     "data": {
      "text/html": [
       "<div>\n",
       "<style scoped>\n",
       "    .dataframe tbody tr th:only-of-type {\n",
       "        vertical-align: middle;\n",
       "    }\n",
       "\n",
       "    .dataframe tbody tr th {\n",
       "        vertical-align: top;\n",
       "    }\n",
       "\n",
       "    .dataframe thead th {\n",
       "        text-align: right;\n",
       "    }\n",
       "</style>\n",
       "<table border=\"1\" class=\"dataframe\">\n",
       "  <thead>\n",
       "    <tr style=\"text-align: right;\">\n",
       "      <th>Position</th>\n",
       "      <th>CAM</th>\n",
       "      <th>CB</th>\n",
       "      <th>CDM</th>\n",
       "      <th>CF</th>\n",
       "      <th>CM</th>\n",
       "      <th>GK</th>\n",
       "      <th>LAM</th>\n",
       "      <th>LB</th>\n",
       "      <th>LCB</th>\n",
       "      <th>LCM</th>\n",
       "      <th>...</th>\n",
       "      <th>RB</th>\n",
       "      <th>RCB</th>\n",
       "      <th>RCM</th>\n",
       "      <th>RDM</th>\n",
       "      <th>RF</th>\n",
       "      <th>RM</th>\n",
       "      <th>RS</th>\n",
       "      <th>RW</th>\n",
       "      <th>RWB</th>\n",
       "      <th>ST</th>\n",
       "    </tr>\n",
       "    <tr>\n",
       "      <th>Nationality</th>\n",
       "      <th></th>\n",
       "      <th></th>\n",
       "      <th></th>\n",
       "      <th></th>\n",
       "      <th></th>\n",
       "      <th></th>\n",
       "      <th></th>\n",
       "      <th></th>\n",
       "      <th></th>\n",
       "      <th></th>\n",
       "      <th></th>\n",
       "      <th></th>\n",
       "      <th></th>\n",
       "      <th></th>\n",
       "      <th></th>\n",
       "      <th></th>\n",
       "      <th></th>\n",
       "      <th></th>\n",
       "      <th></th>\n",
       "      <th></th>\n",
       "      <th></th>\n",
       "    </tr>\n",
       "  </thead>\n",
       "  <tbody>\n",
       "    <tr>\n",
       "      <th>Afghanistan</th>\n",
       "      <td>1.0</td>\n",
       "      <td>NaN</td>\n",
       "      <td>NaN</td>\n",
       "      <td>NaN</td>\n",
       "      <td>2.0</td>\n",
       "      <td>NaN</td>\n",
       "      <td>NaN</td>\n",
       "      <td>1.0</td>\n",
       "      <td>NaN</td>\n",
       "      <td>NaN</td>\n",
       "      <td>...</td>\n",
       "      <td>NaN</td>\n",
       "      <td>NaN</td>\n",
       "      <td>NaN</td>\n",
       "      <td>NaN</td>\n",
       "      <td>NaN</td>\n",
       "      <td>NaN</td>\n",
       "      <td>NaN</td>\n",
       "      <td>NaN</td>\n",
       "      <td>NaN</td>\n",
       "      <td>NaN</td>\n",
       "    </tr>\n",
       "    <tr>\n",
       "      <th>Albania</th>\n",
       "      <td>2.0</td>\n",
       "      <td>7.0</td>\n",
       "      <td>10.0</td>\n",
       "      <td>NaN</td>\n",
       "      <td>2.0</td>\n",
       "      <td>18.0</td>\n",
       "      <td>NaN</td>\n",
       "      <td>1.0</td>\n",
       "      <td>NaN</td>\n",
       "      <td>4.0</td>\n",
       "      <td>...</td>\n",
       "      <td>6.0</td>\n",
       "      <td>2.0</td>\n",
       "      <td>1.0</td>\n",
       "      <td>NaN</td>\n",
       "      <td>NaN</td>\n",
       "      <td>2.0</td>\n",
       "      <td>7.0</td>\n",
       "      <td>10.0</td>\n",
       "      <td>NaN</td>\n",
       "      <td>13.0</td>\n",
       "    </tr>\n",
       "    <tr>\n",
       "      <th>Algeria</th>\n",
       "      <td>16.0</td>\n",
       "      <td>6.0</td>\n",
       "      <td>6.0</td>\n",
       "      <td>NaN</td>\n",
       "      <td>7.0</td>\n",
       "      <td>4.0</td>\n",
       "      <td>NaN</td>\n",
       "      <td>18.0</td>\n",
       "      <td>6.0</td>\n",
       "      <td>30.0</td>\n",
       "      <td>...</td>\n",
       "      <td>1.0</td>\n",
       "      <td>16.0</td>\n",
       "      <td>2.0</td>\n",
       "      <td>10.0</td>\n",
       "      <td>NaN</td>\n",
       "      <td>30.0</td>\n",
       "      <td>NaN</td>\n",
       "      <td>7.0</td>\n",
       "      <td>19.0</td>\n",
       "      <td>15.0</td>\n",
       "    </tr>\n",
       "    <tr>\n",
       "      <th>Andorra</th>\n",
       "      <td>NaN</td>\n",
       "      <td>1.0</td>\n",
       "      <td>NaN</td>\n",
       "      <td>NaN</td>\n",
       "      <td>NaN</td>\n",
       "      <td>NaN</td>\n",
       "      <td>NaN</td>\n",
       "      <td>NaN</td>\n",
       "      <td>NaN</td>\n",
       "      <td>NaN</td>\n",
       "      <td>...</td>\n",
       "      <td>NaN</td>\n",
       "      <td>NaN</td>\n",
       "      <td>NaN</td>\n",
       "      <td>NaN</td>\n",
       "      <td>NaN</td>\n",
       "      <td>NaN</td>\n",
       "      <td>NaN</td>\n",
       "      <td>NaN</td>\n",
       "      <td>NaN</td>\n",
       "      <td>NaN</td>\n",
       "    </tr>\n",
       "    <tr>\n",
       "      <th>Angola</th>\n",
       "      <td>NaN</td>\n",
       "      <td>44.0</td>\n",
       "      <td>NaN</td>\n",
       "      <td>NaN</td>\n",
       "      <td>NaN</td>\n",
       "      <td>NaN</td>\n",
       "      <td>NaN</td>\n",
       "      <td>6.0</td>\n",
       "      <td>3.0</td>\n",
       "      <td>NaN</td>\n",
       "      <td>...</td>\n",
       "      <td>NaN</td>\n",
       "      <td>2.0</td>\n",
       "      <td>NaN</td>\n",
       "      <td>NaN</td>\n",
       "      <td>NaN</td>\n",
       "      <td>1.0</td>\n",
       "      <td>2.0</td>\n",
       "      <td>NaN</td>\n",
       "      <td>NaN</td>\n",
       "      <td>5.0</td>\n",
       "    </tr>\n",
       "    <tr>\n",
       "      <th>...</th>\n",
       "      <td>...</td>\n",
       "      <td>...</td>\n",
       "      <td>...</td>\n",
       "      <td>...</td>\n",
       "      <td>...</td>\n",
       "      <td>...</td>\n",
       "      <td>...</td>\n",
       "      <td>...</td>\n",
       "      <td>...</td>\n",
       "      <td>...</td>\n",
       "      <td>...</td>\n",
       "      <td>...</td>\n",
       "      <td>...</td>\n",
       "      <td>...</td>\n",
       "      <td>...</td>\n",
       "      <td>...</td>\n",
       "      <td>...</td>\n",
       "      <td>...</td>\n",
       "      <td>...</td>\n",
       "      <td>...</td>\n",
       "      <td>...</td>\n",
       "    </tr>\n",
       "    <tr>\n",
       "      <th>Uzbekistan</th>\n",
       "      <td>NaN</td>\n",
       "      <td>NaN</td>\n",
       "      <td>NaN</td>\n",
       "      <td>NaN</td>\n",
       "      <td>9.0</td>\n",
       "      <td>NaN</td>\n",
       "      <td>NaN</td>\n",
       "      <td>NaN</td>\n",
       "      <td>NaN</td>\n",
       "      <td>NaN</td>\n",
       "      <td>...</td>\n",
       "      <td>NaN</td>\n",
       "      <td>NaN</td>\n",
       "      <td>NaN</td>\n",
       "      <td>NaN</td>\n",
       "      <td>NaN</td>\n",
       "      <td>NaN</td>\n",
       "      <td>NaN</td>\n",
       "      <td>NaN</td>\n",
       "      <td>NaN</td>\n",
       "      <td>NaN</td>\n",
       "    </tr>\n",
       "    <tr>\n",
       "      <th>Venezuela</th>\n",
       "      <td>3.0</td>\n",
       "      <td>4.0</td>\n",
       "      <td>3.0</td>\n",
       "      <td>NaN</td>\n",
       "      <td>1.0</td>\n",
       "      <td>2.0</td>\n",
       "      <td>NaN</td>\n",
       "      <td>1.0</td>\n",
       "      <td>NaN</td>\n",
       "      <td>NaN</td>\n",
       "      <td>...</td>\n",
       "      <td>4.0</td>\n",
       "      <td>5.0</td>\n",
       "      <td>NaN</td>\n",
       "      <td>NaN</td>\n",
       "      <td>NaN</td>\n",
       "      <td>3.0</td>\n",
       "      <td>22.0</td>\n",
       "      <td>2.0</td>\n",
       "      <td>NaN</td>\n",
       "      <td>3.0</td>\n",
       "    </tr>\n",
       "    <tr>\n",
       "      <th>Wales</th>\n",
       "      <td>19.0</td>\n",
       "      <td>3.0</td>\n",
       "      <td>10.0</td>\n",
       "      <td>NaN</td>\n",
       "      <td>5.0</td>\n",
       "      <td>2.0</td>\n",
       "      <td>NaN</td>\n",
       "      <td>4.0</td>\n",
       "      <td>6.0</td>\n",
       "      <td>3.0</td>\n",
       "      <td>...</td>\n",
       "      <td>3.0</td>\n",
       "      <td>4.0</td>\n",
       "      <td>3.0</td>\n",
       "      <td>4.0</td>\n",
       "      <td>NaN</td>\n",
       "      <td>4.0</td>\n",
       "      <td>5.0</td>\n",
       "      <td>25.0</td>\n",
       "      <td>3.0</td>\n",
       "      <td>5.0</td>\n",
       "    </tr>\n",
       "    <tr>\n",
       "      <th>Zambia</th>\n",
       "      <td>3.0</td>\n",
       "      <td>NaN</td>\n",
       "      <td>NaN</td>\n",
       "      <td>NaN</td>\n",
       "      <td>6.0</td>\n",
       "      <td>NaN</td>\n",
       "      <td>4.0</td>\n",
       "      <td>NaN</td>\n",
       "      <td>NaN</td>\n",
       "      <td>NaN</td>\n",
       "      <td>...</td>\n",
       "      <td>NaN</td>\n",
       "      <td>7.0</td>\n",
       "      <td>NaN</td>\n",
       "      <td>NaN</td>\n",
       "      <td>NaN</td>\n",
       "      <td>NaN</td>\n",
       "      <td>NaN</td>\n",
       "      <td>1.0</td>\n",
       "      <td>NaN</td>\n",
       "      <td>2.0</td>\n",
       "    </tr>\n",
       "    <tr>\n",
       "      <th>Zimbabwe</th>\n",
       "      <td>NaN</td>\n",
       "      <td>1.0</td>\n",
       "      <td>NaN</td>\n",
       "      <td>15.0</td>\n",
       "      <td>NaN</td>\n",
       "      <td>NaN</td>\n",
       "      <td>NaN</td>\n",
       "      <td>2.0</td>\n",
       "      <td>NaN</td>\n",
       "      <td>20.0</td>\n",
       "      <td>...</td>\n",
       "      <td>27.0</td>\n",
       "      <td>NaN</td>\n",
       "      <td>1.0</td>\n",
       "      <td>NaN</td>\n",
       "      <td>NaN</td>\n",
       "      <td>NaN</td>\n",
       "      <td>1.0</td>\n",
       "      <td>NaN</td>\n",
       "      <td>NaN</td>\n",
       "      <td>5.0</td>\n",
       "    </tr>\n",
       "  </tbody>\n",
       "</table>\n",
       "<p>163 rows × 27 columns</p>\n",
       "</div>"
      ],
      "text/plain": [
       "Position      CAM    CB   CDM    CF   CM    GK  LAM    LB  LCB   LCM  ...  \\\n",
       "Nationality                                                           ...   \n",
       "Afghanistan   1.0   NaN   NaN   NaN  2.0   NaN  NaN   1.0  NaN   NaN  ...   \n",
       "Albania       2.0   7.0  10.0   NaN  2.0  18.0  NaN   1.0  NaN   4.0  ...   \n",
       "Algeria      16.0   6.0   6.0   NaN  7.0   4.0  NaN  18.0  6.0  30.0  ...   \n",
       "Andorra       NaN   1.0   NaN   NaN  NaN   NaN  NaN   NaN  NaN   NaN  ...   \n",
       "Angola        NaN  44.0   NaN   NaN  NaN   NaN  NaN   6.0  3.0   NaN  ...   \n",
       "...           ...   ...   ...   ...  ...   ...  ...   ...  ...   ...  ...   \n",
       "Uzbekistan    NaN   NaN   NaN   NaN  9.0   NaN  NaN   NaN  NaN   NaN  ...   \n",
       "Venezuela     3.0   4.0   3.0   NaN  1.0   2.0  NaN   1.0  NaN   NaN  ...   \n",
       "Wales        19.0   3.0  10.0   NaN  5.0   2.0  NaN   4.0  6.0   3.0  ...   \n",
       "Zambia        3.0   NaN   NaN   NaN  6.0   NaN  4.0   NaN  NaN   NaN  ...   \n",
       "Zimbabwe      NaN   1.0   NaN  15.0  NaN   NaN  NaN   2.0  NaN  20.0  ...   \n",
       "\n",
       "Position       RB   RCB  RCM   RDM  RF    RM    RS    RW   RWB    ST  \n",
       "Nationality                                                           \n",
       "Afghanistan   NaN   NaN  NaN   NaN NaN   NaN   NaN   NaN   NaN   NaN  \n",
       "Albania       6.0   2.0  1.0   NaN NaN   2.0   7.0  10.0   NaN  13.0  \n",
       "Algeria       1.0  16.0  2.0  10.0 NaN  30.0   NaN   7.0  19.0  15.0  \n",
       "Andorra       NaN   NaN  NaN   NaN NaN   NaN   NaN   NaN   NaN   NaN  \n",
       "Angola        NaN   2.0  NaN   NaN NaN   1.0   2.0   NaN   NaN   5.0  \n",
       "...           ...   ...  ...   ...  ..   ...   ...   ...   ...   ...  \n",
       "Uzbekistan    NaN   NaN  NaN   NaN NaN   NaN   NaN   NaN   NaN   NaN  \n",
       "Venezuela     4.0   5.0  NaN   NaN NaN   3.0  22.0   2.0   NaN   3.0  \n",
       "Wales         3.0   4.0  3.0   4.0 NaN   4.0   5.0  25.0   3.0   5.0  \n",
       "Zambia        NaN   7.0  NaN   NaN NaN   NaN   NaN   1.0   NaN   2.0  \n",
       "Zimbabwe     27.0   NaN  1.0   NaN NaN   NaN   1.0   NaN   NaN   5.0  \n",
       "\n",
       "[163 rows x 27 columns]"
      ]
     },
     "execution_count": 103,
     "metadata": {},
     "output_type": "execute_result"
    }
   ],
   "source": [
    "# Example:\n",
    "# pd.crosstab(df3[\"Nationality\"], df3[\"Position\"], values=df3[\"Wage\"], aggfunc=\"median\").round()"
   ]
  },
  {
   "cell_type": "markdown",
   "metadata": {},
   "source": [
    "##### Salaries by Nationality\n",
    "\n",
    "The nationality thing is a little harder to draw solid inferences from. Countries that have a low number of players are highly variable - one or two really highly paid stars can shift the metrics - e.g. look at the std for Gabon. (More Gabon below). We can see one stand-out in Brazil, having an extremely high mean and median salary with a very large sample size - Viva Brazil!\n",
    "\n",
    "We'd probably need to cut it down even futher to countries that have a large number of players to get an actual trend worth analyzing. Doing that makes things look more like we may expect - big time soccer countries have lots of highly paid players. When a country is represented by only a handful of salaries the sample is just too small, and we really only see the differences between those players rather than the groups. \n",
    "\n",
    "One thing to note here is that it appears that the wealth is, comparatively, spread all over the globe. Small and less developed countries seem to have more big ballers than we may initially expect. "
   ]
  },
  {
   "cell_type": "markdown",
   "metadata": {},
   "source": [
    "##### Deep Dive on Gabon"
   ]
  },
  {
   "cell_type": "code",
   "execution_count": 74,
   "metadata": {},
   "outputs": [
    {
     "data": {
      "text/plain": [
       "ID                                245454\n",
       "Name                            W. Ebane\n",
       "Age                                   35\n",
       "Nationality                        Gabon\n",
       "Overall                               88\n",
       "Potential                             88\n",
       "Club                        Sparta Praha\n",
       "Value                            59000.0\n",
       "Wage                               265.0\n",
       "Preferred Foot                     Right\n",
       "International Reputation             3.0\n",
       "Skill Moves                          4.0\n",
       "Position                              ST\n",
       "Joined                              2018\n",
       "Contract Valid Until          2023-01-01\n",
       "Height                          6.166667\n",
       "Weight                             190.0\n",
       "Release Clause                  112100.0\n",
       "dtype: object"
      ]
     },
     "execution_count": 74,
     "metadata": {},
     "output_type": "execute_result"
    }
   ],
   "source": [
    "#Look at Gabon for an example of the wide varaibility of wages. \n",
    "# E.g. print the dataframe, filtered to see only Gabon, and show the highest wages\n",
    "# df2[df2[\"Nationality\"]==\"Gabon\"].head(15)\n",
    "\n",
    "df2[df2[\"Nationality\"] == \"Gabon\"].max()"
   ]
  },
  {
   "cell_type": "markdown",
   "metadata": {},
   "source": [
    "##### Large Countries\n",
    "\n",
    "If we filter down the countries to only those with over 200 people we would probably be able to use this subset to analyze some more trends. We could plot distribution visualizations and compare between populations with this data with a much greater degree of reliability. "
   ]
  },
  {
   "cell_type": "code",
   "execution_count": 92,
   "metadata": {},
   "outputs": [
    {
     "data": {
      "text/plain": [
       "<pandas.core.groupby.generic.DataFrameGroupBy object at 0x000002394E30FFD0>"
      ]
     },
     "execution_count": 92,
     "metadata": {},
     "output_type": "execute_result"
    }
   ],
   "source": [
    "# Look at wage data for those countries with >200 players. \n",
    "\n"
   ]
  }
 ],
 "metadata": {
  "kernelspec": {
   "display_name": "Python 3.9.12 ('base')",
   "language": "python",
   "name": "python3"
  },
  "language_info": {
   "codemirror_mode": {
    "name": "ipython",
    "version": 3
   },
   "file_extension": ".py",
   "mimetype": "text/x-python",
   "name": "python",
   "nbconvert_exporter": "python",
   "pygments_lexer": "ipython3",
   "version": "3.9.12"
  },
  "orig_nbformat": 4,
  "vscode": {
   "interpreter": {
    "hash": "1e1be0c565fc6ceb354f856a5b5bd946923d5e000f9c5ccf57138e681b445cb2"
   }
  }
 },
 "nbformat": 4,
 "nbformat_minor": 2
}
